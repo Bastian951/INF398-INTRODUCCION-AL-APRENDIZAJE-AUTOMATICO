{
  "cells": [
    {
      "cell_type": "markdown",
      "metadata": {
        "id": "ojBlRMp8KE7B"
      },
      "source": [
        "<img src=\"https://www.inf.utfsm.cl/images/slides/Departamento-de-Informtica_HORIZONTAL.png\" title=\"Title text\" width=\"80%\" />\n",
        "\n",
        "<hr style=\"height:2px;border:none\"/>\n",
        "<h1 align='center'> INF-398/578 Introducción al aprendizaje automático</h1>\n",
        "\n",
        "<h4 align='center'><b>Tarea 1: Conceptos básicos y preparación para desafíos.</b></h4>\n",
        "\n",
        "\n",
        "<h6 align='center'><b>Profesor:</b> Carlos Valle</h6>\n",
        "<h6 align='center'><b>Ayudante:</b> Jean Aravena</h6>\n",
        "\n",
        "\n",
        "\n",
        "<hr style=\"height:2px;border:none\"/>\n",
        "\n",
        "# **Tarea 1 📃**\n",
        "\n",
        "## **Temas**  \n",
        "\n",
        "* Manipulación básica de datos.\n",
        "* EDA.\n",
        "* Modelos clásicos.\n",
        "* Feature Engineer.\n",
        "* Feature Selection.\n",
        "* Dimensionality Reduction.\n",
        "\n",
        "\n",
        "## **Formalidades** \n",
        "\n",
        "* Equipos de trabajo de 2 personas.\n",
        "* El entregable debe ser este mismo Jupyter Notebook incluyendo todos los resultados, los gráficos realizados y las respuestas a las preguntas. \n",
        "* Se debe preparar una presentación del trabajo realizado y sus hallazgos. El presentador será elegido aleatoriamente y deberá apoyarse en el Jupyter Notebook que entregarán.\n",
        "* Formato de entrega: Subir a aula el Jupyter Notebook con el nombre NombreGrupo_Tarea_1_ML_2022_1\n",
        "* Fecha de entrega y presentaciones: 6 de Mayo. Hora límite de entrega: 12:00.\n",
        " \n",
        "\n",
        "<hr style=\"height:2px;border:none\"/>\n",
        "\n",
        "La tarea se divide en 2 partes:\n",
        "\n",
        "1.   Un pequeño review guiado.\n",
        "2.   Practica del review.\n",
        "\n",
        "\n",
        "La tarea tiene ejemplos de códigos con los cuales pueden guiarse en gran parte, sin embargo, solo son guías y pueden ser creativos al momento de resolver la tarea. También en algunas ocasiones se hacen elecciones arbitrarias, ustedes pueden realizar otras elecciones con tal de que haya una pequeña justificación de por qué su elección es mejor o equivalente.\n",
        "\n",
        "Recuerden intercalar su código con comentarios y utilizar celdas Markdown en caso de que sea necesario para realizar análisis, escribir fórmulas o realizar explicaciones que les parezca relevante para justificar sus procedimientos. \n",
        "\n",
        "Noten que en general cuando se les pide elegir algo o proponer algo no se evaluará mucho la elección en sí, en cambio la argumentación detrás de la elección será lo más ponderado.\n",
        "\n",
        "*Se recomienda el uso de Google Colab para realizar la tarea.*"
      ]
    },
    {
      "cell_type": "markdown",
      "source": [
        "# Librerias 📚\n",
        " "
      ],
      "metadata": {
        "id": "haJIF-399bR6"
      }
    },
    {
      "cell_type": "code",
      "source": [
        "import os\n",
        "import warnings\n",
        "import numpy as np\n",
        "import pandas as pd\n",
        "import seaborn as sns\n",
        "import matplotlib.pyplot as plt\n",
        "from sklearn.model_selection import KFold\n",
        "from sklearn.model_selection import cross_val_score \n",
        "from sklearn.model_selection import train_test_split\n",
        "from sklearn.model_selection import PredefinedSplit\n",
        "from sklearn.model_selection import RandomizedSearchCV\n",
        "from sklearn.metrics import confusion_matrix\n",
        "from sklearn.metrics import ConfusionMatrixDisplay\n",
        "from sklearn.naive_bayes import BernoulliNB\n",
        "from sklearn.linear_model import LogisticRegression\n",
        "from sklearn.linear_model import LinearRegression\n",
        "from sklearn.linear_model import Lasso\n",
        "from sklearn.linear_model import Ridge\n",
        "from sklearn.svm import SVC\n",
        "from sklearn.svm import LinearSVC\n",
        "from sklearn.svm import LinearSVR\n",
        "from sklearn.metrics import accuracy_score\n",
        "from sklearn.metrics import roc_auc_score\n",
        "from sklearn.metrics import precision_score\n",
        "from sklearn.metrics import recall_score\n",
        "from sklearn.metrics import f1_score\n",
        "from sklearn.metrics import median_absolute_error\n",
        "from sklearn.metrics import mean_absolute_error\n",
        "from sklearn.metrics import mean_squared_error\n",
        "from sklearn.feature_selection import RFE\n",
        "from sklearn.feature_selection import SequentialFeatureSelector\n",
        "from sklearn.feature_selection import mutual_info_classif\n",
        "from sklearn.feature_selection import SelectKBest\n",
        "from sklearn.feature_selection import SelectFromModel\n",
        "from sklearn.feature_selection import f_classif\n",
        "from sklearn.preprocessing import StandardScaler\n",
        "from sklearn.preprocessing import MinMaxScaler\n",
        "from sklearn.preprocessing import LabelEncoder\n",
        "from sklearn.preprocessing import OrdinalEncoder\n",
        "from sklearn.decomposition import PCA\n",
        "from sklearn.discriminant_analysis import LinearDiscriminantAnalysis as LDA\n",
        "\n",
        "sns.set_theme()\n",
        "warnings.filterwarnings('ignore')"
      ],
      "metadata": {
        "id": "DC5u2mMq9fGq"
      },
      "execution_count": null,
      "outputs": []
    },
    {
      "cell_type": "markdown",
      "source": [
        "# Utils ⚙️  "
      ],
      "metadata": {
        "id": "UEDqTItu9ej2"
      }
    },
    {
      "cell_type": "code",
      "source": [
        "print(\"Mounting your Google Drive ...\")\n",
        "\n",
        "from google.colab import drive\n",
        "drive.flush_and_unmount()\n",
        "drive.mount('/content/drive', force_remount=True)\n",
        "\n",
        "# Path to your folder\n",
        "path = '/content/drive/MyDrive/Machine Learning/Data'"
      ],
      "metadata": {
        "colab": {
          "base_uri": "https://localhost:8080/"
        },
        "id": "RiCY23E-9mVQ",
        "outputId": "406fcc36-4dd0-4cda-fa6a-94377b93c0cf"
      },
      "execution_count": null,
      "outputs": [
        {
          "output_type": "stream",
          "name": "stdout",
          "text": [
            "Mounting your Google Drive ...\n",
            "Drive not mounted, so nothing to flush and unmount.\n",
            "Mounted at /content/drive\n"
          ]
        }
      ]
    },
    {
      "cell_type": "code",
      "source": [
        "# Set all seed.\n",
        "def set_all_seed(seed=0):\n",
        "  \"\"\"Set the same seed for all the libraries that we use.\"\"\"\n",
        "  np.random.seed(seed)\n",
        "\n",
        "# Elegir cualquier semilla y siempre que se pueda utilizarla\n",
        "# random_state = SEED\n",
        "SEED = 2022\n",
        "\n",
        "set_all_seed(seed=SEED)"
      ],
      "metadata": {
        "id": "DLo2nGNfFI6x"
      },
      "execution_count": null,
      "outputs": []
    },
    {
      "cell_type": "markdown",
      "source": [
        "**¿Por qué le asignamos un valor a la semilla antes de empezar a trabajar en la tarea?** [5 Pts]"
      ],
      "metadata": {
        "id": "vbQ5vswEFVva"
      }
    },
    {
      "cell_type": "markdown",
      "source": [
        "`Respuesta`: "
      ],
      "metadata": {
        "id": "F8zaRqG8FpEK"
      }
    },
    {
      "cell_type": "markdown",
      "metadata": {
        "id": "u1EWslQoKE7L"
      },
      "source": [
        "# 1.1) Modelos clásicos 💣"
      ]
    },
    {
      "cell_type": "markdown",
      "source": [
        "<img src=\"https://drive.google.com/uc?id=1PoKzD6frdYWfXbEtPqXWt7s-GPMsluNI\" width=\"50%\"/>\n",
        "\n",
        "Para la primera parte de la tarea trabajaremos con una version simplificada del dataset [Bitcoin Heist Ransomware Address](https://archive.ics.uci.edu/ml/datasets/BitcoinHeistRansomwareAddressDataset) el cual viene de un repositorio publico llamado [UCI](https://archive.ics.uci.edu/ml/index.php).\n",
        "*Se recomienda ampliamente el uso de ese repositorio para comenzar a aprender sobre machine learning*."
      ],
      "metadata": {
        "id": "emLtdE8FJRjj"
      }
    },
    {
      "cell_type": "markdown",
      "source": [
        "La data corresponde a 92.588 instancias las cuales tienen relación con el grafo de transacciones de Bitcoin entre Enero de 2007 y Diciembre de 2018.\n",
        "\n",
        "Para el dataset se tienen nueve características (features) las cuales están diseñadas para identificar ciertos patrones dentro del grafo de transacciones donde la idea es predecir si la dirección pertenece a un ransomware o no:\n",
        "\n",
        "* `address`: Dirección\n",
        "* `year`: Año\n",
        "* `day`: Día del año\n",
        "* `length`: Distancia que realiza la transacción desde una dirección\n",
        "* `weight`: Peso relacionado con la cantidad de arcos que salen y entran a un nodo. Mientras se tengan más arcos de entrada y menos de salida, mayor va a ser este valor.\n",
        "* `count`: Número de transacciones realizadas desde una direccion\n",
        "* `looped`: Número de transacciones realizadas desde una direccion que tienen un loop dentro del grafo\n",
        "* `neighbors`: Cantidad de vecinos de una dirección.\n",
        "* `income`: Cantidad de bitcoin en la transacción expresada en satoshis (1 bitcoin = 100 millones de satoshis).\n",
        "\n",
        "y un target (lo que queremos predecir):\n",
        "\n",
        "* `label`: Nombre del ransomware.\n"
      ],
      "metadata": {
        "id": "lk9B_lgSNwDl"
      }
    },
    {
      "cell_type": "markdown",
      "source": [
        "## Carga de datos"
      ],
      "metadata": {
        "id": "E_rSliczEFaB"
      }
    },
    {
      "cell_type": "markdown",
      "source": [
        "Lo primero que vamos a hacer es cargar la data y explorar un poco su contenido"
      ],
      "metadata": {
        "id": "f9K1U6_mKw38"
      }
    },
    {
      "cell_type": "code",
      "source": [
        "# Cargar la data que corresponde a un csv\n",
        "PATH_TO_CSV = os.path.join(path, \"tarea_1_bitcoin.csv\")\n",
        "df_data = pd.read_csv(PATH_TO_CSV)"
      ],
      "metadata": {
        "id": "rpQlPa7yEKgd"
      },
      "execution_count": null,
      "outputs": []
    },
    {
      "cell_type": "markdown",
      "source": [
        "## Exploración de la data"
      ],
      "metadata": {
        "id": "uHHZ_EbFXo9q"
      }
    },
    {
      "cell_type": "code",
      "source": [
        "# Mostrar el numero de ejemplos que tenemos\n",
        "print(f\"Number of examples: {len(df_data)}\")\n",
        "\n",
        "# Mostrar las dimensiones de la data\n",
        "print(f\"Shape of the data: {df_data.shape}\")"
      ],
      "metadata": {
        "colab": {
          "base_uri": "https://localhost:8080/"
        },
        "id": "r-9r3HRzXOkp",
        "outputId": "192c73ba-61b8-4dda-b0a5-e6a7afdffbbf"
      },
      "execution_count": null,
      "outputs": [
        {
          "output_type": "stream",
          "name": "stdout",
          "text": [
            "Number of examples: 92588\n",
            "Shape of the data: (92588, 10)\n"
          ]
        }
      ]
    },
    {
      "cell_type": "markdown",
      "source": [
        "Como bien sabíamos existen 92.588 instancias y contamos con 10 columnas, las primeras nueve corresponden a features y la última corresponde al target"
      ],
      "metadata": {
        "id": "4NwMKaVEZT81"
      }
    },
    {
      "cell_type": "code",
      "source": [
        "# Mostrar los primeros cinco elementos de la data\n",
        "df_data.head()"
      ],
      "metadata": {
        "colab": {
          "base_uri": "https://localhost:8080/",
          "height": 206
        },
        "id": "altDLJU0TeAN",
        "outputId": "18b59410-1cba-471d-97f7-38a71006ab73"
      },
      "execution_count": null,
      "outputs": [
        {
          "output_type": "execute_result",
          "data": {
            "text/plain": [
              "                              address  year  day  length        weight  count  \\\n",
              "0  1Q4W2DaHg7WAYunf9tPknTSRWLZwHaQGJx  2013  363     120  8.243819e-01   1247   \n",
              "1  1Ae6zv8ymHdzBXMbpDu5MWLriA5ijSUZQd  2011  256      48  2.384186e-07      1   \n",
              "2  13d3wEoqVFWgHwHyoZhd1gFbL3AoHa252T  2014  108       0  1.000000e+00      1   \n",
              "3  1Dcndtg4Qunp3n2mndvkBs8VKxS3PAkPEF  2013  156       0  5.000000e-01      1   \n",
              "4  17eBib5PiFoGx8AhK4HjpZp9ANyuGRbusV  2011   21       0  5.000000e-01      1   \n",
              "\n",
              "   looped  neighbors        income               label  \n",
              "0       0          1  6.000000e+07  grouped_ransomware  \n",
              "1       0          2  2.591979e+09               white  \n",
              "2       0          1  8.727817e+07  grouped_ransomware  \n",
              "3       0          2  3.644640e+08               white  \n",
              "4       0          2  5.000000e+08               white  "
            ],
            "text/html": [
              "\n",
              "  <div id=\"df-1714f52f-3451-41a3-89a3-8a6fd37fb48d\">\n",
              "    <div class=\"colab-df-container\">\n",
              "      <div>\n",
              "<style scoped>\n",
              "    .dataframe tbody tr th:only-of-type {\n",
              "        vertical-align: middle;\n",
              "    }\n",
              "\n",
              "    .dataframe tbody tr th {\n",
              "        vertical-align: top;\n",
              "    }\n",
              "\n",
              "    .dataframe thead th {\n",
              "        text-align: right;\n",
              "    }\n",
              "</style>\n",
              "<table border=\"1\" class=\"dataframe\">\n",
              "  <thead>\n",
              "    <tr style=\"text-align: right;\">\n",
              "      <th></th>\n",
              "      <th>address</th>\n",
              "      <th>year</th>\n",
              "      <th>day</th>\n",
              "      <th>length</th>\n",
              "      <th>weight</th>\n",
              "      <th>count</th>\n",
              "      <th>looped</th>\n",
              "      <th>neighbors</th>\n",
              "      <th>income</th>\n",
              "      <th>label</th>\n",
              "    </tr>\n",
              "  </thead>\n",
              "  <tbody>\n",
              "    <tr>\n",
              "      <th>0</th>\n",
              "      <td>1Q4W2DaHg7WAYunf9tPknTSRWLZwHaQGJx</td>\n",
              "      <td>2013</td>\n",
              "      <td>363</td>\n",
              "      <td>120</td>\n",
              "      <td>8.243819e-01</td>\n",
              "      <td>1247</td>\n",
              "      <td>0</td>\n",
              "      <td>1</td>\n",
              "      <td>6.000000e+07</td>\n",
              "      <td>grouped_ransomware</td>\n",
              "    </tr>\n",
              "    <tr>\n",
              "      <th>1</th>\n",
              "      <td>1Ae6zv8ymHdzBXMbpDu5MWLriA5ijSUZQd</td>\n",
              "      <td>2011</td>\n",
              "      <td>256</td>\n",
              "      <td>48</td>\n",
              "      <td>2.384186e-07</td>\n",
              "      <td>1</td>\n",
              "      <td>0</td>\n",
              "      <td>2</td>\n",
              "      <td>2.591979e+09</td>\n",
              "      <td>white</td>\n",
              "    </tr>\n",
              "    <tr>\n",
              "      <th>2</th>\n",
              "      <td>13d3wEoqVFWgHwHyoZhd1gFbL3AoHa252T</td>\n",
              "      <td>2014</td>\n",
              "      <td>108</td>\n",
              "      <td>0</td>\n",
              "      <td>1.000000e+00</td>\n",
              "      <td>1</td>\n",
              "      <td>0</td>\n",
              "      <td>1</td>\n",
              "      <td>8.727817e+07</td>\n",
              "      <td>grouped_ransomware</td>\n",
              "    </tr>\n",
              "    <tr>\n",
              "      <th>3</th>\n",
              "      <td>1Dcndtg4Qunp3n2mndvkBs8VKxS3PAkPEF</td>\n",
              "      <td>2013</td>\n",
              "      <td>156</td>\n",
              "      <td>0</td>\n",
              "      <td>5.000000e-01</td>\n",
              "      <td>1</td>\n",
              "      <td>0</td>\n",
              "      <td>2</td>\n",
              "      <td>3.644640e+08</td>\n",
              "      <td>white</td>\n",
              "    </tr>\n",
              "    <tr>\n",
              "      <th>4</th>\n",
              "      <td>17eBib5PiFoGx8AhK4HjpZp9ANyuGRbusV</td>\n",
              "      <td>2011</td>\n",
              "      <td>21</td>\n",
              "      <td>0</td>\n",
              "      <td>5.000000e-01</td>\n",
              "      <td>1</td>\n",
              "      <td>0</td>\n",
              "      <td>2</td>\n",
              "      <td>5.000000e+08</td>\n",
              "      <td>white</td>\n",
              "    </tr>\n",
              "  </tbody>\n",
              "</table>\n",
              "</div>\n",
              "      <button class=\"colab-df-convert\" onclick=\"convertToInteractive('df-1714f52f-3451-41a3-89a3-8a6fd37fb48d')\"\n",
              "              title=\"Convert this dataframe to an interactive table.\"\n",
              "              style=\"display:none;\">\n",
              "        \n",
              "  <svg xmlns=\"http://www.w3.org/2000/svg\" height=\"24px\"viewBox=\"0 0 24 24\"\n",
              "       width=\"24px\">\n",
              "    <path d=\"M0 0h24v24H0V0z\" fill=\"none\"/>\n",
              "    <path d=\"M18.56 5.44l.94 2.06.94-2.06 2.06-.94-2.06-.94-.94-2.06-.94 2.06-2.06.94zm-11 1L8.5 8.5l.94-2.06 2.06-.94-2.06-.94L8.5 2.5l-.94 2.06-2.06.94zm10 10l.94 2.06.94-2.06 2.06-.94-2.06-.94-.94-2.06-.94 2.06-2.06.94z\"/><path d=\"M17.41 7.96l-1.37-1.37c-.4-.4-.92-.59-1.43-.59-.52 0-1.04.2-1.43.59L10.3 9.45l-7.72 7.72c-.78.78-.78 2.05 0 2.83L4 21.41c.39.39.9.59 1.41.59.51 0 1.02-.2 1.41-.59l7.78-7.78 2.81-2.81c.8-.78.8-2.07 0-2.86zM5.41 20L4 18.59l7.72-7.72 1.47 1.35L5.41 20z\"/>\n",
              "  </svg>\n",
              "      </button>\n",
              "      \n",
              "  <style>\n",
              "    .colab-df-container {\n",
              "      display:flex;\n",
              "      flex-wrap:wrap;\n",
              "      gap: 12px;\n",
              "    }\n",
              "\n",
              "    .colab-df-convert {\n",
              "      background-color: #E8F0FE;\n",
              "      border: none;\n",
              "      border-radius: 50%;\n",
              "      cursor: pointer;\n",
              "      display: none;\n",
              "      fill: #1967D2;\n",
              "      height: 32px;\n",
              "      padding: 0 0 0 0;\n",
              "      width: 32px;\n",
              "    }\n",
              "\n",
              "    .colab-df-convert:hover {\n",
              "      background-color: #E2EBFA;\n",
              "      box-shadow: 0px 1px 2px rgba(60, 64, 67, 0.3), 0px 1px 3px 1px rgba(60, 64, 67, 0.15);\n",
              "      fill: #174EA6;\n",
              "    }\n",
              "\n",
              "    [theme=dark] .colab-df-convert {\n",
              "      background-color: #3B4455;\n",
              "      fill: #D2E3FC;\n",
              "    }\n",
              "\n",
              "    [theme=dark] .colab-df-convert:hover {\n",
              "      background-color: #434B5C;\n",
              "      box-shadow: 0px 1px 3px 1px rgba(0, 0, 0, 0.15);\n",
              "      filter: drop-shadow(0px 1px 2px rgba(0, 0, 0, 0.3));\n",
              "      fill: #FFFFFF;\n",
              "    }\n",
              "  </style>\n",
              "\n",
              "      <script>\n",
              "        const buttonEl =\n",
              "          document.querySelector('#df-1714f52f-3451-41a3-89a3-8a6fd37fb48d button.colab-df-convert');\n",
              "        buttonEl.style.display =\n",
              "          google.colab.kernel.accessAllowed ? 'block' : 'none';\n",
              "\n",
              "        async function convertToInteractive(key) {\n",
              "          const element = document.querySelector('#df-1714f52f-3451-41a3-89a3-8a6fd37fb48d');\n",
              "          const dataTable =\n",
              "            await google.colab.kernel.invokeFunction('convertToInteractive',\n",
              "                                                     [key], {});\n",
              "          if (!dataTable) return;\n",
              "\n",
              "          const docLinkHtml = 'Like what you see? Visit the ' +\n",
              "            '<a target=\"_blank\" href=https://colab.research.google.com/notebooks/data_table.ipynb>data table notebook</a>'\n",
              "            + ' to learn more about interactive tables.';\n",
              "          element.innerHTML = '';\n",
              "          dataTable['output_type'] = 'display_data';\n",
              "          await google.colab.output.renderOutput(dataTable, element);\n",
              "          const docLink = document.createElement('div');\n",
              "          docLink.innerHTML = docLinkHtml;\n",
              "          element.appendChild(docLink);\n",
              "        }\n",
              "      </script>\n",
              "    </div>\n",
              "  </div>\n",
              "  "
            ]
          },
          "metadata": {},
          "execution_count": 42
        }
      ]
    },
    {
      "cell_type": "code",
      "source": [
        "# Mostrar los ultimos cinco elementos de la data\n",
        "df_data.tail()"
      ],
      "metadata": {
        "colab": {
          "base_uri": "https://localhost:8080/",
          "height": 206
        },
        "id": "f8xi5SVUUGuW",
        "outputId": "0a8c4d23-3fef-4e83-c59d-d298d40e68e1"
      },
      "execution_count": null,
      "outputs": [
        {
          "output_type": "execute_result",
          "data": {
            "text/plain": [
              "                                  address  year  day  length        weight  \\\n",
              "92583  1FyVwHjYPi9EAY2jDzHatFE1BwLYtWczv4  2017  240       2  2.500000e-01   \n",
              "92584  1MfpBhXFVPEsihzd7qPDt3HB74ST8HxSqr  2016  219       2  1.333333e+00   \n",
              "92585  14NNhLDwLo89wbDHiWBQHgNRDvt2r8Y65u  2015  211     144  1.001217e-07   \n",
              "92586  16JKdw8VoBi9x4dYNGpzG1cNebPsTF1R2M  2014  185       4  5.000000e-01   \n",
              "92587  3QgGBpkEpsbStf2AZL6wmTTWKVtgdVmbUi  2016  108     144  3.645027e-03   \n",
              "\n",
              "       count  looped  neighbors       income               label  \n",
              "92583      1       0          2   42812712.0               white  \n",
              "92584      2       0          2   72820000.0  grouped_ransomware  \n",
              "92585    382       0          2  198685860.0               white  \n",
              "92586      1       0          2   88000000.0               white  \n",
              "92587   4069       0          1  371180000.0               white  "
            ],
            "text/html": [
              "\n",
              "  <div id=\"df-738f2f2c-4cea-448e-8c17-a4afa5eea1b7\">\n",
              "    <div class=\"colab-df-container\">\n",
              "      <div>\n",
              "<style scoped>\n",
              "    .dataframe tbody tr th:only-of-type {\n",
              "        vertical-align: middle;\n",
              "    }\n",
              "\n",
              "    .dataframe tbody tr th {\n",
              "        vertical-align: top;\n",
              "    }\n",
              "\n",
              "    .dataframe thead th {\n",
              "        text-align: right;\n",
              "    }\n",
              "</style>\n",
              "<table border=\"1\" class=\"dataframe\">\n",
              "  <thead>\n",
              "    <tr style=\"text-align: right;\">\n",
              "      <th></th>\n",
              "      <th>address</th>\n",
              "      <th>year</th>\n",
              "      <th>day</th>\n",
              "      <th>length</th>\n",
              "      <th>weight</th>\n",
              "      <th>count</th>\n",
              "      <th>looped</th>\n",
              "      <th>neighbors</th>\n",
              "      <th>income</th>\n",
              "      <th>label</th>\n",
              "    </tr>\n",
              "  </thead>\n",
              "  <tbody>\n",
              "    <tr>\n",
              "      <th>92583</th>\n",
              "      <td>1FyVwHjYPi9EAY2jDzHatFE1BwLYtWczv4</td>\n",
              "      <td>2017</td>\n",
              "      <td>240</td>\n",
              "      <td>2</td>\n",
              "      <td>2.500000e-01</td>\n",
              "      <td>1</td>\n",
              "      <td>0</td>\n",
              "      <td>2</td>\n",
              "      <td>42812712.0</td>\n",
              "      <td>white</td>\n",
              "    </tr>\n",
              "    <tr>\n",
              "      <th>92584</th>\n",
              "      <td>1MfpBhXFVPEsihzd7qPDt3HB74ST8HxSqr</td>\n",
              "      <td>2016</td>\n",
              "      <td>219</td>\n",
              "      <td>2</td>\n",
              "      <td>1.333333e+00</td>\n",
              "      <td>2</td>\n",
              "      <td>0</td>\n",
              "      <td>2</td>\n",
              "      <td>72820000.0</td>\n",
              "      <td>grouped_ransomware</td>\n",
              "    </tr>\n",
              "    <tr>\n",
              "      <th>92585</th>\n",
              "      <td>14NNhLDwLo89wbDHiWBQHgNRDvt2r8Y65u</td>\n",
              "      <td>2015</td>\n",
              "      <td>211</td>\n",
              "      <td>144</td>\n",
              "      <td>1.001217e-07</td>\n",
              "      <td>382</td>\n",
              "      <td>0</td>\n",
              "      <td>2</td>\n",
              "      <td>198685860.0</td>\n",
              "      <td>white</td>\n",
              "    </tr>\n",
              "    <tr>\n",
              "      <th>92586</th>\n",
              "      <td>16JKdw8VoBi9x4dYNGpzG1cNebPsTF1R2M</td>\n",
              "      <td>2014</td>\n",
              "      <td>185</td>\n",
              "      <td>4</td>\n",
              "      <td>5.000000e-01</td>\n",
              "      <td>1</td>\n",
              "      <td>0</td>\n",
              "      <td>2</td>\n",
              "      <td>88000000.0</td>\n",
              "      <td>white</td>\n",
              "    </tr>\n",
              "    <tr>\n",
              "      <th>92587</th>\n",
              "      <td>3QgGBpkEpsbStf2AZL6wmTTWKVtgdVmbUi</td>\n",
              "      <td>2016</td>\n",
              "      <td>108</td>\n",
              "      <td>144</td>\n",
              "      <td>3.645027e-03</td>\n",
              "      <td>4069</td>\n",
              "      <td>0</td>\n",
              "      <td>1</td>\n",
              "      <td>371180000.0</td>\n",
              "      <td>white</td>\n",
              "    </tr>\n",
              "  </tbody>\n",
              "</table>\n",
              "</div>\n",
              "      <button class=\"colab-df-convert\" onclick=\"convertToInteractive('df-738f2f2c-4cea-448e-8c17-a4afa5eea1b7')\"\n",
              "              title=\"Convert this dataframe to an interactive table.\"\n",
              "              style=\"display:none;\">\n",
              "        \n",
              "  <svg xmlns=\"http://www.w3.org/2000/svg\" height=\"24px\"viewBox=\"0 0 24 24\"\n",
              "       width=\"24px\">\n",
              "    <path d=\"M0 0h24v24H0V0z\" fill=\"none\"/>\n",
              "    <path d=\"M18.56 5.44l.94 2.06.94-2.06 2.06-.94-2.06-.94-.94-2.06-.94 2.06-2.06.94zm-11 1L8.5 8.5l.94-2.06 2.06-.94-2.06-.94L8.5 2.5l-.94 2.06-2.06.94zm10 10l.94 2.06.94-2.06 2.06-.94-2.06-.94-.94-2.06-.94 2.06-2.06.94z\"/><path d=\"M17.41 7.96l-1.37-1.37c-.4-.4-.92-.59-1.43-.59-.52 0-1.04.2-1.43.59L10.3 9.45l-7.72 7.72c-.78.78-.78 2.05 0 2.83L4 21.41c.39.39.9.59 1.41.59.51 0 1.02-.2 1.41-.59l7.78-7.78 2.81-2.81c.8-.78.8-2.07 0-2.86zM5.41 20L4 18.59l7.72-7.72 1.47 1.35L5.41 20z\"/>\n",
              "  </svg>\n",
              "      </button>\n",
              "      \n",
              "  <style>\n",
              "    .colab-df-container {\n",
              "      display:flex;\n",
              "      flex-wrap:wrap;\n",
              "      gap: 12px;\n",
              "    }\n",
              "\n",
              "    .colab-df-convert {\n",
              "      background-color: #E8F0FE;\n",
              "      border: none;\n",
              "      border-radius: 50%;\n",
              "      cursor: pointer;\n",
              "      display: none;\n",
              "      fill: #1967D2;\n",
              "      height: 32px;\n",
              "      padding: 0 0 0 0;\n",
              "      width: 32px;\n",
              "    }\n",
              "\n",
              "    .colab-df-convert:hover {\n",
              "      background-color: #E2EBFA;\n",
              "      box-shadow: 0px 1px 2px rgba(60, 64, 67, 0.3), 0px 1px 3px 1px rgba(60, 64, 67, 0.15);\n",
              "      fill: #174EA6;\n",
              "    }\n",
              "\n",
              "    [theme=dark] .colab-df-convert {\n",
              "      background-color: #3B4455;\n",
              "      fill: #D2E3FC;\n",
              "    }\n",
              "\n",
              "    [theme=dark] .colab-df-convert:hover {\n",
              "      background-color: #434B5C;\n",
              "      box-shadow: 0px 1px 3px 1px rgba(0, 0, 0, 0.15);\n",
              "      filter: drop-shadow(0px 1px 2px rgba(0, 0, 0, 0.3));\n",
              "      fill: #FFFFFF;\n",
              "    }\n",
              "  </style>\n",
              "\n",
              "      <script>\n",
              "        const buttonEl =\n",
              "          document.querySelector('#df-738f2f2c-4cea-448e-8c17-a4afa5eea1b7 button.colab-df-convert');\n",
              "        buttonEl.style.display =\n",
              "          google.colab.kernel.accessAllowed ? 'block' : 'none';\n",
              "\n",
              "        async function convertToInteractive(key) {\n",
              "          const element = document.querySelector('#df-738f2f2c-4cea-448e-8c17-a4afa5eea1b7');\n",
              "          const dataTable =\n",
              "            await google.colab.kernel.invokeFunction('convertToInteractive',\n",
              "                                                     [key], {});\n",
              "          if (!dataTable) return;\n",
              "\n",
              "          const docLinkHtml = 'Like what you see? Visit the ' +\n",
              "            '<a target=\"_blank\" href=https://colab.research.google.com/notebooks/data_table.ipynb>data table notebook</a>'\n",
              "            + ' to learn more about interactive tables.';\n",
              "          element.innerHTML = '';\n",
              "          dataTable['output_type'] = 'display_data';\n",
              "          await google.colab.output.renderOutput(dataTable, element);\n",
              "          const docLink = document.createElement('div');\n",
              "          docLink.innerHTML = docLinkHtml;\n",
              "          element.appendChild(docLink);\n",
              "        }\n",
              "      </script>\n",
              "    </div>\n",
              "  </div>\n",
              "  "
            ]
          },
          "metadata": {},
          "execution_count": 43
        }
      ]
    },
    {
      "cell_type": "code",
      "source": [
        "# Obtener el tipo de dato de cada columna\n",
        "df_data.dtypes"
      ],
      "metadata": {
        "colab": {
          "base_uri": "https://localhost:8080/"
        },
        "id": "xIT4U1xjWU6j",
        "outputId": "44d84fbc-f8bc-468b-a3a0-e91b79b1a219"
      },
      "execution_count": null,
      "outputs": [
        {
          "output_type": "execute_result",
          "data": {
            "text/plain": [
              "address       object\n",
              "year           int64\n",
              "day            int64\n",
              "length         int64\n",
              "weight       float64\n",
              "count          int64\n",
              "looped         int64\n",
              "neighbors      int64\n",
              "income       float64\n",
              "label         object\n",
              "dtype: object"
            ]
          },
          "metadata": {},
          "execution_count": 44
        }
      ]
    },
    {
      "cell_type": "code",
      "source": [
        "# Generar estadisticas tipicas por columna (Inluye solo valores numericos)\n",
        "# Si quieres incluir los valores categoricos (strings) tienes que utilizar\n",
        "# include=\"all\" -> df_data.describe(include=\"all\")\n",
        "df_data.describe()"
      ],
      "metadata": {
        "colab": {
          "base_uri": "https://localhost:8080/",
          "height": 300
        },
        "id": "-AL2X5n7V0GP",
        "outputId": "a745eab2-4810-4da5-c3c1-6797f69ca2bc"
      },
      "execution_count": null,
      "outputs": [
        {
          "output_type": "execute_result",
          "data": {
            "text/plain": [
              "               year           day        length        weight         count  \\\n",
              "count  92588.000000  92588.000000  92588.000000  9.258800e+04  92588.000000   \n",
              "mean    2014.566024    179.727027     44.136713  5.561919e-01    697.490830   \n",
              "std        2.108102    102.112306     58.814743  2.476162e+00   1648.008167   \n",
              "min     2011.000000      1.000000      0.000000  4.244610e-84      1.000000   \n",
              "25%     2013.000000     91.000000      2.000000  2.852745e-02      1.000000   \n",
              "50%     2015.000000    175.000000      8.000000  2.505801e-01      1.000000   \n",
              "75%     2016.000000    269.000000    100.000000  1.000000e+00     49.000000   \n",
              "max     2018.000000    365.000000    144.000000  4.982885e+02  14496.000000   \n",
              "\n",
              "             looped     neighbors        income  \n",
              "count  92588.000000  92588.000000  9.258800e+04  \n",
              "mean     207.648756      2.150376  3.653018e+09  \n",
              "std      896.710751     11.826918  1.616788e+11  \n",
              "min        0.000000      1.000000  3.000000e+07  \n",
              "25%        0.000000      1.000000  7.656892e+07  \n",
              "50%        0.000000      2.000000  1.805104e+08  \n",
              "75%        0.000000      2.000000  7.371084e+08  \n",
              "max    14496.000000   1593.000000  4.645481e+13  "
            ],
            "text/html": [
              "\n",
              "  <div id=\"df-708e60e0-f1aa-447f-a891-b9a47df95038\">\n",
              "    <div class=\"colab-df-container\">\n",
              "      <div>\n",
              "<style scoped>\n",
              "    .dataframe tbody tr th:only-of-type {\n",
              "        vertical-align: middle;\n",
              "    }\n",
              "\n",
              "    .dataframe tbody tr th {\n",
              "        vertical-align: top;\n",
              "    }\n",
              "\n",
              "    .dataframe thead th {\n",
              "        text-align: right;\n",
              "    }\n",
              "</style>\n",
              "<table border=\"1\" class=\"dataframe\">\n",
              "  <thead>\n",
              "    <tr style=\"text-align: right;\">\n",
              "      <th></th>\n",
              "      <th>year</th>\n",
              "      <th>day</th>\n",
              "      <th>length</th>\n",
              "      <th>weight</th>\n",
              "      <th>count</th>\n",
              "      <th>looped</th>\n",
              "      <th>neighbors</th>\n",
              "      <th>income</th>\n",
              "    </tr>\n",
              "  </thead>\n",
              "  <tbody>\n",
              "    <tr>\n",
              "      <th>count</th>\n",
              "      <td>92588.000000</td>\n",
              "      <td>92588.000000</td>\n",
              "      <td>92588.000000</td>\n",
              "      <td>9.258800e+04</td>\n",
              "      <td>92588.000000</td>\n",
              "      <td>92588.000000</td>\n",
              "      <td>92588.000000</td>\n",
              "      <td>9.258800e+04</td>\n",
              "    </tr>\n",
              "    <tr>\n",
              "      <th>mean</th>\n",
              "      <td>2014.566024</td>\n",
              "      <td>179.727027</td>\n",
              "      <td>44.136713</td>\n",
              "      <td>5.561919e-01</td>\n",
              "      <td>697.490830</td>\n",
              "      <td>207.648756</td>\n",
              "      <td>2.150376</td>\n",
              "      <td>3.653018e+09</td>\n",
              "    </tr>\n",
              "    <tr>\n",
              "      <th>std</th>\n",
              "      <td>2.108102</td>\n",
              "      <td>102.112306</td>\n",
              "      <td>58.814743</td>\n",
              "      <td>2.476162e+00</td>\n",
              "      <td>1648.008167</td>\n",
              "      <td>896.710751</td>\n",
              "      <td>11.826918</td>\n",
              "      <td>1.616788e+11</td>\n",
              "    </tr>\n",
              "    <tr>\n",
              "      <th>min</th>\n",
              "      <td>2011.000000</td>\n",
              "      <td>1.000000</td>\n",
              "      <td>0.000000</td>\n",
              "      <td>4.244610e-84</td>\n",
              "      <td>1.000000</td>\n",
              "      <td>0.000000</td>\n",
              "      <td>1.000000</td>\n",
              "      <td>3.000000e+07</td>\n",
              "    </tr>\n",
              "    <tr>\n",
              "      <th>25%</th>\n",
              "      <td>2013.000000</td>\n",
              "      <td>91.000000</td>\n",
              "      <td>2.000000</td>\n",
              "      <td>2.852745e-02</td>\n",
              "      <td>1.000000</td>\n",
              "      <td>0.000000</td>\n",
              "      <td>1.000000</td>\n",
              "      <td>7.656892e+07</td>\n",
              "    </tr>\n",
              "    <tr>\n",
              "      <th>50%</th>\n",
              "      <td>2015.000000</td>\n",
              "      <td>175.000000</td>\n",
              "      <td>8.000000</td>\n",
              "      <td>2.505801e-01</td>\n",
              "      <td>1.000000</td>\n",
              "      <td>0.000000</td>\n",
              "      <td>2.000000</td>\n",
              "      <td>1.805104e+08</td>\n",
              "    </tr>\n",
              "    <tr>\n",
              "      <th>75%</th>\n",
              "      <td>2016.000000</td>\n",
              "      <td>269.000000</td>\n",
              "      <td>100.000000</td>\n",
              "      <td>1.000000e+00</td>\n",
              "      <td>49.000000</td>\n",
              "      <td>0.000000</td>\n",
              "      <td>2.000000</td>\n",
              "      <td>7.371084e+08</td>\n",
              "    </tr>\n",
              "    <tr>\n",
              "      <th>max</th>\n",
              "      <td>2018.000000</td>\n",
              "      <td>365.000000</td>\n",
              "      <td>144.000000</td>\n",
              "      <td>4.982885e+02</td>\n",
              "      <td>14496.000000</td>\n",
              "      <td>14496.000000</td>\n",
              "      <td>1593.000000</td>\n",
              "      <td>4.645481e+13</td>\n",
              "    </tr>\n",
              "  </tbody>\n",
              "</table>\n",
              "</div>\n",
              "      <button class=\"colab-df-convert\" onclick=\"convertToInteractive('df-708e60e0-f1aa-447f-a891-b9a47df95038')\"\n",
              "              title=\"Convert this dataframe to an interactive table.\"\n",
              "              style=\"display:none;\">\n",
              "        \n",
              "  <svg xmlns=\"http://www.w3.org/2000/svg\" height=\"24px\"viewBox=\"0 0 24 24\"\n",
              "       width=\"24px\">\n",
              "    <path d=\"M0 0h24v24H0V0z\" fill=\"none\"/>\n",
              "    <path d=\"M18.56 5.44l.94 2.06.94-2.06 2.06-.94-2.06-.94-.94-2.06-.94 2.06-2.06.94zm-11 1L8.5 8.5l.94-2.06 2.06-.94-2.06-.94L8.5 2.5l-.94 2.06-2.06.94zm10 10l.94 2.06.94-2.06 2.06-.94-2.06-.94-.94-2.06-.94 2.06-2.06.94z\"/><path d=\"M17.41 7.96l-1.37-1.37c-.4-.4-.92-.59-1.43-.59-.52 0-1.04.2-1.43.59L10.3 9.45l-7.72 7.72c-.78.78-.78 2.05 0 2.83L4 21.41c.39.39.9.59 1.41.59.51 0 1.02-.2 1.41-.59l7.78-7.78 2.81-2.81c.8-.78.8-2.07 0-2.86zM5.41 20L4 18.59l7.72-7.72 1.47 1.35L5.41 20z\"/>\n",
              "  </svg>\n",
              "      </button>\n",
              "      \n",
              "  <style>\n",
              "    .colab-df-container {\n",
              "      display:flex;\n",
              "      flex-wrap:wrap;\n",
              "      gap: 12px;\n",
              "    }\n",
              "\n",
              "    .colab-df-convert {\n",
              "      background-color: #E8F0FE;\n",
              "      border: none;\n",
              "      border-radius: 50%;\n",
              "      cursor: pointer;\n",
              "      display: none;\n",
              "      fill: #1967D2;\n",
              "      height: 32px;\n",
              "      padding: 0 0 0 0;\n",
              "      width: 32px;\n",
              "    }\n",
              "\n",
              "    .colab-df-convert:hover {\n",
              "      background-color: #E2EBFA;\n",
              "      box-shadow: 0px 1px 2px rgba(60, 64, 67, 0.3), 0px 1px 3px 1px rgba(60, 64, 67, 0.15);\n",
              "      fill: #174EA6;\n",
              "    }\n",
              "\n",
              "    [theme=dark] .colab-df-convert {\n",
              "      background-color: #3B4455;\n",
              "      fill: #D2E3FC;\n",
              "    }\n",
              "\n",
              "    [theme=dark] .colab-df-convert:hover {\n",
              "      background-color: #434B5C;\n",
              "      box-shadow: 0px 1px 3px 1px rgba(0, 0, 0, 0.15);\n",
              "      filter: drop-shadow(0px 1px 2px rgba(0, 0, 0, 0.3));\n",
              "      fill: #FFFFFF;\n",
              "    }\n",
              "  </style>\n",
              "\n",
              "      <script>\n",
              "        const buttonEl =\n",
              "          document.querySelector('#df-708e60e0-f1aa-447f-a891-b9a47df95038 button.colab-df-convert');\n",
              "        buttonEl.style.display =\n",
              "          google.colab.kernel.accessAllowed ? 'block' : 'none';\n",
              "\n",
              "        async function convertToInteractive(key) {\n",
              "          const element = document.querySelector('#df-708e60e0-f1aa-447f-a891-b9a47df95038');\n",
              "          const dataTable =\n",
              "            await google.colab.kernel.invokeFunction('convertToInteractive',\n",
              "                                                     [key], {});\n",
              "          if (!dataTable) return;\n",
              "\n",
              "          const docLinkHtml = 'Like what you see? Visit the ' +\n",
              "            '<a target=\"_blank\" href=https://colab.research.google.com/notebooks/data_table.ipynb>data table notebook</a>'\n",
              "            + ' to learn more about interactive tables.';\n",
              "          element.innerHTML = '';\n",
              "          dataTable['output_type'] = 'display_data';\n",
              "          await google.colab.output.renderOutput(dataTable, element);\n",
              "          const docLink = document.createElement('div');\n",
              "          docLink.innerHTML = docLinkHtml;\n",
              "          element.appendChild(docLink);\n",
              "        }\n",
              "      </script>\n",
              "    </div>\n",
              "  </div>\n",
              "  "
            ]
          },
          "metadata": {},
          "execution_count": 45
        }
      ]
    },
    {
      "cell_type": "code",
      "source": [
        "# Contar la cantidad de null en las columnas (si hubieran muchos habria que buscar alguna forma de lidear con ello). \n",
        "df_data.isna().sum()"
      ],
      "metadata": {
        "colab": {
          "base_uri": "https://localhost:8080/"
        },
        "id": "GoDApBRQZ1kq",
        "outputId": "4939833b-1a16-40d9-b93b-399432b54d7e"
      },
      "execution_count": null,
      "outputs": [
        {
          "output_type": "execute_result",
          "data": {
            "text/plain": [
              "address      0\n",
              "year         0\n",
              "day          0\n",
              "length       0\n",
              "weight       0\n",
              "count        0\n",
              "looped       0\n",
              "neighbors    0\n",
              "income       0\n",
              "label        0\n",
              "dtype: int64"
            ]
          },
          "metadata": {},
          "execution_count": 46
        }
      ]
    },
    {
      "cell_type": "code",
      "source": [
        "# Mostrar la cantidad de valores unicos para el feature address\n",
        "print(f\"Number of unique values: {len(np.unique(df_data['address']))}\")"
      ],
      "metadata": {
        "colab": {
          "base_uri": "https://localhost:8080/"
        },
        "id": "HiqTEUUQgnLU",
        "outputId": "f66cb530-2dce-4de4-a613-255870a9ba88"
      },
      "execution_count": null,
      "outputs": [
        {
          "output_type": "stream",
          "name": "stdout",
          "text": [
            "Number of unique values: 82491\n"
          ]
        }
      ]
    },
    {
      "cell_type": "markdown",
      "source": [
        "Como prácticamente todos los valores son distintos para la columna `address` y la variable tiene relación con un ID podemos descartar la columna. Si por algún motivo sabemos que las direcciones comparten cierto patrón sería bueno intentar aprovechar esa información, pero por temas de simplicidad solo la eliminaremos de la data"
      ],
      "metadata": {
        "id": "VF_Ytoj1kT5s"
      }
    },
    {
      "cell_type": "code",
      "source": [
        "# Drop address\n",
        "df_data.drop(columns=[\"address\"], inplace=True)"
      ],
      "metadata": {
        "id": "PptzEf5MhYF_"
      },
      "execution_count": null,
      "outputs": []
    },
    {
      "cell_type": "markdown",
      "source": [
        "Ahora ya sabemos un poco más de la data:\n",
        "\n",
        "*   Dada la eliminación de address tenemos solo una variable categórica que es label.\n",
        "*   No existen columnas con una alta cantidad de nulls.\n",
        "\n"
      ],
      "metadata": {
        "id": "aRF1ohQqdMf6"
      }
    },
    {
      "cell_type": "markdown",
      "source": [
        "**Genere gráficos con su correspondiente título, leyenda, etc. utilizando seaborn, matplotlib o plotly para cada una de las siguientes columnas del dataframe: `length`, `weight`, `count`, `looped`, `neighbors`, `income`, `label`. Comente lo que observa de cada gráfico** [5 Pts] "
      ],
      "metadata": {
        "id": "zxJo_8-2iMfY"
      }
    },
    {
      "cell_type": "markdown",
      "source": [
        "Pueden utilizar gráficos repetidos, pero no pueden ser todos iguales. La idea de esta parte es utilizar gráficos que muestren información relevante de la data. Para ello puede utilizar un histograma, violinplot, boxplot, etc."
      ],
      "metadata": {
        "id": "UrEBSDjPjVn9"
      }
    },
    {
      "cell_type": "code",
      "source": [
        "# Grafico para la columna length\n",
        "### START CODE HERE ###\n"
      ],
      "metadata": {
        "id": "tJ9rkxHynHrF"
      },
      "execution_count": null,
      "outputs": []
    },
    {
      "cell_type": "markdown",
      "source": [
        "`Comentario`: "
      ],
      "metadata": {
        "id": "0BmRhobSnLq8"
      }
    },
    {
      "cell_type": "code",
      "source": [
        "# Grafico para la columna weight\n",
        "### START CODE HERE ###\n"
      ],
      "metadata": {
        "id": "EBxYPmY7ncIt"
      },
      "execution_count": null,
      "outputs": []
    },
    {
      "cell_type": "markdown",
      "source": [
        "`Comentario`: "
      ],
      "metadata": {
        "id": "anE3Z52YoeZy"
      }
    },
    {
      "cell_type": "code",
      "source": [
        "# Grafico para la columna count\n",
        "### START CODE HERE ###"
      ],
      "metadata": {
        "id": "GqYqBVjApOw0"
      },
      "execution_count": null,
      "outputs": []
    },
    {
      "cell_type": "markdown",
      "source": [
        "`Comentario`: "
      ],
      "metadata": {
        "id": "We7AlGl5pPBi"
      }
    },
    {
      "cell_type": "code",
      "source": [
        "# Grafico para la columna looped\n",
        "### START CODE HERE ###"
      ],
      "metadata": {
        "id": "Sof4ND36pa4T"
      },
      "execution_count": null,
      "outputs": []
    },
    {
      "cell_type": "markdown",
      "source": [
        "`Comentario`: "
      ],
      "metadata": {
        "id": "EQx6yq-MpfKB"
      }
    },
    {
      "cell_type": "code",
      "source": [
        "# Grafico para la columna neighbors\n",
        "### START CODE HERE ###"
      ],
      "metadata": {
        "id": "UuDTk_uapfSt"
      },
      "execution_count": null,
      "outputs": []
    },
    {
      "cell_type": "markdown",
      "source": [
        "`Comentario`: "
      ],
      "metadata": {
        "id": "st_AIJVPpups"
      }
    },
    {
      "cell_type": "code",
      "source": [
        "# Grafico para la columna income\n",
        "### START CODE HERE ###"
      ],
      "metadata": {
        "id": "13oNhA3Lptsz"
      },
      "execution_count": null,
      "outputs": []
    },
    {
      "cell_type": "markdown",
      "source": [
        "`Comentario`: "
      ],
      "metadata": {
        "id": "Lm4iNiPHpw9X"
      }
    },
    {
      "cell_type": "code",
      "source": [
        "# Grafico para la columna label\n",
        "### START CODE HERE ###"
      ],
      "metadata": {
        "id": "kyDTFHzbqDqe"
      },
      "execution_count": null,
      "outputs": []
    },
    {
      "cell_type": "markdown",
      "source": [
        "`Comentario`: "
      ],
      "metadata": {
        "id": "01G52vmLqIAi"
      }
    },
    {
      "cell_type": "markdown",
      "source": [
        "**Que nueva información le han aportado los gráficos respecto a la data y cuál es la utilidad de visualizar la data antes de entrenar un algoritmo de Machine Learning** [2 Pts] "
      ],
      "metadata": {
        "id": "2S2GVOaZqI7I"
      }
    },
    {
      "cell_type": "markdown",
      "source": [
        "`Respuesta`: "
      ],
      "metadata": {
        "id": "mhx3OhQHqTgm"
      }
    },
    {
      "cell_type": "code",
      "source": [
        ""
      ],
      "metadata": {
        "id": "jI7QbeB3pckq"
      },
      "execution_count": null,
      "outputs": []
    },
    {
      "cell_type": "markdown",
      "source": [
        "## Preprocesamiento"
      ],
      "metadata": {
        "id": "Xp6wgqeTUX_H"
      }
    },
    {
      "cell_type": "markdown",
      "source": [
        "El proceso típico de entrenamiento de un modelo consta de dividir la data en 3 conjuntos, uno para entrenamiento, otro para validacion y otro para testing"
      ],
      "metadata": {
        "id": "U7Eal1P_zF4T"
      }
    },
    {
      "cell_type": "markdown",
      "source": [
        "**Defina cual es la utilidad de cada uno de estos conjuntos e implemente el código para separar la data considerando un split de 80/10/10 respectivamente** [3 Pts]\n",
        "\n",
        "*80% de la data para entrenamiento, 10% para validación y el 10% para testing*"
      ],
      "metadata": {
        "id": "3Yb7zlepz0t_"
      }
    },
    {
      "cell_type": "markdown",
      "source": [
        "*Para ello se puede apoyar en la función [train_test_split](https://pandas.pydata.org/docs/reference/api/pandas.DataFrame.sample.html) de scikit-learn.*\n",
        "\n",
        "```\n",
        "X_train, X_test, y_train, y_test = train_test_split(X, y, test_size=\"size_for_test\", random_state=SEED)\n",
        "```\n",
        "```\n",
        "# Using a pandas dataframe\n",
        "df_train, df_test = train_test_split(df_data, test_size=\"size_for_test\", random_state=SEED)\n",
        "```"
      ],
      "metadata": {
        "id": "XIjeOPHl0O88"
      }
    },
    {
      "cell_type": "code",
      "source": [
        "# Dividir la data considerando el split indicado anteriormente\n",
        "### START CODE HERE ###"
      ],
      "metadata": {
        "id": "EiBICd7f1jYO"
      },
      "execution_count": null,
      "outputs": []
    },
    {
      "cell_type": "markdown",
      "source": [
        "\n",
        "\n",
        "*   `Training`:\n",
        "*   `Validation`:\n",
        "*   `Testing`: \n",
        "\n"
      ],
      "metadata": {
        "id": "6f7y_ltp2vO1"
      }
    },
    {
      "cell_type": "markdown",
      "metadata": {
        "id": "bMc8HGALKE7f"
      },
      "source": [
        "## Feature Engineer \n",
        "\n",
        "Feature Engineer se considera un arte porque involucra mucho la creatividad con el conocimiento del dominio del problema. Consiste en el proceso de crear nuevas características o features a partir de otras existentes. En general la idea principal es la de utilizar el conocimiento del contexto del problema o bien del dominio de los datos para aprovechar esa información y crear features que puedan ayudar en el desempeño de un algoritmo, si bien existen técnicas más o menos estándar como lo puede ser normalizar o standarizar valores numéricos tambien existen otras transformaciones que no son tan simples y varían mucho dependiendo del problema. \n",
        "\n",
        "\n",
        "<img src=\"https://drive.google.com/uc?id=1Q9i-Jr2HHgMS5vg5lv-Q0ZhAxLuW47Xm\" width=\"70%\"/>\n",
        "\n",
        "\n",
        "[Referencia](https://elitedatascience.com/feature-engineering)"
      ]
    },
    {
      "cell_type": "markdown",
      "source": [
        "### Standard techniques"
      ],
      "metadata": {
        "id": "hq3bGV8fL9Mw"
      }
    },
    {
      "cell_type": "markdown",
      "source": [
        "Como se ha mencionado anteriormente existen técnicas bastante conocidas en la actualidad para abordar el apartado de Feature Engineer donde la mayoria de estas se pueden dividir en dos grandes grupos dependiendo del tipo de datos tengamos:\n",
        "\n",
        "1.   Variables numéricas\n",
        "2.   Variables categóricas\n",
        "\n"
      ],
      "metadata": {
        "id": "iHJprXFNZsvq"
      }
    },
    {
      "cell_type": "markdown",
      "source": [
        "#### Numerical values\n",
        "\n",
        "*   Normalizing: `MinMaxScaler `\n",
        "*   Standarizing: `StandardScaler`"
      ],
      "metadata": {
        "id": "vitHm71cMDOR"
      }
    },
    {
      "cell_type": "markdown",
      "source": [
        "**Muestre cual es la transformación que aplica MinMaxScaler y StandardScaler a una muestra x** [1 Pts]"
      ],
      "metadata": {
        "id": "sJs665Vwagfh"
      }
    },
    {
      "cell_type": "markdown",
      "source": [
        "\n",
        "*   `MinMaxScaler` : $x=\\frac{a}{b} \\hspace{1cm} x \\in [a, b]$\n",
        "*   `StandardScaler` : $x=\\frac{a}{b} \\hspace{1cm} x \\in [a, b]$"
      ],
      "metadata": {
        "id": "QpfUHVRJcmjA"
      }
    },
    {
      "cell_type": "markdown",
      "source": [
        "#### Categorical values\n",
        "\n",
        "*   One-Hot Encoding.\n",
        "*   Ordinal Encoding.\n",
        "*   Label Encoding.\n",
        "\n"
      ],
      "metadata": {
        "id": "a7-xP_H-MLG4"
      }
    },
    {
      "cell_type": "markdown",
      "source": [
        "**Defina o explique la transformación que aplica cada uno de los siguientes encoding e indique la diferencia entre ellos considerando sklearn** [3 Pts]"
      ],
      "metadata": {
        "id": "TJGOfU7JeRjz"
      }
    },
    {
      "cell_type": "markdown",
      "source": [
        "\n",
        "\n",
        "*   `One-Hot Encoding`: \n",
        "*   `Ordinal Encoding`: \n",
        "*   `Label Encoding`: "
      ],
      "metadata": {
        "id": "ZDCfwGixeaA-"
      }
    },
    {
      "cell_type": "markdown",
      "source": [
        "#### Otras/Especiales\n",
        "\n",
        "*   Bucketizing.\n",
        "*   Fechas.\n"
      ],
      "metadata": {
        "id": "NKo6d7nXeGld"
      }
    },
    {
      "cell_type": "markdown",
      "source": [
        "**Investigue y defina que es el Bucketing en Machine Learning** [2 Pts]"
      ],
      "metadata": {
        "id": "KYe2LhBdetZE"
      }
    },
    {
      "cell_type": "markdown",
      "source": [
        "`Bucketing`: "
      ],
      "metadata": {
        "id": "mRgX4kmLfIQP"
      }
    },
    {
      "cell_type": "markdown",
      "source": [
        "**Observe el siguiente código y comente cuál podría ser su utilidad para una variable relacionada con fechas, como lo puede ser un día** [2 Pts]"
      ],
      "metadata": {
        "id": "n408-iVWfNFa"
      }
    },
    {
      "cell_type": "markdown",
      "source": [
        "\n",
        "*Hint 1: ¿Por qué no mejor utilizar One-Hot Encoding*\n",
        "\n",
        "*Hint 2: Mirar las ppt de la primera clase*\n"
      ],
      "metadata": {
        "id": "XI0uWWOgoL6Z"
      }
    },
    {
      "cell_type": "code",
      "source": [
        "def preprocess_day(df, column):\n",
        "  \"\"\"Funcion que toma la columna dia y crea dos features utilizando esa variable\"\"\"\n",
        "  DAYS_IN_YEAR = 365\n",
        "  df['sin_day'] = np.sin(2 * np.pi * df[column] / DAYS_IN_YEAR)\n",
        "  df['cos_day'] = np.cos(2 * np.pi * df[column] / DAYS_IN_YEAR)\n",
        "  df.drop(columns=[column], inplace=True)\n",
        "  return df"
      ],
      "metadata": {
        "id": "2lphFA7rlP8A"
      },
      "execution_count": null,
      "outputs": []
    },
    {
      "cell_type": "code",
      "source": [
        "# Crear un dataframe de muestra y aplicar la funcion\n",
        "df = pd.DataFrame(data=np.arange(1, 366), columns={\"day\"})\n",
        "df = preprocess_day(df, column=\"day\")\n",
        "df.head()"
      ],
      "metadata": {
        "colab": {
          "base_uri": "https://localhost:8080/",
          "height": 206
        },
        "id": "sLmQkg7NmIFs",
        "outputId": "83cefd67-8db4-46c6-d436-15b989d26aa7"
      },
      "execution_count": null,
      "outputs": [
        {
          "output_type": "execute_result",
          "data": {
            "text/plain": [
              "    sin_day   cos_day\n",
              "0  0.017213  0.999852\n",
              "1  0.034422  0.999407\n",
              "2  0.051620  0.998667\n",
              "3  0.068802  0.997630\n",
              "4  0.085965  0.996298"
            ],
            "text/html": [
              "\n",
              "  <div id=\"df-e503693c-2887-439f-b0f2-202fc8710039\">\n",
              "    <div class=\"colab-df-container\">\n",
              "      <div>\n",
              "<style scoped>\n",
              "    .dataframe tbody tr th:only-of-type {\n",
              "        vertical-align: middle;\n",
              "    }\n",
              "\n",
              "    .dataframe tbody tr th {\n",
              "        vertical-align: top;\n",
              "    }\n",
              "\n",
              "    .dataframe thead th {\n",
              "        text-align: right;\n",
              "    }\n",
              "</style>\n",
              "<table border=\"1\" class=\"dataframe\">\n",
              "  <thead>\n",
              "    <tr style=\"text-align: right;\">\n",
              "      <th></th>\n",
              "      <th>sin_day</th>\n",
              "      <th>cos_day</th>\n",
              "    </tr>\n",
              "  </thead>\n",
              "  <tbody>\n",
              "    <tr>\n",
              "      <th>0</th>\n",
              "      <td>0.017213</td>\n",
              "      <td>0.999852</td>\n",
              "    </tr>\n",
              "    <tr>\n",
              "      <th>1</th>\n",
              "      <td>0.034422</td>\n",
              "      <td>0.999407</td>\n",
              "    </tr>\n",
              "    <tr>\n",
              "      <th>2</th>\n",
              "      <td>0.051620</td>\n",
              "      <td>0.998667</td>\n",
              "    </tr>\n",
              "    <tr>\n",
              "      <th>3</th>\n",
              "      <td>0.068802</td>\n",
              "      <td>0.997630</td>\n",
              "    </tr>\n",
              "    <tr>\n",
              "      <th>4</th>\n",
              "      <td>0.085965</td>\n",
              "      <td>0.996298</td>\n",
              "    </tr>\n",
              "  </tbody>\n",
              "</table>\n",
              "</div>\n",
              "      <button class=\"colab-df-convert\" onclick=\"convertToInteractive('df-e503693c-2887-439f-b0f2-202fc8710039')\"\n",
              "              title=\"Convert this dataframe to an interactive table.\"\n",
              "              style=\"display:none;\">\n",
              "        \n",
              "  <svg xmlns=\"http://www.w3.org/2000/svg\" height=\"24px\"viewBox=\"0 0 24 24\"\n",
              "       width=\"24px\">\n",
              "    <path d=\"M0 0h24v24H0V0z\" fill=\"none\"/>\n",
              "    <path d=\"M18.56 5.44l.94 2.06.94-2.06 2.06-.94-2.06-.94-.94-2.06-.94 2.06-2.06.94zm-11 1L8.5 8.5l.94-2.06 2.06-.94-2.06-.94L8.5 2.5l-.94 2.06-2.06.94zm10 10l.94 2.06.94-2.06 2.06-.94-2.06-.94-.94-2.06-.94 2.06-2.06.94z\"/><path d=\"M17.41 7.96l-1.37-1.37c-.4-.4-.92-.59-1.43-.59-.52 0-1.04.2-1.43.59L10.3 9.45l-7.72 7.72c-.78.78-.78 2.05 0 2.83L4 21.41c.39.39.9.59 1.41.59.51 0 1.02-.2 1.41-.59l7.78-7.78 2.81-2.81c.8-.78.8-2.07 0-2.86zM5.41 20L4 18.59l7.72-7.72 1.47 1.35L5.41 20z\"/>\n",
              "  </svg>\n",
              "      </button>\n",
              "      \n",
              "  <style>\n",
              "    .colab-df-container {\n",
              "      display:flex;\n",
              "      flex-wrap:wrap;\n",
              "      gap: 12px;\n",
              "    }\n",
              "\n",
              "    .colab-df-convert {\n",
              "      background-color: #E8F0FE;\n",
              "      border: none;\n",
              "      border-radius: 50%;\n",
              "      cursor: pointer;\n",
              "      display: none;\n",
              "      fill: #1967D2;\n",
              "      height: 32px;\n",
              "      padding: 0 0 0 0;\n",
              "      width: 32px;\n",
              "    }\n",
              "\n",
              "    .colab-df-convert:hover {\n",
              "      background-color: #E2EBFA;\n",
              "      box-shadow: 0px 1px 2px rgba(60, 64, 67, 0.3), 0px 1px 3px 1px rgba(60, 64, 67, 0.15);\n",
              "      fill: #174EA6;\n",
              "    }\n",
              "\n",
              "    [theme=dark] .colab-df-convert {\n",
              "      background-color: #3B4455;\n",
              "      fill: #D2E3FC;\n",
              "    }\n",
              "\n",
              "    [theme=dark] .colab-df-convert:hover {\n",
              "      background-color: #434B5C;\n",
              "      box-shadow: 0px 1px 3px 1px rgba(0, 0, 0, 0.15);\n",
              "      filter: drop-shadow(0px 1px 2px rgba(0, 0, 0, 0.3));\n",
              "      fill: #FFFFFF;\n",
              "    }\n",
              "  </style>\n",
              "\n",
              "      <script>\n",
              "        const buttonEl =\n",
              "          document.querySelector('#df-e503693c-2887-439f-b0f2-202fc8710039 button.colab-df-convert');\n",
              "        buttonEl.style.display =\n",
              "          google.colab.kernel.accessAllowed ? 'block' : 'none';\n",
              "\n",
              "        async function convertToInteractive(key) {\n",
              "          const element = document.querySelector('#df-e503693c-2887-439f-b0f2-202fc8710039');\n",
              "          const dataTable =\n",
              "            await google.colab.kernel.invokeFunction('convertToInteractive',\n",
              "                                                     [key], {});\n",
              "          if (!dataTable) return;\n",
              "\n",
              "          const docLinkHtml = 'Like what you see? Visit the ' +\n",
              "            '<a target=\"_blank\" href=https://colab.research.google.com/notebooks/data_table.ipynb>data table notebook</a>'\n",
              "            + ' to learn more about interactive tables.';\n",
              "          element.innerHTML = '';\n",
              "          dataTable['output_type'] = 'display_data';\n",
              "          await google.colab.output.renderOutput(dataTable, element);\n",
              "          const docLink = document.createElement('div');\n",
              "          docLink.innerHTML = docLinkHtml;\n",
              "          element.appendChild(docLink);\n",
              "        }\n",
              "      </script>\n",
              "    </div>\n",
              "  </div>\n",
              "  "
            ]
          },
          "metadata": {},
          "execution_count": 52
        }
      ]
    },
    {
      "cell_type": "code",
      "source": [
        "# Mostrar la transformacion aplicada\n",
        "fig = plt.figure(figsize=(8, 6))\n",
        "\n",
        "sns.scatterplot(data=df, x=\"sin_day\", y=\"cos_day\").set_title(\"Encoding utilizado\")\n",
        "\n",
        "plt.show()"
      ],
      "metadata": {
        "colab": {
          "base_uri": "https://localhost:8080/",
          "height": 410
        },
        "id": "0JAMSniBo4ys",
        "outputId": "acb81665-8323-4af2-a446-7391fd57269b"
      },
      "execution_count": null,
      "outputs": [
        {
          "output_type": "display_data",
          "data": {
            "text/plain": [
              "<Figure size 576x432 with 1 Axes>"
            ],
            "image/png": "[encoded data removed]"
          },
          "metadata": {
            "needs_background": "light"
          }
        }
      ]
    },
    {
      "cell_type": "markdown",
      "source": [
        "`Respuesta`: "
      ],
      "metadata": {
        "id": "uLgbzMIXfkL0"
      }
    },
    {
      "cell_type": "markdown",
      "source": [
        "**Crear una función que implemente las siguientes técnicas de preprocesamiento para cada feature especificado:** [3 Pts]\n",
        "\n",
        "*   `MinMaxScaler` con rango (-1, 1): `weight`, `looped`\n",
        "*   `StandardScaler`: `income`, `count`, `length`\n",
        "*   `Bucketizing`: `neighbors`\n",
        "    \n",
        "    Considerando lo siguiente:\n",
        "\n",
        "    1.   Valor menor o igual a 10 asignar: `\"bajo\"`\n",
        "    2.   Valor mayor a 10 y menor o igual a 500 asignar: `\"medio\"`\n",
        "    3.   Valor mayor a 500 asignar: `\"alto\"`\n",
        "\n",
        "*   `Ordinal Encoding`: `year`\n",
        "*   `Label Encoding`: `label`\n",
        "*   `Fecha`: `day`\n",
        "\n",
        "\n",
        "\n"
      ],
      "metadata": {
        "id": "cVCdApmHf6uO"
      }
    },
    {
      "cell_type": "code",
      "source": [
        "# Funcion que aplica el preprocesamiendo indicado\n",
        "### START CODE HERE ###"
      ],
      "metadata": {
        "id": "K5h_nqzEfOdR"
      },
      "execution_count": null,
      "outputs": []
    },
    {
      "cell_type": "code",
      "source": [
        "# Utilizar la funcion\n",
        "### START CODE HERE ###"
      ],
      "metadata": {
        "id": "0iEgCXdp9bGA"
      },
      "execution_count": null,
      "outputs": []
    },
    {
      "cell_type": "code",
      "source": [
        "# Mostrar la data despues del preprocesamiento (Training)"
      ],
      "metadata": {
        "id": "0Dk6IUyzKXqm"
      },
      "execution_count": null,
      "outputs": []
    },
    {
      "cell_type": "code",
      "source": [
        "# Mostrar la data despues del prorcesamiento (Validation)"
      ],
      "metadata": {
        "id": "d9mKjJrlMoB2"
      },
      "execution_count": null,
      "outputs": []
    },
    {
      "cell_type": "code",
      "source": [
        "# Mostrar la data despues del procesamiento (Testing)"
      ],
      "metadata": {
        "id": "RmnDC26EMu1o"
      },
      "execution_count": null,
      "outputs": []
    },
    {
      "cell_type": "markdown",
      "source": [
        "## Entrenamiento"
      ],
      "metadata": {
        "id": "uKVf2-7cZHkg"
      }
    },
    {
      "cell_type": "markdown",
      "source": [
        "Para la parte de entrenamiento vamos a utilizar tres modelos:\n",
        "\n",
        "*   SVM\n",
        "*   Naive Bayes\n",
        "*   Logistic Regression\n",
        "\n",
        "Para la elección del mejor modelo se considerará la evaluación de 4 métricas distintas para clasificación (acc, prec, rec y f1) y se utilizará `K-Fold Cross Validation`\n"
      ],
      "metadata": {
        "id": "t4KiXDJ6Ti_k"
      }
    },
    {
      "cell_type": "markdown",
      "source": [
        "**Implemente las siguientes funciones y entrene cada modelo utilizando K-Fold cross validation con K=10 y genere un gráfico de tipo boxplot con los resultados obtenidos por modelo. Finalmente comente cual es el mejor modelo en base a tiempo de entrenamiento y score obtenido** [5 Pts]"
      ],
      "metadata": {
        "id": "u-9HDSNj444G"
      }
    },
    {
      "cell_type": "code",
      "source": [
        "# Funcion que divide la data en X_train, y_train, ... X_test, y_test\n",
        "### START CODE HERE ###"
      ],
      "metadata": {
        "id": "ZYn1wX3ShN3H"
      },
      "execution_count": null,
      "outputs": []
    },
    {
      "cell_type": "code",
      "source": [
        "# Utilizar la funcion\n",
        "### START CODE HERE ###"
      ],
      "metadata": {
        "id": "AdB6g4nDk3_R"
      },
      "execution_count": null,
      "outputs": []
    },
    {
      "cell_type": "code",
      "source": [
        "# Funcion que computa las metrics acc, macro_prec, macro_rec y macro_f1\n",
        "# dado un modelo y el conjunto de testing\n",
        "### START CODE HERE ###"
      ],
      "metadata": {
        "id": "-9QQF6zTf6G0"
      },
      "execution_count": null,
      "outputs": []
    },
    {
      "cell_type": "markdown",
      "source": [
        "**Defina como se calcula cada una de las métricas. ¿Para el dataset que tenemos sería bueno utilizar accuracy como métrica? ¿Cuál recomendarías utilizar?** [2 Pts] "
      ],
      "metadata": {
        "id": "qv2e7N2AqWM2"
      }
    },
    {
      "cell_type": "markdown",
      "source": [
        "\n",
        "\n",
        "*   `Accuracy`: \n",
        "*   `Macro Precision`:\n",
        "*   `Macro Recall`: \n",
        "*   `Macro F1-Score`:\n",
        "\n"
      ],
      "metadata": {
        "id": "x6O631m_qTBP"
      }
    },
    {
      "cell_type": "markdown",
      "source": [
        "`Comentario`: "
      ],
      "metadata": {
        "id": "JxkMfCloq7HJ"
      }
    },
    {
      "cell_type": "code",
      "source": [
        "# Funcion que entrena los modelos utilizando K-Fold\n",
        "### START CODE HERE ###"
      ],
      "metadata": {
        "id": "ojvDt8M87kI6"
      },
      "execution_count": null,
      "outputs": []
    },
    {
      "cell_type": "code",
      "source": [
        "# Llamar a la funcion\n",
        "### START CODE HERE ###"
      ],
      "metadata": {
        "id": "m2bclHRI-ZVU"
      },
      "execution_count": null,
      "outputs": []
    },
    {
      "cell_type": "code",
      "source": [
        "# Mostrar el boxplot con los resultados por modelo\n",
        "### START CODE HERE ###"
      ],
      "metadata": {
        "id": "tGbDCbg4ERc5"
      },
      "execution_count": null,
      "outputs": []
    },
    {
      "cell_type": "markdown",
      "source": [
        "`Respuesta`: "
      ],
      "metadata": {
        "id": "Tcz_YEjz-ekD"
      }
    },
    {
      "cell_type": "markdown",
      "source": [
        "Como bien sabemos cada modelo tiene sus respectivos hiperparametros los cuales influyen en el resultado, es por ello por lo que también es importante optimizarlos, para ello se hará uso de una grilla de tipo random utilizando el conjunto de validacion"
      ],
      "metadata": {
        "id": "A-IUu7wK5LXU"
      }
    },
    {
      "cell_type": "markdown",
      "source": [
        "*Para ello se puede apoyar en la función [RandomizedSearchCV](https://scikit-learn.org/stable/modules/generated/sklearn.model_selection.RandomizedSearchCV.html) de scikit-learn.*\n",
        "\n",
        "```\n",
        "# specify parameters and distributions to sample from\n",
        "# depend of the model \n",
        "param_dist = {\n",
        "    \"average\": [True, False],\n",
        "    \"l1_ratio\": stats.uniform(0, 1),\n",
        "    \"alpha\": loguniform(1e-2, 1e0),\n",
        "}\n",
        "# run randomized search\n",
        "n_iter_search = 15\n",
        "random_search = RandomizedSearchCV(\n",
        "    model, param_distributions=param_dist, n_iter=n_iter_search\n",
        ")\n",
        "```\n",
        "Para la variable `param_dist` lea la documentación del modelo que selecciono y cree una grilla a su gusto considerando los hiperparametros que le parecen más importantes\n"
      ],
      "metadata": {
        "id": "p-Vg7TenAYu5"
      }
    },
    {
      "cell_type": "markdown",
      "source": [
        "**Optimice los hiperparámetros para el mejor modelo utilizando el conjunto de validación** [3 Pts]"
      ],
      "metadata": {
        "id": "bayfoPan6Sjr"
      }
    },
    {
      "cell_type": "code",
      "source": [
        "# Funcion que obtiene los mejores hiperparametros para el mejor modelo\n",
        "# seleccionado en la parte de K-Fold\n",
        "### START CODE HERE ###"
      ],
      "metadata": {
        "id": "JVUj6WwB8H6T"
      },
      "execution_count": null,
      "outputs": []
    },
    {
      "cell_type": "code",
      "source": [
        "# Llamar a la funcion\n",
        "### START CODE HERE ###"
      ],
      "metadata": {
        "id": "kq6-Ok-ZB8vm"
      },
      "execution_count": null,
      "outputs": []
    },
    {
      "cell_type": "code",
      "source": [
        "# Mostrar los hiperparametros\n",
        "### START CODE HERE ###"
      ],
      "metadata": {
        "id": "_hncpzuF8zQF"
      },
      "execution_count": null,
      "outputs": []
    },
    {
      "cell_type": "markdown",
      "source": [
        "**¿Cuál es el riesgo de setear los hiperparámetros utilizando el conjunto de testing?** [2 Pts]"
      ],
      "metadata": {
        "id": "quX8KUQf6cWX"
      }
    },
    {
      "cell_type": "markdown",
      "source": [
        "`Respuesta`: "
      ],
      "metadata": {
        "id": "4HRUBMvC6hjE"
      }
    },
    {
      "cell_type": "markdown",
      "source": [
        "## Predicción"
      ],
      "metadata": {
        "id": "0ci7osyLERoI"
      }
    },
    {
      "cell_type": "markdown",
      "source": [
        "**Implemente una función que evalúe su mejor modelo utilizando el conjunto de testing. Haga uso de los mejores hiperparametros y la función que calcula las 4 métricas** [2 Pts]"
      ],
      "metadata": {
        "id": "K6ZQB6-XETp3"
      }
    },
    {
      "cell_type": "code",
      "source": [
        "# Funcion que evalua el mejor modelo con los hiperparametros encontrados anteriormente\n",
        "### START CODE HERE ###"
      ],
      "metadata": {
        "id": "dT7RyUEuL8zv"
      },
      "execution_count": null,
      "outputs": []
    },
    {
      "cell_type": "code",
      "source": [
        "# Llamar a la funcion\n",
        "### START CODE HERE ###"
      ],
      "metadata": {
        "id": "TRkM0ZSyMK07"
      },
      "execution_count": null,
      "outputs": []
    },
    {
      "cell_type": "code",
      "source": [
        "# Mostrar los resultados obtenidos en terminos de acc, macro_pre, macro_rec y macro_f1\n",
        "### START CODE HERE ###"
      ],
      "metadata": {
        "id": "psaPFWvf_6Vm"
      },
      "execution_count": null,
      "outputs": []
    },
    {
      "cell_type": "markdown",
      "source": [
        "**Muestre la matriz de confusión para el conjunto de testing. ¿Como se calcula y cuál es su utilidad?** [2 Pts]"
      ],
      "metadata": {
        "id": "z6_e9d4uCaAi"
      }
    },
    {
      "cell_type": "markdown",
      "source": [
        "*Para ello se puede apoyar en la función [ConfusionMatrixDisplay\n",
        "](https://scikit-learn.org/stable/modules/generated/sklearn.metrics.ConfusionMatrixDisplay.html) de scikit-learn.*\n",
        "\n",
        "```\n",
        "cm = confusion_matrix(y_test, predictions, labels=model.classes_)\n",
        "disp = ConfusionMatrixDisplay(confusion_matrix=cm,\n",
        "                              display_labels=model.classes_)\n",
        "disp.plot()\n",
        "...\n",
        "plt.show()\n",
        "```"
      ],
      "metadata": {
        "id": "QynmSddgDYNw"
      }
    },
    {
      "cell_type": "code",
      "source": [
        "# Funcion que muestra la matriz de confusion para el conjunto de testing\n",
        "### START CODE HERE ###"
      ],
      "metadata": {
        "id": "op-Zi1FDCYJ4"
      },
      "execution_count": null,
      "outputs": []
    },
    {
      "cell_type": "code",
      "source": [
        "# Llamar a la funcion"
      ],
      "metadata": {
        "id": "CZnZ4BBxAfAH"
      },
      "execution_count": null,
      "outputs": []
    },
    {
      "cell_type": "markdown",
      "source": [
        "`Respuesta`: "
      ],
      "metadata": {
        "id": "4d50-Cv_Ddg-"
      }
    },
    {
      "cell_type": "markdown",
      "metadata": {
        "id": "S5aFC__LKE7j"
      },
      "source": [
        "# 1.2) Feature Selection 📊\n",
        "\n",
        "\n",
        "El tiempo de entrenamiento y el rendimiento de un algoritmo de aprendizaje automático dependen en gran medida de la calidad y cantidad de features que se tengan. Lo ideal al entrenar un algoritmo es conservar en el conjunto de datos solo las features que potencian a nuestro modelo dado que las características innecesarias y redundantes no sólo vuelven más lento el proceso de entrenamiento, sino que también afectan al rendimiento de este porque como bien sabemos tener demasiadas características podría invocar un problema bastante conocido: `The curse of dimensionality`\n",
        "\n",
        "`Feature Selection` como su nombre lo indica tiene relacion con el proceso de seleccionar solo un subconjunto de features para entrenar un modelo. Algunas de las ventajas de utilizar esta selección son:\n",
        "\n",
        "*   Disminuye el tiempo de entrenamiento de un modelo\n",
        "*   Los modelos con menos features tienen mayor `explainability`, lo cual es un tema muy importante en la actualidad\n",
        "*   Contar con menos features conduce a una mayor generalización lo que puede que reduzca el riesgo al sobreajuste\n",
        "\n",
        "\n",
        "\n",
        "<img src=\"https://drive.google.com/uc?id=1IISn7jVFHNrN5nTBMg9alD8WX2tXLOYn\" width=\"60%\"/>\n",
        "\n",
        "[Referencia](https://towardsdatascience.com/ensemble-feature-selection-in-machine-learning-by-optimalflow-49f6ee0d52eb)"
      ]
    },
    {
      "cell_type": "markdown",
      "metadata": {
        "id": "HtO95f5GKE7j"
      },
      "source": [
        "## Filter Methods\n",
        "\n",
        "Este tipo de selección de features utiliza métodos estadísticos para hacer un ranking en base al score obtenido y así eliminar las características que sean menor o mayor a un cierto treshold. Este método no suele ser muy preciso, pero es rápido de ejecutar dado que no requiere de entrenar un modelo para la selección de features."
      ]
    },
    {
      "cell_type": "markdown",
      "source": [
        "**Implemente la selección de features utilizando Mutual Information y ANOVA f-test, ademas muestre (puede ser un print) que features selecciono cada método. Finalmente entrene nuevamente el algoritmo seleccionado con los mejores hiperparametros y grafique los resultados obtenidos para cada método** [2 Pts]"
      ],
      "metadata": {
        "id": "c_4IPHl35XbO"
      }
    },
    {
      "cell_type": "markdown",
      "source": [
        "*Para ello se puede apoyar en la función [SelectKBest\n",
        "](https://scikit-learn.org/stable/modules/generated/sklearn.feature_selection.SelectKBest.html) de scikit-learn.*\n",
        "\n",
        "```\n",
        "from sklearn.datasets import load_digits\n",
        "from sklearn.feature_selection import SelectKBest, chi2\n",
        "X, y = load_digits(return_X_y=True)\n",
        "X.shape -> (1797, 64)\n",
        "X_new = SelectKBest(chi2, k=20).fit_transform(X, y)\n",
        "X_new.shape -> (1797, 20)\n",
        "```"
      ],
      "metadata": {
        "id": "Wf4iGFVHB1LI"
      }
    },
    {
      "cell_type": "code",
      "source": [
        "# Funcion que selecciona features basandose en MI y ANOVA f-test \n",
        "### START CODE HERE ###"
      ],
      "metadata": {
        "id": "hCCEoslMV2Nd"
      },
      "execution_count": null,
      "outputs": []
    },
    {
      "cell_type": "code",
      "source": [
        "# Llamar a la funcion\n",
        "### START CODE HERE ###"
      ],
      "metadata": {
        "id": "jZK7YiEMbUYn"
      },
      "execution_count": null,
      "outputs": []
    },
    {
      "cell_type": "code",
      "source": [
        "# Mostrar un grafico de los resultados al aplicar estos metodos para el conjunto de testing\n",
        "### START CODE HERE ###"
      ],
      "metadata": {
        "id": "0hnuLmRQnjlW"
      },
      "execution_count": null,
      "outputs": []
    },
    {
      "cell_type": "markdown",
      "metadata": {
        "id": "hHn3CmEEKE7k"
      },
      "source": [
        "## Wrapper Methods\n",
        "\n",
        "Los métodos de tipo Wrapper utilizan un modelo para medir la eficacia de un subconjunto particular de features. Están basados en una búsqueda de tipo greedy ya que evalúan todas las combinaciones posibles de las características y seleccionan la combinación que produce el mejor resultado para cierto algoritmo."
      ]
    },
    {
      "cell_type": "markdown",
      "source": [
        "**Haga lo mismo que en el apartado de Filter Methods pero ahora implemente la selección de features utilizando ambas técnicas recursive feature selection y sequential feature selection** [2 Pts]"
      ],
      "metadata": {
        "id": "MT73Cnd6eu-D"
      }
    },
    {
      "cell_type": "markdown",
      "source": [
        "*Para ello se puede apoyar en la función [RFE](https://scikit-learn.org/stable/modules/generated/sklearn.feature_selection.RFE.html) de scikit-learn.*\n",
        "\n",
        "```\n",
        "from sklearn.datasets import make_friedman1\n",
        "from sklearn.feature_selection import RFE\n",
        "from sklearn.svm import SVR\n",
        "X, y = make_friedman1(n_samples=50, n_features=10, random_state=0)\n",
        "estimator = SVR(kernel=\"linear\")\n",
        "selector = RFE(estimator, n_features_to_select=5, step=1)\n",
        "selector = selector.fit(X, y)\n",
        "selector.ranking_ -> array([1, 1, 1, 1, 1, 6, 4, 3, 2, 5])\n",
        "```\n",
        "*y en la función [SequentialFeatureSelector](https://scikit-learn.org/stable/modules/generated/sklearn.feature_selection.SequentialFeatureSelector.html) de scikit-learn.*\n",
        "\n",
        "```\n",
        "from sklearn.feature_selection import SequentialFeatureSelector\n",
        "from sklearn.neighbors import KNeighborsClassifier\n",
        "from sklearn.datasets import load_iris\n",
        "X, y = load_iris(return_X_y=True)\n",
        "knn = KNeighborsClassifier(n_neighbors=3)\n",
        "sfs = SequentialFeatureSelector(knn, n_features_to_select=3)\n",
        "sfs.fit(X, y)\n",
        "sfs.get_support() -> array([ True, False,  True,  True])\n",
        "```"
      ],
      "metadata": {
        "id": "VlRWIJTfCOkp"
      }
    },
    {
      "cell_type": "code",
      "source": [
        "# Funcion que selecciona features basandose en RFE y SequentialFeatureSelector\n",
        "### START CODE HERE ###"
      ],
      "metadata": {
        "id": "bFdU93BEeyxj"
      },
      "execution_count": null,
      "outputs": []
    },
    {
      "cell_type": "code",
      "source": [
        "# Llamar a la funcion\n",
        "### START CODE HERE ###"
      ],
      "metadata": {
        "id": "fmj39e1Uk_G0"
      },
      "execution_count": null,
      "outputs": []
    },
    {
      "cell_type": "code",
      "source": [
        "# Mostrar el grafico\n",
        "### START CODE HERE ###"
      ],
      "metadata": {
        "id": "B4kKUbPEnDG-"
      },
      "execution_count": null,
      "outputs": []
    },
    {
      "cell_type": "markdown",
      "metadata": {
        "id": "HnwFmfJHKE7k"
      },
      "source": [
        "## Embedded Methods\n",
        "\n",
        "Estos métodos aprovechan las propiedades intrínsecas que tienen algunos modelos ya que algunos algoritmos poseen la capacidad de seleccionan los mejores features cuando se entrenan. Con ello bastaría con solo acceder a estas propiedades para obtener un ranking para cada feature."
      ]
    },
    {
      "cell_type": "markdown",
      "source": [
        "**Haga lo mismo que en el apartado de Filter Methods pero ahora implemente la selección de features utilizando Lasso y Ridge** [2 Pts]"
      ],
      "metadata": {
        "id": "K72VHx0Cggpy"
      }
    },
    {
      "cell_type": "markdown",
      "source": [
        "Se recomienda utilizar `LinearSVC` con `penalty='l1'` para la parte de Lasso y con `penalty='2'` para la parte de Ridge"
      ],
      "metadata": {
        "id": "wZoD_aryBbxb"
      }
    },
    {
      "cell_type": "markdown",
      "source": [
        "*Para ello se puede apoyar en la función [SelectFromModel\n",
        "](https://scikit-learn.org/stable/modules/generated/sklearn.feature_selection.SelectFromModel.html) de scikit-learn.*\n",
        "\n",
        "```\n",
        "from sklearn.feature_selection import SelectFromModel\n",
        "from sklearn.linear_model import LogisticRegression\n",
        "X = [[ 0.87, -1.34,  0.31 ],\n",
        "...      [-2.79, -0.02, -0.85 ],\n",
        "...      [-1.34, -0.48, -2.55 ],\n",
        "...      [ 1.92,  1.48,  0.65 ]]\n",
        "y = [0, 1, 0, 1]\n",
        "selector = SelectFromModel(estimator=LogisticRegression()).fit(X, y)\n",
        "selector.estimator_.coef_\n",
        "array([[-0.3252302 ,  0.83462377,  0.49750423]])\n",
        "selector.threshold_ -> 0.55245...\n",
        "selector.get_support() -> array([False,  True, False])\n",
        "```"
      ],
      "metadata": {
        "id": "UBAkyYlTBs-n"
      }
    },
    {
      "cell_type": "code",
      "source": [
        "# Funcion que selecciona features basandose en Lasso y Ridge\n",
        "### START CODE HERE ###"
      ],
      "metadata": {
        "id": "l3v9YuAigsCi"
      },
      "execution_count": null,
      "outputs": []
    },
    {
      "cell_type": "code",
      "source": [
        "# Llamar a la funcion\n",
        "### START CODE HERE ###"
      ],
      "metadata": {
        "id": "xkYABvX-o_Ak"
      },
      "execution_count": null,
      "outputs": []
    },
    {
      "cell_type": "code",
      "source": [
        "# Mostrar el grafico\n",
        "### START CODE HERE ###"
      ],
      "metadata": {
        "id": "7q7lQtswqYul"
      },
      "execution_count": null,
      "outputs": []
    },
    {
      "cell_type": "markdown",
      "source": [
        "## Dimensionality reduction"
      ],
      "metadata": {
        "id": "ZidMU3atNy8E"
      }
    },
    {
      "cell_type": "markdown",
      "source": [
        "En general `Feature Selection` y `Dimensionality Reduction` se posicionan al mismo nivel porque ambos métodos se utilizan para reducir el número de features, pero existe una diferencia importante. `Feature Selection` consiste en simplemente seleccionar un subconjunto de features sin modificarlas, mientras que `Dimensionality Reduction` consiste en transformar los features a una dimensionalidad menor\n",
        "\n",
        "<img src=\"https://drive.google.com/uc?id=123LTzclTBTNSZgHfaMBswL7tkS3l8L7X\" width=\"60%\"/>\n",
        "\n",
        "[Referencia](https://towardsdatascience.com/dimensionality-reduction-cheatsheet-15060fee3aa)"
      ],
      "metadata": {
        "id": "-ipkasvjtOF6"
      }
    },
    {
      "cell_type": "markdown",
      "source": [
        "### PCA"
      ],
      "metadata": {
        "id": "MYBgR3wEN2G-"
      }
    },
    {
      "cell_type": "markdown",
      "source": [
        "**Utilizando el mejor modelo genere un gráfico con la varianza acumulada vs la cantidad de componentes para PCA considerando como máximo `n_components=num_features`, ademas entrene el mejor modelo con los mejores hiperparametros y genere un gráfico de score vs número de componentes** [2 Pts]"
      ],
      "metadata": {
        "id": "aXK-9xGCwdEk"
      }
    },
    {
      "cell_type": "code",
      "source": [
        "# Funcion que realiza un plot de la varianza acumulada vs numero de componentes para PCA\n",
        "### START CODE HERE ###"
      ],
      "metadata": {
        "id": "PXkVujBwtH1Z"
      },
      "execution_count": null,
      "outputs": []
    },
    {
      "cell_type": "code",
      "source": [
        "# Llamar a la funcion\n",
        "### START CODE HERE ###"
      ],
      "metadata": {
        "id": "1mDh3ASMw8GX"
      },
      "execution_count": null,
      "outputs": []
    },
    {
      "cell_type": "code",
      "source": [
        "# Funcion que evalua el modelo en base al numero de componentes para PCA\n",
        "### START CODE HERE ###"
      ],
      "metadata": {
        "id": "t6qA8wvD0jik"
      },
      "execution_count": null,
      "outputs": []
    },
    {
      "cell_type": "code",
      "source": [
        "# LLamar a la funcion\n",
        "### START CODE HERE ###"
      ],
      "metadata": {
        "id": "t466VU_u21FD"
      },
      "execution_count": null,
      "outputs": []
    },
    {
      "cell_type": "code",
      "source": [
        "# Mostrar el grafico\n",
        "### START CODE HERE ###"
      ],
      "metadata": {
        "id": "CZZ90i6y5Wuv"
      },
      "execution_count": null,
      "outputs": []
    },
    {
      "cell_type": "markdown",
      "source": [
        "### LDA\n"
      ],
      "metadata": {
        "id": "yRo1FIgfUrH0"
      }
    },
    {
      "cell_type": "markdown",
      "source": [
        "**Haga el mismo procedimiento realizado en la parte de entrenamiento con PCA pero ahora con LDA** [2 Pts]"
      ],
      "metadata": {
        "id": "4v60tnddySd5"
      }
    },
    {
      "cell_type": "markdown",
      "source": [
        "Recuerde que `n_components cannot be larger than min(n_features, n_classes - 1)`"
      ],
      "metadata": {
        "id": "Fz81sP02EUOU"
      }
    },
    {
      "cell_type": "code",
      "source": [
        "# Funcion que evalua el modelo luego de pasar por LDA\n",
        "### START CODE HERE ###"
      ],
      "metadata": {
        "id": "ub-sVMPdnn7I"
      },
      "execution_count": null,
      "outputs": []
    },
    {
      "cell_type": "code",
      "source": [
        "# LLamar a la funcion\n",
        "### START CODE HERE ###"
      ],
      "metadata": {
        "id": "K3YT0sNTBFpe"
      },
      "execution_count": null,
      "outputs": []
    },
    {
      "cell_type": "code",
      "source": [
        "# Mostrar el grafico\n",
        "### START CODE HERE ###"
      ],
      "metadata": {
        "id": "Gt4pjUOoAFrS"
      },
      "execution_count": null,
      "outputs": []
    },
    {
      "cell_type": "markdown",
      "source": [
        "# 1.3) Regression 📈 "
      ],
      "metadata": {
        "id": "XenJgy3-jPLk"
      }
    },
    {
      "cell_type": "markdown",
      "source": [
        "El dataset anterior era de clasificación, así que ahora intentaremos usar algunas técnicas de lo aprendido en la parte 1.1 y 1.2 pero para un problema de regresión. Para ello utilizaremos el clásico dataset diamonds que consiste en predecir el precio de un diamante en base a ciertas características"
      ],
      "metadata": {
        "id": "RFiCbH8ZjWLf"
      }
    },
    {
      "cell_type": "markdown",
      "source": [
        "<img src=\"https://drive.google.com/uc?id=19JxMzb0ccbzBD94XcQ7wpKnEWV62sEcs\" width=\"50%\"/>\n",
        "\n",
        "[Referencia](https://clickmica.fundaciondescubre.es/conoce/100-preguntas-100-respuestas/diamante-para-siempre/)"
      ],
      "metadata": {
        "id": "5_St9Ip8u2Z8"
      }
    },
    {
      "cell_type": "markdown",
      "source": [
        "La data corresponde a 53.940 instancias las cuales tienen relación con el precio de un diamante.\n",
        "\n",
        "Para el dataset se tienen nueve características (features) las cuales están diseñadas para identificar ciertos patrones dentro del grafo de transacciones:\n",
        "\n",
        "* `carat`: Peso del diamante\n",
        "* `cut`: Calidad del corte (Fair, Good, Very Good, Premium, Ideal)\n",
        "* `color`: Color del diamante J (worst) to D (best)\n",
        "* `clarity`: Claridad del diamante (I1 (worst), SI2, SI1, VS2, VS1, VVS2, VVS1, IF (best))\n",
        "* `depth`: Porcentaje de profundidad = z / mean(x, y) = 2 * z / (x + y) \n",
        "* `table`: Ancho de la parte superior del diamante\n",
        "* `x`: Largo\n",
        "* `y`: Ancho\n",
        "* `z`: Profundidad\n",
        "\n",
        "y un target (lo que queremos predecir):\n",
        "\n",
        "* `price`: Precio del diamante"
      ],
      "metadata": {
        "id": "XtAZQFNPngkv"
      }
    },
    {
      "cell_type": "markdown",
      "source": [
        "## Carga de datos"
      ],
      "metadata": {
        "id": "sRTTD-4HZRjA"
      }
    },
    {
      "cell_type": "code",
      "source": [
        "# Cargar la data que corresponde a un csv\n",
        "PATH_TO_CSV = os.path.join(path, \"tarea_1_diamonds.csv\")\n",
        "df_data = pd.read_csv(PATH_TO_CSV, index_col=0)"
      ],
      "metadata": {
        "id": "-Yydb-YajgLY"
      },
      "execution_count": null,
      "outputs": []
    },
    {
      "cell_type": "markdown",
      "source": [
        "## Exploración y preprocesamiento"
      ],
      "metadata": {
        "id": "8RUeFtriZUdA"
      }
    },
    {
      "cell_type": "markdown",
      "source": [
        "**Implemente el código para separar la data considerando un split de 80/10/10 respectivamente, ademas genere gráficos individuales para todas las columnas y genere gráficos de a pares como por ejemplo carat vs price. Comente los gráficos** [3 Pts]"
      ],
      "metadata": {
        "id": "WhuZHvcPCzhO"
      }
    },
    {
      "cell_type": "code",
      "source": [
        "# Hacer el split de la data\n",
        "### START CODE HERE ###"
      ],
      "metadata": {
        "id": "XCAaCf0FDKET"
      },
      "execution_count": null,
      "outputs": []
    },
    {
      "cell_type": "code",
      "source": [
        "# Generar graficos (agregue la cantidad de celdas que requiera)\n",
        "### START CODE HERE ###"
      ],
      "metadata": {
        "id": "FaXUQnHCDfFp"
      },
      "execution_count": null,
      "outputs": []
    },
    {
      "cell_type": "markdown",
      "source": [
        "**Crear una función que implemente las siguientes técnicas de preprocesamiento para cada feature especificado:** [3 Pts]\n",
        "\n",
        "*   `MinMaxScaler` con rango (-1, 1): `depth`, `table`\n",
        "*   `StandardScaler`: `x`, `y`, `z`\n",
        "*   `Bucketizing`: `carat`\n",
        "    \n",
        "    Considerando lo siguiente:\n",
        "\n",
        "    1.   Valor menor o igual a 1 asignar: `\"bajo\"`\n",
        "    2.   Valor mayor a 1 y menor o igual a 2 asignar: `\"medio\"`\n",
        "    3.   Valor mayor a 2 asignar: `\"alto\"`\n",
        "\n",
        "*   `Ordinal Encoding` (recordar mantener el orden): `cut`, `color`, `clarity`"
      ],
      "metadata": {
        "id": "lsClglOwWh5R"
      }
    },
    {
      "cell_type": "code",
      "source": [
        "# Fucnion que implementa las tecnicas de preprocesamiento indicadas\n",
        "### START CODE HERE ###"
      ],
      "metadata": {
        "id": "27BhsSqyZpC4"
      },
      "execution_count": null,
      "outputs": []
    },
    {
      "cell_type": "code",
      "source": [
        "# Llamar a la funcion\n",
        "### START CODE HERE ###"
      ],
      "metadata": {
        "id": "S9KTGYcOZ0-G"
      },
      "execution_count": null,
      "outputs": []
    },
    {
      "cell_type": "markdown",
      "source": [
        "## Entrenamiento"
      ],
      "metadata": {
        "id": "Wmm0DHsRZhOt"
      }
    },
    {
      "cell_type": "markdown",
      "source": [
        "Para la parte de entrenamiento vamos a utilizar tres modelos:\n",
        "\n",
        "*   Lasso\n",
        "*   Ridge\n",
        "*   Linear Regression\n",
        "\n",
        "Para la elección del mejor modelo se considerará la evaluación de 2 métricas distintas para regresión (MSE y MAE) y se utilizara `K-Fold Cross Validation\n"
      ],
      "metadata": {
        "id": "ycjehddFfApb"
      }
    },
    {
      "cell_type": "markdown",
      "source": [
        "**Implemente las siguientes funciones y entrene cada modelo utilizando K-Fold cross validation con K=10 y genere un gráfico de tipo boxplot con los resultados obtenidos por modelo. Finalmente comente cual es el mejor modelo en base a tiempo de entrenamiento y score obtenido** [3 Pts]"
      ],
      "metadata": {
        "id": "Gfs-YVn4fCti"
      }
    },
    {
      "cell_type": "code",
      "source": [
        "# Divida la data en X_train, y_train, ... X_test, y_test\n",
        "### START CODE HERE ###"
      ],
      "metadata": {
        "id": "f2UlWi8Vezl-"
      },
      "execution_count": null,
      "outputs": []
    },
    {
      "cell_type": "code",
      "source": [
        "# Funcion que computa las metricas mse y mae dado el modelo y el conjunto de testing\n",
        "### START CODE HERE ###"
      ],
      "metadata": {
        "id": "WZMb8PzxfnRD"
      },
      "execution_count": null,
      "outputs": []
    },
    {
      "cell_type": "markdown",
      "source": [
        "**Defina como se calcula cada una de las siguientes métricas** [1 Pts]\n"
      ],
      "metadata": {
        "id": "549cZ2VAhHLt"
      }
    },
    {
      "cell_type": "markdown",
      "source": [
        "\n",
        "*   `MSE`: \n",
        "*   `MAE`: "
      ],
      "metadata": {
        "id": "jDZOHizuhMEI"
      }
    },
    {
      "cell_type": "code",
      "source": [
        "# Funcion que entrena los modelos utilizando K-Fold\n",
        "### START CODE HERE ###"
      ],
      "metadata": {
        "id": "VF8UnEDZhTJg"
      },
      "execution_count": null,
      "outputs": []
    },
    {
      "cell_type": "code",
      "source": [
        "# Boxplot con los resultados de K-Fold para cada modelo\n",
        "### START CODE HERE ###"
      ],
      "metadata": {
        "id": "Sz1ZUqcMiFhl"
      },
      "execution_count": null,
      "outputs": []
    },
    {
      "cell_type": "markdown",
      "source": [
        "**Optimice los hiperparámetros para el mejor modelo utilizando el conjunto de validación** [2 Pts]"
      ],
      "metadata": {
        "id": "-nIeB-5wi_jA"
      }
    },
    {
      "cell_type": "code",
      "source": [
        "# Funcion que obtiene los mejores hiperparametros para el mejor modelo\n",
        "# seleccionado en la parte de K-Fold\n",
        "### START CODE HERE ###"
      ],
      "metadata": {
        "id": "eksSJIk8jFk2"
      },
      "execution_count": null,
      "outputs": []
    },
    {
      "cell_type": "code",
      "source": [
        "# Llamar a la funcion\n",
        "### START CODE HERE ###"
      ],
      "metadata": {
        "id": "U_kJ2948jw4p"
      },
      "execution_count": null,
      "outputs": []
    },
    {
      "cell_type": "code",
      "source": [
        "# Mostrar los mejores hiperparametros\n",
        "### START CODE HERE ###"
      ],
      "metadata": {
        "id": "_bWmiw8dkVWc"
      },
      "execution_count": null,
      "outputs": []
    },
    {
      "cell_type": "markdown",
      "source": [
        "## Predicción"
      ],
      "metadata": {
        "id": "JwqQVj3_jGTp"
      }
    },
    {
      "cell_type": "markdown",
      "source": [
        "**Implemente una función que evalúe su mejor modelo utilizando el conjunto de testing haciendo uso de los mejores hiperparámetros, evalúe utilizando la función que calcula las 2 métricas** [2 Pts]"
      ],
      "metadata": {
        "id": "WiRQgxZkkaXL"
      }
    },
    {
      "cell_type": "code",
      "source": [
        "# Funcion que evalua el mejor modelo con los hiperparametros encontrados anteriormente\n",
        "### START CODE HERE ###"
      ],
      "metadata": {
        "id": "BcPUV5gsjIWM"
      },
      "execution_count": null,
      "outputs": []
    },
    {
      "cell_type": "code",
      "source": [
        "# LLamar a la funcion\n",
        "### START CODE HERE ###"
      ],
      "metadata": {
        "id": "9erXy5vlk3nD"
      },
      "execution_count": null,
      "outputs": []
    },
    {
      "cell_type": "code",
      "source": [
        "# Mostrar los resultados obtenidos en terminos de mse y mae\n",
        "### START CODE HERE ###"
      ],
      "metadata": {
        "id": "H7tsAM_6k35z"
      },
      "execution_count": null,
      "outputs": []
    },
    {
      "cell_type": "markdown",
      "source": [
        "## Feature Selection"
      ],
      "metadata": {
        "id": "bvqZDgAPlzFo"
      }
    },
    {
      "cell_type": "markdown",
      "source": [
        "\n",
        "**Implemente la selección de features utilizando Mutual Information, RFE, Ridge/Lasso y PCA. Finalmente entrene nuevamente el algoritmo seleccionado para cada caso con sus respectivos hiperparametros y grafique los resultados obtenidos para cada método** [4 Pts]\n"
      ],
      "metadata": {
        "id": "oNSyYwEvmIQH"
      }
    },
    {
      "cell_type": "markdown",
      "source": [
        "\n",
        "*   `Mutual Information`: Seleccionar features considerando solo el percentil 50 \n",
        "*   `RFE`: Seleccionar como máximo 5 features\n",
        "\n",
        "*   `Ridge/Lasso`: Si selecciono como modelo base Ridge usar Lasso para feature selection y viceversa, si selecciono Linear Regression puede implementar libremente cualquiera de las dos\n",
        "\n",
        "*   `PCA`: Utilizar 5 componentes\n",
        "\n",
        "\n",
        "\n"
      ],
      "metadata": {
        "id": "xoa9cXt5m386"
      }
    },
    {
      "cell_type": "code",
      "source": [
        "# Funcion que aplica las tecnicas de preprocesamiento indicadas\n",
        "### START CODE HERE ###"
      ],
      "metadata": {
        "id": "Z1Q7nRwul1l1"
      },
      "execution_count": null,
      "outputs": []
    },
    {
      "cell_type": "code",
      "source": [
        "# Llamar a la funcion\n",
        "### START CODE HERE ###"
      ],
      "metadata": {
        "id": "sLS7ABTJspH2"
      },
      "execution_count": null,
      "outputs": []
    },
    {
      "cell_type": "code",
      "source": [
        "# Graficar los resultados obtenidos\n",
        "### START CODE HERE ###"
      ],
      "metadata": {
        "id": "bBqFZegps6CC"
      },
      "execution_count": null,
      "outputs": []
    },
    {
      "cell_type": "markdown",
      "source": [
        "**Comente sobre los resultados obtenidos y respecto su opinión respecto al uso de Feature Selection?** [2 Pts]"
      ],
      "metadata": {
        "id": "9cNgGcMct_f0"
      }
    },
    {
      "cell_type": "markdown",
      "source": [
        "`Comentario`: "
      ],
      "metadata": {
        "id": "hsXc1miltbSC"
      }
    },
    {
      "cell_type": "markdown",
      "source": [
        "# 2) Warm up para las próximas tareas 🏆\n",
        "\n"
      ],
      "metadata": {
        "id": "PRfCrP9BU424"
      }
    },
    {
      "cell_type": "markdown",
      "source": [
        "Para la última parte intentaremos prepararlos para las próximas tareas en la cuales se les presentara un dataset y tendrán que competir para obtener el mejor score en el conjunto de testing, así que se recomienda jugar harto con el dataset y recuerden que entrenar un modelo es un proceso iterativo"
      ],
      "metadata": {
        "id": "oolbCtaH9NUc"
      }
    },
    {
      "cell_type": "markdown",
      "source": [
        "<img src=\"https://drive.google.com/uc?id=1KlleL_2AfK87Llz1CvGIXSBszprRgCoY\" width=\"60%\"/>\n",
        "\n",
        "\n",
        "[Referencia](https://www.elagoradiario.com/desarrollo-sostenible/cambio-climatico/el-viento-aumentado-7-ultima-decada/)"
      ],
      "metadata": {
        "id": "sUa2OW6BBrpN"
      }
    },
    {
      "cell_type": "markdown",
      "source": [
        "El dataset con el cual van a trabajar consta de predecir una variable binaria relacionada con predecir si un molino de viento va a tener una falla o no utilizando 170 features los cuales por temas de privacidad se encuentran anonimizados.\n",
        "\n",
        "Features:\n",
        "\n",
        "* `aa_000-eg_000`: Variables de origen desconocido\n",
        "\n",
        "Target:\n",
        "\n",
        "* `class`: Predicción de la falla\n",
        "\n",
        "\n",
        "Se les proporcionará el conjunto de testing para que todos evalúen en el mismo conjunto y se les pedirá que ademas antes de subir su tarea rellenen en un formulario cual es el score que obtuvieron en esta última parte para el conjunto de testing considerando como métrica `Cost` la que se define más abajo"
      ],
      "metadata": {
        "id": "h2qlyvntFqni"
      }
    },
    {
      "cell_type": "code",
      "source": [
        "PATH_TO_TRAIN_CSV = os.path.join(path, \"tarea_1_train.csv\")\n",
        "PATH_TO_TEST_CSV = os.path.join(path, \"tarea_1_test.csv\")\n",
        "df_train = pd.read_csv(PATH_TO_TRAIN_CSV)\n",
        "df_test = pd.read_csv(PATH_TO_TEST_CSV)"
      ],
      "metadata": {
        "id": "jeDihlApFBld"
      },
      "execution_count": null,
      "outputs": []
    },
    {
      "cell_type": "code",
      "source": [
        "print(f\"Number of examples for training: {len(df_train)}\")\n",
        "df_train.head()"
      ],
      "metadata": {
        "colab": {
          "base_uri": "https://localhost:8080/",
          "height": 253
        },
        "id": "mcjj2_Ikakv2",
        "outputId": "33c2b0b8-887c-4e8c-d6ba-2e90b227cf55"
      },
      "execution_count": null,
      "outputs": [
        {
          "output_type": "stream",
          "name": "stdout",
          "text": [
            "Number of examples for training: 60000\n"
          ]
        },
        {
          "output_type": "execute_result",
          "data": {
            "text/plain": [
              "  class  aa_000 ab_000      ac_000 ad_000 ae_000 af_000 ag_000 ag_001 ag_002  \\\n",
              "0   neg   76698     na  2130706438    280      0      0      0      0      0   \n",
              "1   neg   33058     na           0     na      0      0      0      0      0   \n",
              "2   neg   41040     na         228    100      0      0      0      0      0   \n",
              "3   neg      12      0          70     66      0     10      0      0      0   \n",
              "4   neg   60874     na        1368    458      0      0      0      0      0   \n",
              "\n",
              "   ...   ee_002  ee_003  ee_004  ee_005  ee_006  ee_007  ee_008 ee_009 ef_000  \\\n",
              "0  ...  1240520  493384  721044  469792  339156  157956   73224      0      0   \n",
              "1  ...   421400  178064  293306  245416  133654   81140   97576   1500      0   \n",
              "2  ...   277378  159812  423992  409564  320746  158022   95128    514      0   \n",
              "3  ...      240      46      58      44      10       0       0      0      4   \n",
              "4  ...   622012  229790  405298  347188  286954  311560  433954   1218      0   \n",
              "\n",
              "  eg_000  \n",
              "0      0  \n",
              "1      0  \n",
              "2      0  \n",
              "3     32  \n",
              "4      0  \n",
              "\n",
              "[5 rows x 171 columns]"
            ],
            "text/html": [
              "\n",
              "  <div id=\"df-38b0cff5-4e4a-46d7-b938-12ff8b69b818\">\n",
              "    <div class=\"colab-df-container\">\n",
              "      <div>\n",
              "<style scoped>\n",
              "    .dataframe tbody tr th:only-of-type {\n",
              "        vertical-align: middle;\n",
              "    }\n",
              "\n",
              "    .dataframe tbody tr th {\n",
              "        vertical-align: top;\n",
              "    }\n",
              "\n",
              "    .dataframe thead th {\n",
              "        text-align: right;\n",
              "    }\n",
              "</style>\n",
              "<table border=\"1\" class=\"dataframe\">\n",
              "  <thead>\n",
              "    <tr style=\"text-align: right;\">\n",
              "      <th></th>\n",
              "      <th>class</th>\n",
              "      <th>aa_000</th>\n",
              "      <th>ab_000</th>\n",
              "      <th>ac_000</th>\n",
              "      <th>ad_000</th>\n",
              "      <th>ae_000</th>\n",
              "      <th>af_000</th>\n",
              "      <th>ag_000</th>\n",
              "      <th>ag_001</th>\n",
              "      <th>ag_002</th>\n",
              "      <th>...</th>\n",
              "      <th>ee_002</th>\n",
              "      <th>ee_003</th>\n",
              "      <th>ee_004</th>\n",
              "      <th>ee_005</th>\n",
              "      <th>ee_006</th>\n",
              "      <th>ee_007</th>\n",
              "      <th>ee_008</th>\n",
              "      <th>ee_009</th>\n",
              "      <th>ef_000</th>\n",
              "      <th>eg_000</th>\n",
              "    </tr>\n",
              "  </thead>\n",
              "  <tbody>\n",
              "    <tr>\n",
              "      <th>0</th>\n",
              "      <td>neg</td>\n",
              "      <td>76698</td>\n",
              "      <td>na</td>\n",
              "      <td>2130706438</td>\n",
              "      <td>280</td>\n",
              "      <td>0</td>\n",
              "      <td>0</td>\n",
              "      <td>0</td>\n",
              "      <td>0</td>\n",
              "      <td>0</td>\n",
              "      <td>...</td>\n",
              "      <td>1240520</td>\n",
              "      <td>493384</td>\n",
              "      <td>721044</td>\n",
              "      <td>469792</td>\n",
              "      <td>339156</td>\n",
              "      <td>157956</td>\n",
              "      <td>73224</td>\n",
              "      <td>0</td>\n",
              "      <td>0</td>\n",
              "      <td>0</td>\n",
              "    </tr>\n",
              "    <tr>\n",
              "      <th>1</th>\n",
              "      <td>neg</td>\n",
              "      <td>33058</td>\n",
              "      <td>na</td>\n",
              "      <td>0</td>\n",
              "      <td>na</td>\n",
              "      <td>0</td>\n",
              "      <td>0</td>\n",
              "      <td>0</td>\n",
              "      <td>0</td>\n",
              "      <td>0</td>\n",
              "      <td>...</td>\n",
              "      <td>421400</td>\n",
              "      <td>178064</td>\n",
              "      <td>293306</td>\n",
              "      <td>245416</td>\n",
              "      <td>133654</td>\n",
              "      <td>81140</td>\n",
              "      <td>97576</td>\n",
              "      <td>1500</td>\n",
              "      <td>0</td>\n",
              "      <td>0</td>\n",
              "    </tr>\n",
              "    <tr>\n",
              "      <th>2</th>\n",
              "      <td>neg</td>\n",
              "      <td>41040</td>\n",
              "      <td>na</td>\n",
              "      <td>228</td>\n",
              "      <td>100</td>\n",
              "      <td>0</td>\n",
              "      <td>0</td>\n",
              "      <td>0</td>\n",
              "      <td>0</td>\n",
              "      <td>0</td>\n",
              "      <td>...</td>\n",
              "      <td>277378</td>\n",
              "      <td>159812</td>\n",
              "      <td>423992</td>\n",
              "      <td>409564</td>\n",
              "      <td>320746</td>\n",
              "      <td>158022</td>\n",
              "      <td>95128</td>\n",
              "      <td>514</td>\n",
              "      <td>0</td>\n",
              "      <td>0</td>\n",
              "    </tr>\n",
              "    <tr>\n",
              "      <th>3</th>\n",
              "      <td>neg</td>\n",
              "      <td>12</td>\n",
              "      <td>0</td>\n",
              "      <td>70</td>\n",
              "      <td>66</td>\n",
              "      <td>0</td>\n",
              "      <td>10</td>\n",
              "      <td>0</td>\n",
              "      <td>0</td>\n",
              "      <td>0</td>\n",
              "      <td>...</td>\n",
              "      <td>240</td>\n",
              "      <td>46</td>\n",
              "      <td>58</td>\n",
              "      <td>44</td>\n",
              "      <td>10</td>\n",
              "      <td>0</td>\n",
              "      <td>0</td>\n",
              "      <td>0</td>\n",
              "      <td>4</td>\n",
              "      <td>32</td>\n",
              "    </tr>\n",
              "    <tr>\n",
              "      <th>4</th>\n",
              "      <td>neg</td>\n",
              "      <td>60874</td>\n",
              "      <td>na</td>\n",
              "      <td>1368</td>\n",
              "      <td>458</td>\n",
              "      <td>0</td>\n",
              "      <td>0</td>\n",
              "      <td>0</td>\n",
              "      <td>0</td>\n",
              "      <td>0</td>\n",
              "      <td>...</td>\n",
              "      <td>622012</td>\n",
              "      <td>229790</td>\n",
              "      <td>405298</td>\n",
              "      <td>347188</td>\n",
              "      <td>286954</td>\n",
              "      <td>311560</td>\n",
              "      <td>433954</td>\n",
              "      <td>1218</td>\n",
              "      <td>0</td>\n",
              "      <td>0</td>\n",
              "    </tr>\n",
              "  </tbody>\n",
              "</table>\n",
              "<p>5 rows × 171 columns</p>\n",
              "</div>\n",
              "      <button class=\"colab-df-convert\" onclick=\"convertToInteractive('df-38b0cff5-4e4a-46d7-b938-12ff8b69b818')\"\n",
              "              title=\"Convert this dataframe to an interactive table.\"\n",
              "              style=\"display:none;\">\n",
              "        \n",
              "  <svg xmlns=\"http://www.w3.org/2000/svg\" height=\"24px\"viewBox=\"0 0 24 24\"\n",
              "       width=\"24px\">\n",
              "    <path d=\"M0 0h24v24H0V0z\" fill=\"none\"/>\n",
              "    <path d=\"M18.56 5.44l.94 2.06.94-2.06 2.06-.94-2.06-.94-.94-2.06-.94 2.06-2.06.94zm-11 1L8.5 8.5l.94-2.06 2.06-.94-2.06-.94L8.5 2.5l-.94 2.06-2.06.94zm10 10l.94 2.06.94-2.06 2.06-.94-2.06-.94-.94-2.06-.94 2.06-2.06.94z\"/><path d=\"M17.41 7.96l-1.37-1.37c-.4-.4-.92-.59-1.43-.59-.52 0-1.04.2-1.43.59L10.3 9.45l-7.72 7.72c-.78.78-.78 2.05 0 2.83L4 21.41c.39.39.9.59 1.41.59.51 0 1.02-.2 1.41-.59l7.78-7.78 2.81-2.81c.8-.78.8-2.07 0-2.86zM5.41 20L4 18.59l7.72-7.72 1.47 1.35L5.41 20z\"/>\n",
              "  </svg>\n",
              "      </button>\n",
              "      \n",
              "  <style>\n",
              "    .colab-df-container {\n",
              "      display:flex;\n",
              "      flex-wrap:wrap;\n",
              "      gap: 12px;\n",
              "    }\n",
              "\n",
              "    .colab-df-convert {\n",
              "      background-color: #E8F0FE;\n",
              "      border: none;\n",
              "      border-radius: 50%;\n",
              "      cursor: pointer;\n",
              "      display: none;\n",
              "      fill: #1967D2;\n",
              "      height: 32px;\n",
              "      padding: 0 0 0 0;\n",
              "      width: 32px;\n",
              "    }\n",
              "\n",
              "    .colab-df-convert:hover {\n",
              "      background-color: #E2EBFA;\n",
              "      box-shadow: 0px 1px 2px rgba(60, 64, 67, 0.3), 0px 1px 3px 1px rgba(60, 64, 67, 0.15);\n",
              "      fill: #174EA6;\n",
              "    }\n",
              "\n",
              "    [theme=dark] .colab-df-convert {\n",
              "      background-color: #3B4455;\n",
              "      fill: #D2E3FC;\n",
              "    }\n",
              "\n",
              "    [theme=dark] .colab-df-convert:hover {\n",
              "      background-color: #434B5C;\n",
              "      box-shadow: 0px 1px 3px 1px rgba(0, 0, 0, 0.15);\n",
              "      filter: drop-shadow(0px 1px 2px rgba(0, 0, 0, 0.3));\n",
              "      fill: #FFFFFF;\n",
              "    }\n",
              "  </style>\n",
              "\n",
              "      <script>\n",
              "        const buttonEl =\n",
              "          document.querySelector('#df-38b0cff5-4e4a-46d7-b938-12ff8b69b818 button.colab-df-convert');\n",
              "        buttonEl.style.display =\n",
              "          google.colab.kernel.accessAllowed ? 'block' : 'none';\n",
              "\n",
              "        async function convertToInteractive(key) {\n",
              "          const element = document.querySelector('#df-38b0cff5-4e4a-46d7-b938-12ff8b69b818');\n",
              "          const dataTable =\n",
              "            await google.colab.kernel.invokeFunction('convertToInteractive',\n",
              "                                                     [key], {});\n",
              "          if (!dataTable) return;\n",
              "\n",
              "          const docLinkHtml = 'Like what you see? Visit the ' +\n",
              "            '<a target=\"_blank\" href=https://colab.research.google.com/notebooks/data_table.ipynb>data table notebook</a>'\n",
              "            + ' to learn more about interactive tables.';\n",
              "          element.innerHTML = '';\n",
              "          dataTable['output_type'] = 'display_data';\n",
              "          await google.colab.output.renderOutput(dataTable, element);\n",
              "          const docLink = document.createElement('div');\n",
              "          docLink.innerHTML = docLinkHtml;\n",
              "          element.appendChild(docLink);\n",
              "        }\n",
              "      </script>\n",
              "    </div>\n",
              "  </div>\n",
              "  "
            ]
          },
          "metadata": {},
          "execution_count": 288
        }
      ]
    },
    {
      "cell_type": "code",
      "source": [
        "print(f\"Number of examples for testing: {len(df_test)}\")\n",
        "df_test.head()"
      ],
      "metadata": {
        "colab": {
          "base_uri": "https://localhost:8080/",
          "height": 253
        },
        "id": "XmLgGdeFami0",
        "outputId": "a9c88141-5e05-4bfc-b6ca-af619e66a4ca"
      },
      "execution_count": null,
      "outputs": [
        {
          "output_type": "stream",
          "name": "stdout",
          "text": [
            "Number of examples for testing: 16000\n"
          ]
        },
        {
          "output_type": "execute_result",
          "data": {
            "text/plain": [
              "  class  aa_000 ab_000 ac_000 ad_000 ae_000 af_000 ag_000 ag_001 ag_002  ...  \\\n",
              "0   neg      60      0     20     12      0      0      0      0      0  ...   \n",
              "1   neg      82      0     68     40      0      0      0      0      0  ...   \n",
              "2   neg   66002      2    212    112      0      0      0      0      0  ...   \n",
              "3   neg   59816     na   1010    936      0      0      0      0      0  ...   \n",
              "4   neg    1814     na    156    140      0      0      0      0      0  ...   \n",
              "\n",
              "   ee_002  ee_003  ee_004  ee_005   ee_006  ee_007  ee_008 ee_009 ef_000  \\\n",
              "0    1098     138     412     654       78      88       0      0      0   \n",
              "1    1068     276    1620     116       86     462       0      0      0   \n",
              "2  495076  380368  440134  269556  1315022  153680     516      0      0   \n",
              "3  540820  243270  483302  485332   431376  210074  281662   3232      0   \n",
              "4    7646    4144   18466   49782     3176     482      76      0      0   \n",
              "\n",
              "  eg_000  \n",
              "0      0  \n",
              "1      0  \n",
              "2      0  \n",
              "3      0  \n",
              "4      0  \n",
              "\n",
              "[5 rows x 171 columns]"
            ],
            "text/html": [
              "\n",
              "  <div id=\"df-e69ad8f4-179b-4c77-8b75-7504106069eb\">\n",
              "    <div class=\"colab-df-container\">\n",
              "      <div>\n",
              "<style scoped>\n",
              "    .dataframe tbody tr th:only-of-type {\n",
              "        vertical-align: middle;\n",
              "    }\n",
              "\n",
              "    .dataframe tbody tr th {\n",
              "        vertical-align: top;\n",
              "    }\n",
              "\n",
              "    .dataframe thead th {\n",
              "        text-align: right;\n",
              "    }\n",
              "</style>\n",
              "<table border=\"1\" class=\"dataframe\">\n",
              "  <thead>\n",
              "    <tr style=\"text-align: right;\">\n",
              "      <th></th>\n",
              "      <th>class</th>\n",
              "      <th>aa_000</th>\n",
              "      <th>ab_000</th>\n",
              "      <th>ac_000</th>\n",
              "      <th>ad_000</th>\n",
              "      <th>ae_000</th>\n",
              "      <th>af_000</th>\n",
              "      <th>ag_000</th>\n",
              "      <th>ag_001</th>\n",
              "      <th>ag_002</th>\n",
              "      <th>...</th>\n",
              "      <th>ee_002</th>\n",
              "      <th>ee_003</th>\n",
              "      <th>ee_004</th>\n",
              "      <th>ee_005</th>\n",
              "      <th>ee_006</th>\n",
              "      <th>ee_007</th>\n",
              "      <th>ee_008</th>\n",
              "      <th>ee_009</th>\n",
              "      <th>ef_000</th>\n",
              "      <th>eg_000</th>\n",
              "    </tr>\n",
              "  </thead>\n",
              "  <tbody>\n",
              "    <tr>\n",
              "      <th>0</th>\n",
              "      <td>neg</td>\n",
              "      <td>60</td>\n",
              "      <td>0</td>\n",
              "      <td>20</td>\n",
              "      <td>12</td>\n",
              "      <td>0</td>\n",
              "      <td>0</td>\n",
              "      <td>0</td>\n",
              "      <td>0</td>\n",
              "      <td>0</td>\n",
              "      <td>...</td>\n",
              "      <td>1098</td>\n",
              "      <td>138</td>\n",
              "      <td>412</td>\n",
              "      <td>654</td>\n",
              "      <td>78</td>\n",
              "      <td>88</td>\n",
              "      <td>0</td>\n",
              "      <td>0</td>\n",
              "      <td>0</td>\n",
              "      <td>0</td>\n",
              "    </tr>\n",
              "    <tr>\n",
              "      <th>1</th>\n",
              "      <td>neg</td>\n",
              "      <td>82</td>\n",
              "      <td>0</td>\n",
              "      <td>68</td>\n",
              "      <td>40</td>\n",
              "      <td>0</td>\n",
              "      <td>0</td>\n",
              "      <td>0</td>\n",
              "      <td>0</td>\n",
              "      <td>0</td>\n",
              "      <td>...</td>\n",
              "      <td>1068</td>\n",
              "      <td>276</td>\n",
              "      <td>1620</td>\n",
              "      <td>116</td>\n",
              "      <td>86</td>\n",
              "      <td>462</td>\n",
              "      <td>0</td>\n",
              "      <td>0</td>\n",
              "      <td>0</td>\n",
              "      <td>0</td>\n",
              "    </tr>\n",
              "    <tr>\n",
              "      <th>2</th>\n",
              "      <td>neg</td>\n",
              "      <td>66002</td>\n",
              "      <td>2</td>\n",
              "      <td>212</td>\n",
              "      <td>112</td>\n",
              "      <td>0</td>\n",
              "      <td>0</td>\n",
              "      <td>0</td>\n",
              "      <td>0</td>\n",
              "      <td>0</td>\n",
              "      <td>...</td>\n",
              "      <td>495076</td>\n",
              "      <td>380368</td>\n",
              "      <td>440134</td>\n",
              "      <td>269556</td>\n",
              "      <td>1315022</td>\n",
              "      <td>153680</td>\n",
              "      <td>516</td>\n",
              "      <td>0</td>\n",
              "      <td>0</td>\n",
              "      <td>0</td>\n",
              "    </tr>\n",
              "    <tr>\n",
              "      <th>3</th>\n",
              "      <td>neg</td>\n",
              "      <td>59816</td>\n",
              "      <td>na</td>\n",
              "      <td>1010</td>\n",
              "      <td>936</td>\n",
              "      <td>0</td>\n",
              "      <td>0</td>\n",
              "      <td>0</td>\n",
              "      <td>0</td>\n",
              "      <td>0</td>\n",
              "      <td>...</td>\n",
              "      <td>540820</td>\n",
              "      <td>243270</td>\n",
              "      <td>483302</td>\n",
              "      <td>485332</td>\n",
              "      <td>431376</td>\n",
              "      <td>210074</td>\n",
              "      <td>281662</td>\n",
              "      <td>3232</td>\n",
              "      <td>0</td>\n",
              "      <td>0</td>\n",
              "    </tr>\n",
              "    <tr>\n",
              "      <th>4</th>\n",
              "      <td>neg</td>\n",
              "      <td>1814</td>\n",
              "      <td>na</td>\n",
              "      <td>156</td>\n",
              "      <td>140</td>\n",
              "      <td>0</td>\n",
              "      <td>0</td>\n",
              "      <td>0</td>\n",
              "      <td>0</td>\n",
              "      <td>0</td>\n",
              "      <td>...</td>\n",
              "      <td>7646</td>\n",
              "      <td>4144</td>\n",
              "      <td>18466</td>\n",
              "      <td>49782</td>\n",
              "      <td>3176</td>\n",
              "      <td>482</td>\n",
              "      <td>76</td>\n",
              "      <td>0</td>\n",
              "      <td>0</td>\n",
              "      <td>0</td>\n",
              "    </tr>\n",
              "  </tbody>\n",
              "</table>\n",
              "<p>5 rows × 171 columns</p>\n",
              "</div>\n",
              "      <button class=\"colab-df-convert\" onclick=\"convertToInteractive('df-e69ad8f4-179b-4c77-8b75-7504106069eb')\"\n",
              "              title=\"Convert this dataframe to an interactive table.\"\n",
              "              style=\"display:none;\">\n",
              "        \n",
              "  <svg xmlns=\"http://www.w3.org/2000/svg\" height=\"24px\"viewBox=\"0 0 24 24\"\n",
              "       width=\"24px\">\n",
              "    <path d=\"M0 0h24v24H0V0z\" fill=\"none\"/>\n",
              "    <path d=\"M18.56 5.44l.94 2.06.94-2.06 2.06-.94-2.06-.94-.94-2.06-.94 2.06-2.06.94zm-11 1L8.5 8.5l.94-2.06 2.06-.94-2.06-.94L8.5 2.5l-.94 2.06-2.06.94zm10 10l.94 2.06.94-2.06 2.06-.94-2.06-.94-.94-2.06-.94 2.06-2.06.94z\"/><path d=\"M17.41 7.96l-1.37-1.37c-.4-.4-.92-.59-1.43-.59-.52 0-1.04.2-1.43.59L10.3 9.45l-7.72 7.72c-.78.78-.78 2.05 0 2.83L4 21.41c.39.39.9.59 1.41.59.51 0 1.02-.2 1.41-.59l7.78-7.78 2.81-2.81c.8-.78.8-2.07 0-2.86zM5.41 20L4 18.59l7.72-7.72 1.47 1.35L5.41 20z\"/>\n",
              "  </svg>\n",
              "      </button>\n",
              "      \n",
              "  <style>\n",
              "    .colab-df-container {\n",
              "      display:flex;\n",
              "      flex-wrap:wrap;\n",
              "      gap: 12px;\n",
              "    }\n",
              "\n",
              "    .colab-df-convert {\n",
              "      background-color: #E8F0FE;\n",
              "      border: none;\n",
              "      border-radius: 50%;\n",
              "      cursor: pointer;\n",
              "      display: none;\n",
              "      fill: #1967D2;\n",
              "      height: 32px;\n",
              "      padding: 0 0 0 0;\n",
              "      width: 32px;\n",
              "    }\n",
              "\n",
              "    .colab-df-convert:hover {\n",
              "      background-color: #E2EBFA;\n",
              "      box-shadow: 0px 1px 2px rgba(60, 64, 67, 0.3), 0px 1px 3px 1px rgba(60, 64, 67, 0.15);\n",
              "      fill: #174EA6;\n",
              "    }\n",
              "\n",
              "    [theme=dark] .colab-df-convert {\n",
              "      background-color: #3B4455;\n",
              "      fill: #D2E3FC;\n",
              "    }\n",
              "\n",
              "    [theme=dark] .colab-df-convert:hover {\n",
              "      background-color: #434B5C;\n",
              "      box-shadow: 0px 1px 3px 1px rgba(0, 0, 0, 0.15);\n",
              "      filter: drop-shadow(0px 1px 2px rgba(0, 0, 0, 0.3));\n",
              "      fill: #FFFFFF;\n",
              "    }\n",
              "  </style>\n",
              "\n",
              "      <script>\n",
              "        const buttonEl =\n",
              "          document.querySelector('#df-e69ad8f4-179b-4c77-8b75-7504106069eb button.colab-df-convert');\n",
              "        buttonEl.style.display =\n",
              "          google.colab.kernel.accessAllowed ? 'block' : 'none';\n",
              "\n",
              "        async function convertToInteractive(key) {\n",
              "          const element = document.querySelector('#df-e69ad8f4-179b-4c77-8b75-7504106069eb');\n",
              "          const dataTable =\n",
              "            await google.colab.kernel.invokeFunction('convertToInteractive',\n",
              "                                                     [key], {});\n",
              "          if (!dataTable) return;\n",
              "\n",
              "          const docLinkHtml = 'Like what you see? Visit the ' +\n",
              "            '<a target=\"_blank\" href=https://colab.research.google.com/notebooks/data_table.ipynb>data table notebook</a>'\n",
              "            + ' to learn more about interactive tables.';\n",
              "          element.innerHTML = '';\n",
              "          dataTable['output_type'] = 'display_data';\n",
              "          await google.colab.output.renderOutput(dataTable, element);\n",
              "          const docLink = document.createElement('div');\n",
              "          docLink.innerHTML = docLinkHtml;\n",
              "          element.appendChild(docLink);\n",
              "        }\n",
              "      </script>\n",
              "    </div>\n",
              "  </div>\n",
              "  "
            ]
          },
          "metadata": {},
          "execution_count": 289
        }
      ]
    },
    {
      "cell_type": "markdown",
      "source": [
        "**Entrene uno o si puede los 3 modelos revisados en la parte 1) y aplique lo aprendido en esta tarea para intentar obtener el mejor score en el conjunto de testing considerando una métrica especial que se define de la siguiente manera `Cost = 10*FP + 500*FN`** [30 Pts]"
      ],
      "metadata": {
        "id": "-YqbPqz09O-W"
      }
    },
    {
      "cell_type": "markdown",
      "source": [
        "Donde:\n",
        "*   `FP`: Número de falsos positivos\n",
        "*   `FN`: Número de falsos negativos\n",
        "\n",
        "\n",
        "\n"
      ],
      "metadata": {
        "id": "2vFpJ86V5WJJ"
      }
    },
    {
      "cell_type": "markdown",
      "source": [
        "\n",
        "Se usa esa metrica en específico porque al predecir una falla el costo de un falso negativo es mucho mayor que la de un falso positivo, un FP seria mandar a una persona a que revise y haga un mantenimiento al molino mientras que un FN seria no hacer nada y esperar que falle, lo cual es mucho más costoso para una empresa. Se recomienda buscar información sobre el tema de desbalance de clases, data imputation y asymmetric cost function\n"
      ],
      "metadata": {
        "id": "Upv4yiqC8dvX"
      }
    },
    {
      "cell_type": "markdown",
      "source": [
        "**BONUS del 10%** de la nota para los 5 equipos que obtengan el mejor score en el conjunto de testing. Esta permitido agregar la cantidad de celdas que requieran y también son libres de utilizar otras técnicas de feature engineer, feature selection o dimensionality reduction"
      ],
      "metadata": {
        "id": "qm0_oixC-IOm"
      }
    },
    {
      "cell_type": "markdown",
      "source": [
        "Baseline: `Cost` = 78.820\n",
        "- Código:\n",
        "```\n",
        "# Function to compute the score\n",
        "def cost(y_true, y_pred):\n",
        "  tn, fp, fn, tp = confusion_matrix(y_true, y_pred).ravel()\n",
        "  cost = 10*fp + 500*fn\n",
        "  return cost\n",
        "# Clean na values\n",
        "df_train = df_train.replace('na', np.NaN)\n",
        "df_train.fillna(0, inplace=True)\n",
        "df_test = df_test.replace('na', np.NaN)\n",
        "df_test.fillna(0, inplace=True)\n",
        "# Transform target\n",
        "encoder = LabelEncoder()\n",
        "df_train[\"class\"] = encoder.fit_transform(df_train[\"class\"])\n",
        "df_test[\"class\"] = encoder.transform(df_test[\"class\"])\n",
        "# Split data\n",
        "y_train = df_train.pop(\"class\")\n",
        "X_train = df_train\n",
        "y_test = df_test.pop(\"class\")\n",
        "X_test = df_test\n",
        "# Train a model\n",
        "model = LogisticRegression(C=25, random_state=SEED)\n",
        "model.fit(X_train, y_train)\n",
        "# Prediction\n",
        "y_pred = model.predict(X_test)\n",
        "# Compute score\n",
        "costo = cost(y_test, y_pred)\n",
        "print(f\"Costo Total: {costo}\")\n",
        "```"
      ],
      "metadata": {
        "id": "55-2xSsfnT0J"
      }
    },
    {
      "cell_type": "code",
      "source": [
        "### START CODE HERE ###\n"
      ],
      "metadata": {
        "id": "6ZFGb71-U4ff"
      },
      "execution_count": null,
      "outputs": []
    }
  ],
  "metadata": {
    "kernelspec": {
      "display_name": "Python 3",
      "language": "python",
      "name": "python3"
    },
    "language_info": {
      "codemirror_mode": {
        "name": "ipython",
        "version": 3
      },
      "file_extension": ".py",
      "mimetype": "text/x-python",
      "name": "python",
      "nbconvert_exporter": "python",
      "pygments_lexer": "ipython3",
      "version": "3.7.1"
    },
    "colab": {
      "name": "Tarea1_ML_2022-1_no_code.ipynb",
      "provenance": [],
      "collapsed_sections": [],
      "toc_visible": true
    }
  },
  "nbformat": 4,
  "nbformat_minor": 0
}