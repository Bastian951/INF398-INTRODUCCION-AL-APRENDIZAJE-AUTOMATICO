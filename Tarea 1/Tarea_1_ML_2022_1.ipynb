{
 "cells": [
  {
   "cell_type": "markdown",
   "metadata": {
    "id": "ojBlRMp8KE7B"
   },
   "source": [
    "<img src=\"https://www.inf.utfsm.cl/images/slides/Departamento-de-Informtica_HORIZONTAL.png\" title=\"Title text\" width=\"80%\" />\n",
    "\n",
    "<hr style=\"height:2px;border:none\"/>\n",
    "<h1 align='center'> INF-398/578 Introducción al aprendizaje automático</h1>\n",
    "\n",
    "<h4 align='center'><b>Tarea 1: Conceptos básicos y preparación para desafíos.</b></h4>\n",
    "\n",
    "\n",
    "<h6 align='center'><b>Profesor:</b> Carlos Valle</h6>\n",
    "<h6 align='center'><b>Ayudante:</b> Jean Aravena</h6>\n",
    "\n",
    "\n",
    "\n",
    "<hr style=\"height:2px;border:none\"/>\n",
    "\n",
    "# **Tarea 1 📃**\n",
    "\n",
    "## **Temas**  \n",
    "\n",
    "* Manipulación básica de datos.\n",
    "* EDA.\n",
    "* Modelos clásicos.\n",
    "* Feature Engineer.\n",
    "* Feature Selection.\n",
    "* Dimensionality Reduction.\n",
    "\n",
    "\n",
    "## **Formalidades** \n",
    "\n",
    "* Equipos de trabajo de 2 personas.\n",
    "* El entregable debe ser este mismo Jupyter Notebook incluyendo todos los resultados, los gráficos realizados y las respuestas a las preguntas. \n",
    "* Se debe preparar una presentación del trabajo realizado y sus hallazgos. El presentador será elegido aleatoriamente y deberá apoyarse en el Jupyter Notebook que entregarán.\n",
    "* Formato de entrega: Subir a aula el Jupyter Notebook con el nombre NombreGrupo_Tarea_1_ML_2022_1\n",
    "* Fecha de entrega y presentaciones: 6 de Mayo. Hora límite de entrega: 12:00.\n",
    " \n",
    "\n",
    "<hr style=\"height:2px;border:none\"/>\n",
    "\n",
    "La tarea se divide en 2 partes:\n",
    "\n",
    "1.   Un pequeño review guiado.\n",
    "2.   Practica del review.\n",
    "\n",
    "\n",
    "La tarea tiene ejemplos de códigos con los cuales pueden guiarse en gran parte, sin embargo, solo son guías y pueden ser creativos al momento de resolver la tarea. También en algunas ocasiones se hacen elecciones arbitrarias, ustedes pueden realizar otras elecciones con tal de que haya una pequeña justificación de por qué su elección es mejor o equivalente.\n",
    "\n",
    "Recuerden intercalar su código con comentarios y utilizar celdas Markdown en caso de que sea necesario para realizar análisis, escribir fórmulas o realizar explicaciones que les parezca relevante para justificar sus procedimientos. \n",
    "\n",
    "Noten que en general cuando se les pide elegir algo o proponer algo no se evaluará mucho la elección en sí, en cambio la argumentación detrás de la elección será lo más ponderado.\n",
    "\n",
    "*Se recomienda el uso de Google Colab para realizar la tarea.*"
   ]
  },
  {
   "cell_type": "markdown",
   "metadata": {
    "id": "haJIF-399bR6"
   },
   "source": [
    "# Librerias 📚\n",
    " "
   ]
  },
  {
   "cell_type": "code",
   "execution_count": 2,
   "metadata": {
    "id": "DC5u2mMq9fGq"
   },
   "outputs": [],
   "source": [
    "import os\n",
    "import warnings\n",
    "import numpy as np\n",
    "import pandas as pd\n",
    "import seaborn as sns\n",
    "import matplotlib.pyplot as plt\n",
    "from sklearn.model_selection import KFold\n",
    "from sklearn.model_selection import cross_val_score \n",
    "from sklearn.model_selection import train_test_split\n",
    "from sklearn.model_selection import PredefinedSplit\n",
    "from sklearn.model_selection import RandomizedSearchCV\n",
    "from sklearn.metrics import confusion_matrix\n",
    "from sklearn.metrics import ConfusionMatrixDisplay\n",
    "from sklearn.naive_bayes import BernoulliNB\n",
    "from sklearn.linear_model import LogisticRegression\n",
    "from sklearn.linear_model import LinearRegression\n",
    "from sklearn.linear_model import Lasso\n",
    "from sklearn.linear_model import Ridge\n",
    "from sklearn.svm import SVC\n",
    "from sklearn.svm import LinearSVC\n",
    "from sklearn.svm import LinearSVR\n",
    "from sklearn.metrics import accuracy_score\n",
    "from sklearn.metrics import roc_auc_score\n",
    "from sklearn.metrics import precision_score\n",
    "from sklearn.metrics import recall_score\n",
    "from sklearn.metrics import f1_score\n",
    "from sklearn.metrics import median_absolute_error\n",
    "from sklearn.metrics import mean_absolute_error\n",
    "from sklearn.metrics import mean_squared_error\n",
    "from sklearn.feature_selection import RFE\n",
    "from sklearn.feature_selection import SequentialFeatureSelector\n",
    "from sklearn.feature_selection import mutual_info_classif\n",
    "from sklearn.feature_selection import SelectKBest\n",
    "from sklearn.feature_selection import SelectFromModel\n",
    "from sklearn.feature_selection import f_classif\n",
    "from sklearn.preprocessing import StandardScaler\n",
    "from sklearn.preprocessing import MinMaxScaler\n",
    "from sklearn.preprocessing import LabelEncoder\n",
    "from sklearn.preprocessing import OrdinalEncoder\n",
    "from sklearn.decomposition import PCA\n",
    "from sklearn.discriminant_analysis import LinearDiscriminantAnalysis as LDA\n",
    "\n",
    "sns.set_theme()\n",
    "warnings.filterwarnings('ignore')"
   ]
  },
  {
   "cell_type": "markdown",
   "metadata": {
    "id": "UEDqTItu9ej2"
   },
   "source": [
    "# Utils ⚙️  "
   ]
  },
  {
   "cell_type": "code",
   "execution_count": 3,
   "metadata": {
    "colab": {
     "base_uri": "https://localhost:8080/"
    },
    "id": "RiCY23E-9mVQ",
    "outputId": "406fcc36-4dd0-4cda-fa6a-94377b93c0cf"
   },
   "outputs": [
    {
     "name": "stdout",
     "output_type": "stream",
     "text": [
      "Mounting your Google Drive ...\n"
     ]
    },
    {
     "ename": "ModuleNotFoundError",
     "evalue": "No module named 'google'",
     "output_type": "error",
     "traceback": [
      "\u001b[1;31m---------------------------------------------------------------------------\u001b[0m",
      "\u001b[1;31mModuleNotFoundError\u001b[0m                       Traceback (most recent call last)",
      "Input \u001b[1;32mIn [3]\u001b[0m, in \u001b[0;36m<cell line: 3>\u001b[1;34m()\u001b[0m\n\u001b[0;32m      1\u001b[0m \u001b[38;5;28mprint\u001b[39m(\u001b[38;5;124m\"\u001b[39m\u001b[38;5;124mMounting your Google Drive ...\u001b[39m\u001b[38;5;124m\"\u001b[39m)\n\u001b[1;32m----> 3\u001b[0m \u001b[38;5;28;01mfrom\u001b[39;00m \u001b[38;5;21;01mgoogle\u001b[39;00m\u001b[38;5;21;01m.\u001b[39;00m\u001b[38;5;21;01mcolab\u001b[39;00m \u001b[38;5;28;01mimport\u001b[39;00m drive\n\u001b[0;32m      4\u001b[0m drive\u001b[38;5;241m.\u001b[39mflush_and_unmount()\n\u001b[0;32m      5\u001b[0m drive\u001b[38;5;241m.\u001b[39mmount(\u001b[38;5;124m'\u001b[39m\u001b[38;5;124m/content/drive\u001b[39m\u001b[38;5;124m'\u001b[39m, force_remount\u001b[38;5;241m=\u001b[39m\u001b[38;5;28;01mTrue\u001b[39;00m)\n",
      "\u001b[1;31mModuleNotFoundError\u001b[0m: No module named 'google'"
     ]
    }
   ],
   "source": [
    "print(\"Mounting your Google Drive ...\")\n",
    "\n",
    "from google.colab import drive\n",
    "drive.flush_and_unmount()\n",
    "drive.mount('/content/drive', force_remount=True)\n",
    "\n",
    "# Path to your folder\n",
    "path = '/content/drive/MyDrive/Machine Learning/Data'"
   ]
  },
  {
   "cell_type": "code",
   "execution_count": 3,
   "metadata": {
    "id": "DLo2nGNfFI6x"
   },
   "outputs": [],
   "source": [
    "# Set all seed.\n",
    "def set_all_seed(seed=0):\n",
    "  \"\"\"Set the same seed for all the libraries that we use.\"\"\"\n",
    "  np.random.seed(seed)\n",
    "\n",
    "# Elegir cualquier semilla y siempre que se pueda utilizarla\n",
    "# random_state = SEED\n",
    "SEED = 2022\n",
    "\n",
    "set_all_seed(seed=SEED)"
   ]
  },
  {
   "cell_type": "markdown",
   "metadata": {
    "id": "vbQ5vswEFVva"
   },
   "source": [
    "**¿Por qué le asignamos un valor a la semilla antes de empezar a trabajar en la tarea?** [5 Pts]"
   ]
  },
  {
   "cell_type": "markdown",
   "metadata": {
    "id": "F8zaRqG8FpEK"
   },
   "source": [
    "`Respuesta`: Al asignar un valor a la semilla, podemos obtener los mismos numeros pseudoaleatorios para acada ejecución. Podriamos probar distintos modelos asegurando que la muestra pseudoaleatoria es la misma"
   ]
  },
  {
   "cell_type": "markdown",
   "metadata": {
    "id": "u1EWslQoKE7L"
   },
   "source": [
    "# 1.1) Modelos clásicos 💣"
   ]
  },
  {
   "cell_type": "markdown",
   "metadata": {
    "id": "emLtdE8FJRjj"
   },
   "source": [
    "<img src=\"https://drive.google.com/uc?id=1PoKzD6frdYWfXbEtPqXWt7s-GPMsluNI\" width=\"50%\"/>\n",
    "\n",
    "Para la primera parte de la tarea trabajaremos con una version simplificada del dataset [Bitcoin Heist Ransomware Address](https://archive.ics.uci.edu/ml/datasets/BitcoinHeistRansomwareAddressDataset) el cual viene de un repositorio publico llamado [UCI](https://archive.ics.uci.edu/ml/index.php).\n",
    "*Se recomienda ampliamente el uso de ese repositorio para comenzar a aprender sobre machine learning*."
   ]
  },
  {
   "cell_type": "markdown",
   "metadata": {
    "id": "lk9B_lgSNwDl"
   },
   "source": [
    "La data corresponde a 92.588 instancias las cuales tienen relación con el grafo de transacciones de Bitcoin entre Enero de 2007 y Diciembre de 2018.\n",
    "\n",
    "Para el dataset se tienen nueve características (features) las cuales están diseñadas para identificar ciertos patrones dentro del grafo de transacciones donde la idea es predecir si la dirección pertenece a un ransomware o no:\n",
    "\n",
    "* `address`: Dirección\n",
    "* `year`: Año\n",
    "* `day`: Día del año\n",
    "* `length`: Distancia que realiza la transacción desde una dirección\n",
    "* `weight`: Peso relacionado con la cantidad de arcos que salen y entran a un nodo. Mientras se tengan más arcos de entrada y menos de salida, mayor va a ser este valor.\n",
    "* `count`: Número de transacciones realizadas desde una direccion\n",
    "* `looped`: Número de transacciones realizadas desde una direccion que tienen un loop dentro del grafo\n",
    "* `neighbors`: Cantidad de vecinos de una dirección.\n",
    "* `income`: Cantidad de bitcoin en la transacción expresada en satoshis (1 bitcoin = 100 millones de satoshis).\n",
    "\n",
    "y un target (lo que queremos predecir):\n",
    "\n",
    "* `label`: Nombre del ransomware.\n"
   ]
  },
  {
   "cell_type": "markdown",
   "metadata": {
    "id": "E_rSliczEFaB"
   },
   "source": [
    "## Carga de datos"
   ]
  },
  {
   "cell_type": "markdown",
   "metadata": {
    "id": "f9K1U6_mKw38"
   },
   "source": [
    "Lo primero que vamos a hacer es cargar la data y explorar un poco su contenido"
   ]
  },
  {
   "cell_type": "code",
   "execution_count": 5,
   "metadata": {
    "id": "rpQlPa7yEKgd"
   },
   "outputs": [],
   "source": [
    "# Cargar la data que corresponde a un csv\n",
    "PATH_TO_CSV = os.path.join(\"Data\", \"tarea_1_bitcoin.csv\")\n",
    "df_data = pd.read_csv(PATH_TO_CSV)"
   ]
  },
  {
   "cell_type": "markdown",
   "metadata": {
    "id": "uHHZ_EbFXo9q"
   },
   "source": [
    "## Exploración de la data"
   ]
  },
  {
   "cell_type": "code",
   "execution_count": 4,
   "metadata": {
    "colab": {
     "base_uri": "https://localhost:8080/"
    },
    "id": "r-9r3HRzXOkp",
    "outputId": "192c73ba-61b8-4dda-b0a5-e6a7afdffbbf"
   },
   "outputs": [
    {
     "name": "stdout",
     "output_type": "stream",
     "text": [
      "Number of examples: 92588\n",
      "Shape of the data: (92588, 10)\n"
     ]
    }
   ],
   "source": [
    "# Mostrar el numero de ejemplos que tenemos\n",
    "print(f\"Number of examples: {len(df_data)}\")\n",
    "\n",
    "# Mostrar las dimensiones de la data\n",
    "print(f\"Shape of the data: {df_data.shape}\")"
   ]
  },
  {
   "cell_type": "markdown",
   "metadata": {
    "id": "4NwMKaVEZT81"
   },
   "source": [
    "Como bien sabíamos existen 92.588 instancias y contamos con 10 columnas, las primeras nueve corresponden a features y la última corresponde al target"
   ]
  },
  {
   "cell_type": "code",
   "execution_count": 5,
   "metadata": {
    "colab": {
     "base_uri": "https://localhost:8080/",
     "height": 206
    },
    "id": "altDLJU0TeAN",
    "outputId": "18b59410-1cba-471d-97f7-38a71006ab73"
   },
   "outputs": [
    {
     "data": {
      "text/html": [
       "<div>\n",
       "<style scoped>\n",
       "    .dataframe tbody tr th:only-of-type {\n",
       "        vertical-align: middle;\n",
       "    }\n",
       "\n",
       "    .dataframe tbody tr th {\n",
       "        vertical-align: top;\n",
       "    }\n",
       "\n",
       "    .dataframe thead th {\n",
       "        text-align: right;\n",
       "    }\n",
       "</style>\n",
       "<table border=\"1\" class=\"dataframe\">\n",
       "  <thead>\n",
       "    <tr style=\"text-align: right;\">\n",
       "      <th></th>\n",
       "      <th>address</th>\n",
       "      <th>year</th>\n",
       "      <th>day</th>\n",
       "      <th>length</th>\n",
       "      <th>weight</th>\n",
       "      <th>count</th>\n",
       "      <th>looped</th>\n",
       "      <th>neighbors</th>\n",
       "      <th>income</th>\n",
       "      <th>label</th>\n",
       "    </tr>\n",
       "  </thead>\n",
       "  <tbody>\n",
       "    <tr>\n",
       "      <th>0</th>\n",
       "      <td>1Q4W2DaHg7WAYunf9tPknTSRWLZwHaQGJx</td>\n",
       "      <td>2013</td>\n",
       "      <td>363</td>\n",
       "      <td>120</td>\n",
       "      <td>8.243819e-01</td>\n",
       "      <td>1247</td>\n",
       "      <td>0</td>\n",
       "      <td>1</td>\n",
       "      <td>6.000000e+07</td>\n",
       "      <td>grouped_ransomware</td>\n",
       "    </tr>\n",
       "    <tr>\n",
       "      <th>1</th>\n",
       "      <td>1Ae6zv8ymHdzBXMbpDu5MWLriA5ijSUZQd</td>\n",
       "      <td>2011</td>\n",
       "      <td>256</td>\n",
       "      <td>48</td>\n",
       "      <td>2.384186e-07</td>\n",
       "      <td>1</td>\n",
       "      <td>0</td>\n",
       "      <td>2</td>\n",
       "      <td>2.591979e+09</td>\n",
       "      <td>white</td>\n",
       "    </tr>\n",
       "    <tr>\n",
       "      <th>2</th>\n",
       "      <td>13d3wEoqVFWgHwHyoZhd1gFbL3AoHa252T</td>\n",
       "      <td>2014</td>\n",
       "      <td>108</td>\n",
       "      <td>0</td>\n",
       "      <td>1.000000e+00</td>\n",
       "      <td>1</td>\n",
       "      <td>0</td>\n",
       "      <td>1</td>\n",
       "      <td>8.727817e+07</td>\n",
       "      <td>grouped_ransomware</td>\n",
       "    </tr>\n",
       "    <tr>\n",
       "      <th>3</th>\n",
       "      <td>1Dcndtg4Qunp3n2mndvkBs8VKxS3PAkPEF</td>\n",
       "      <td>2013</td>\n",
       "      <td>156</td>\n",
       "      <td>0</td>\n",
       "      <td>5.000000e-01</td>\n",
       "      <td>1</td>\n",
       "      <td>0</td>\n",
       "      <td>2</td>\n",
       "      <td>3.644640e+08</td>\n",
       "      <td>white</td>\n",
       "    </tr>\n",
       "    <tr>\n",
       "      <th>4</th>\n",
       "      <td>17eBib5PiFoGx8AhK4HjpZp9ANyuGRbusV</td>\n",
       "      <td>2011</td>\n",
       "      <td>21</td>\n",
       "      <td>0</td>\n",
       "      <td>5.000000e-01</td>\n",
       "      <td>1</td>\n",
       "      <td>0</td>\n",
       "      <td>2</td>\n",
       "      <td>5.000000e+08</td>\n",
       "      <td>white</td>\n",
       "    </tr>\n",
       "  </tbody>\n",
       "</table>\n",
       "</div>"
      ],
      "text/plain": [
       "                              address  year  day  length        weight  count  \\\n",
       "0  1Q4W2DaHg7WAYunf9tPknTSRWLZwHaQGJx  2013  363     120  8.243819e-01   1247   \n",
       "1  1Ae6zv8ymHdzBXMbpDu5MWLriA5ijSUZQd  2011  256      48  2.384186e-07      1   \n",
       "2  13d3wEoqVFWgHwHyoZhd1gFbL3AoHa252T  2014  108       0  1.000000e+00      1   \n",
       "3  1Dcndtg4Qunp3n2mndvkBs8VKxS3PAkPEF  2013  156       0  5.000000e-01      1   \n",
       "4  17eBib5PiFoGx8AhK4HjpZp9ANyuGRbusV  2011   21       0  5.000000e-01      1   \n",
       "\n",
       "   looped  neighbors        income               label  \n",
       "0       0          1  6.000000e+07  grouped_ransomware  \n",
       "1       0          2  2.591979e+09               white  \n",
       "2       0          1  8.727817e+07  grouped_ransomware  \n",
       "3       0          2  3.644640e+08               white  \n",
       "4       0          2  5.000000e+08               white  "
      ]
     },
     "execution_count": 5,
     "metadata": {},
     "output_type": "execute_result"
    }
   ],
   "source": [
    "# Mostrar los primeros cinco elementos de la data\n",
    "df_data.head()"
   ]
  },
  {
   "cell_type": "code",
   "execution_count": 6,
   "metadata": {
    "colab": {
     "base_uri": "https://localhost:8080/",
     "height": 206
    },
    "id": "f8xi5SVUUGuW",
    "outputId": "0a8c4d23-3fef-4e83-c59d-d298d40e68e1"
   },
   "outputs": [
    {
     "data": {
      "text/html": [
       "<div>\n",
       "<style scoped>\n",
       "    .dataframe tbody tr th:only-of-type {\n",
       "        vertical-align: middle;\n",
       "    }\n",
       "\n",
       "    .dataframe tbody tr th {\n",
       "        vertical-align: top;\n",
       "    }\n",
       "\n",
       "    .dataframe thead th {\n",
       "        text-align: right;\n",
       "    }\n",
       "</style>\n",
       "<table border=\"1\" class=\"dataframe\">\n",
       "  <thead>\n",
       "    <tr style=\"text-align: right;\">\n",
       "      <th></th>\n",
       "      <th>address</th>\n",
       "      <th>year</th>\n",
       "      <th>day</th>\n",
       "      <th>length</th>\n",
       "      <th>weight</th>\n",
       "      <th>count</th>\n",
       "      <th>looped</th>\n",
       "      <th>neighbors</th>\n",
       "      <th>income</th>\n",
       "      <th>label</th>\n",
       "    </tr>\n",
       "  </thead>\n",
       "  <tbody>\n",
       "    <tr>\n",
       "      <th>92583</th>\n",
       "      <td>1FyVwHjYPi9EAY2jDzHatFE1BwLYtWczv4</td>\n",
       "      <td>2017</td>\n",
       "      <td>240</td>\n",
       "      <td>2</td>\n",
       "      <td>2.500000e-01</td>\n",
       "      <td>1</td>\n",
       "      <td>0</td>\n",
       "      <td>2</td>\n",
       "      <td>42812712.0</td>\n",
       "      <td>white</td>\n",
       "    </tr>\n",
       "    <tr>\n",
       "      <th>92584</th>\n",
       "      <td>1MfpBhXFVPEsihzd7qPDt3HB74ST8HxSqr</td>\n",
       "      <td>2016</td>\n",
       "      <td>219</td>\n",
       "      <td>2</td>\n",
       "      <td>1.333333e+00</td>\n",
       "      <td>2</td>\n",
       "      <td>0</td>\n",
       "      <td>2</td>\n",
       "      <td>72820000.0</td>\n",
       "      <td>grouped_ransomware</td>\n",
       "    </tr>\n",
       "    <tr>\n",
       "      <th>92585</th>\n",
       "      <td>14NNhLDwLo89wbDHiWBQHgNRDvt2r8Y65u</td>\n",
       "      <td>2015</td>\n",
       "      <td>211</td>\n",
       "      <td>144</td>\n",
       "      <td>1.001217e-07</td>\n",
       "      <td>382</td>\n",
       "      <td>0</td>\n",
       "      <td>2</td>\n",
       "      <td>198685860.0</td>\n",
       "      <td>white</td>\n",
       "    </tr>\n",
       "    <tr>\n",
       "      <th>92586</th>\n",
       "      <td>16JKdw8VoBi9x4dYNGpzG1cNebPsTF1R2M</td>\n",
       "      <td>2014</td>\n",
       "      <td>185</td>\n",
       "      <td>4</td>\n",
       "      <td>5.000000e-01</td>\n",
       "      <td>1</td>\n",
       "      <td>0</td>\n",
       "      <td>2</td>\n",
       "      <td>88000000.0</td>\n",
       "      <td>white</td>\n",
       "    </tr>\n",
       "    <tr>\n",
       "      <th>92587</th>\n",
       "      <td>3QgGBpkEpsbStf2AZL6wmTTWKVtgdVmbUi</td>\n",
       "      <td>2016</td>\n",
       "      <td>108</td>\n",
       "      <td>144</td>\n",
       "      <td>3.645027e-03</td>\n",
       "      <td>4069</td>\n",
       "      <td>0</td>\n",
       "      <td>1</td>\n",
       "      <td>371180000.0</td>\n",
       "      <td>white</td>\n",
       "    </tr>\n",
       "  </tbody>\n",
       "</table>\n",
       "</div>"
      ],
      "text/plain": [
       "                                  address  year  day  length        weight  \\\n",
       "92583  1FyVwHjYPi9EAY2jDzHatFE1BwLYtWczv4  2017  240       2  2.500000e-01   \n",
       "92584  1MfpBhXFVPEsihzd7qPDt3HB74ST8HxSqr  2016  219       2  1.333333e+00   \n",
       "92585  14NNhLDwLo89wbDHiWBQHgNRDvt2r8Y65u  2015  211     144  1.001217e-07   \n",
       "92586  16JKdw8VoBi9x4dYNGpzG1cNebPsTF1R2M  2014  185       4  5.000000e-01   \n",
       "92587  3QgGBpkEpsbStf2AZL6wmTTWKVtgdVmbUi  2016  108     144  3.645027e-03   \n",
       "\n",
       "       count  looped  neighbors       income               label  \n",
       "92583      1       0          2   42812712.0               white  \n",
       "92584      2       0          2   72820000.0  grouped_ransomware  \n",
       "92585    382       0          2  198685860.0               white  \n",
       "92586      1       0          2   88000000.0               white  \n",
       "92587   4069       0          1  371180000.0               white  "
      ]
     },
     "execution_count": 6,
     "metadata": {},
     "output_type": "execute_result"
    }
   ],
   "source": [
    "# Mostrar los ultimos cinco elementos de la data\n",
    "df_data.tail()"
   ]
  },
  {
   "cell_type": "code",
   "execution_count": 7,
   "metadata": {
    "colab": {
     "base_uri": "https://localhost:8080/"
    },
    "id": "xIT4U1xjWU6j",
    "outputId": "44d84fbc-f8bc-468b-a3a0-e91b79b1a219"
   },
   "outputs": [
    {
     "data": {
      "text/plain": [
       "address       object\n",
       "year           int64\n",
       "day            int64\n",
       "length         int64\n",
       "weight       float64\n",
       "count          int64\n",
       "looped         int64\n",
       "neighbors      int64\n",
       "income       float64\n",
       "label         object\n",
       "dtype: object"
      ]
     },
     "execution_count": 7,
     "metadata": {},
     "output_type": "execute_result"
    }
   ],
   "source": [
    "# Obtener el tipo de dato de cada columna\n",
    "df_data.dtypes"
   ]
  },
  {
   "cell_type": "code",
   "execution_count": 8,
   "metadata": {
    "colab": {
     "base_uri": "https://localhost:8080/",
     "height": 300
    },
    "id": "-AL2X5n7V0GP",
    "outputId": "a745eab2-4810-4da5-c3c1-6797f69ca2bc"
   },
   "outputs": [
    {
     "data": {
      "text/html": [
       "<div>\n",
       "<style scoped>\n",
       "    .dataframe tbody tr th:only-of-type {\n",
       "        vertical-align: middle;\n",
       "    }\n",
       "\n",
       "    .dataframe tbody tr th {\n",
       "        vertical-align: top;\n",
       "    }\n",
       "\n",
       "    .dataframe thead th {\n",
       "        text-align: right;\n",
       "    }\n",
       "</style>\n",
       "<table border=\"1\" class=\"dataframe\">\n",
       "  <thead>\n",
       "    <tr style=\"text-align: right;\">\n",
       "      <th></th>\n",
       "      <th>year</th>\n",
       "      <th>day</th>\n",
       "      <th>length</th>\n",
       "      <th>weight</th>\n",
       "      <th>count</th>\n",
       "      <th>looped</th>\n",
       "      <th>neighbors</th>\n",
       "      <th>income</th>\n",
       "    </tr>\n",
       "  </thead>\n",
       "  <tbody>\n",
       "    <tr>\n",
       "      <th>count</th>\n",
       "      <td>92588.000000</td>\n",
       "      <td>92588.000000</td>\n",
       "      <td>92588.000000</td>\n",
       "      <td>9.258800e+04</td>\n",
       "      <td>92588.000000</td>\n",
       "      <td>92588.000000</td>\n",
       "      <td>92588.000000</td>\n",
       "      <td>9.258800e+04</td>\n",
       "    </tr>\n",
       "    <tr>\n",
       "      <th>mean</th>\n",
       "      <td>2014.566024</td>\n",
       "      <td>179.727027</td>\n",
       "      <td>44.136713</td>\n",
       "      <td>5.561919e-01</td>\n",
       "      <td>697.490830</td>\n",
       "      <td>207.648756</td>\n",
       "      <td>2.150376</td>\n",
       "      <td>3.653018e+09</td>\n",
       "    </tr>\n",
       "    <tr>\n",
       "      <th>std</th>\n",
       "      <td>2.108102</td>\n",
       "      <td>102.112306</td>\n",
       "      <td>58.814743</td>\n",
       "      <td>2.476162e+00</td>\n",
       "      <td>1648.008167</td>\n",
       "      <td>896.710751</td>\n",
       "      <td>11.826918</td>\n",
       "      <td>1.616788e+11</td>\n",
       "    </tr>\n",
       "    <tr>\n",
       "      <th>min</th>\n",
       "      <td>2011.000000</td>\n",
       "      <td>1.000000</td>\n",
       "      <td>0.000000</td>\n",
       "      <td>4.244610e-84</td>\n",
       "      <td>1.000000</td>\n",
       "      <td>0.000000</td>\n",
       "      <td>1.000000</td>\n",
       "      <td>3.000000e+07</td>\n",
       "    </tr>\n",
       "    <tr>\n",
       "      <th>25%</th>\n",
       "      <td>2013.000000</td>\n",
       "      <td>91.000000</td>\n",
       "      <td>2.000000</td>\n",
       "      <td>2.852745e-02</td>\n",
       "      <td>1.000000</td>\n",
       "      <td>0.000000</td>\n",
       "      <td>1.000000</td>\n",
       "      <td>7.656892e+07</td>\n",
       "    </tr>\n",
       "    <tr>\n",
       "      <th>50%</th>\n",
       "      <td>2015.000000</td>\n",
       "      <td>175.000000</td>\n",
       "      <td>8.000000</td>\n",
       "      <td>2.505801e-01</td>\n",
       "      <td>1.000000</td>\n",
       "      <td>0.000000</td>\n",
       "      <td>2.000000</td>\n",
       "      <td>1.805104e+08</td>\n",
       "    </tr>\n",
       "    <tr>\n",
       "      <th>75%</th>\n",
       "      <td>2016.000000</td>\n",
       "      <td>269.000000</td>\n",
       "      <td>100.000000</td>\n",
       "      <td>1.000000e+00</td>\n",
       "      <td>49.000000</td>\n",
       "      <td>0.000000</td>\n",
       "      <td>2.000000</td>\n",
       "      <td>7.371084e+08</td>\n",
       "    </tr>\n",
       "    <tr>\n",
       "      <th>max</th>\n",
       "      <td>2018.000000</td>\n",
       "      <td>365.000000</td>\n",
       "      <td>144.000000</td>\n",
       "      <td>4.982885e+02</td>\n",
       "      <td>14496.000000</td>\n",
       "      <td>14496.000000</td>\n",
       "      <td>1593.000000</td>\n",
       "      <td>4.645481e+13</td>\n",
       "    </tr>\n",
       "  </tbody>\n",
       "</table>\n",
       "</div>"
      ],
      "text/plain": [
       "               year           day        length        weight         count  \\\n",
       "count  92588.000000  92588.000000  92588.000000  9.258800e+04  92588.000000   \n",
       "mean    2014.566024    179.727027     44.136713  5.561919e-01    697.490830   \n",
       "std        2.108102    102.112306     58.814743  2.476162e+00   1648.008167   \n",
       "min     2011.000000      1.000000      0.000000  4.244610e-84      1.000000   \n",
       "25%     2013.000000     91.000000      2.000000  2.852745e-02      1.000000   \n",
       "50%     2015.000000    175.000000      8.000000  2.505801e-01      1.000000   \n",
       "75%     2016.000000    269.000000    100.000000  1.000000e+00     49.000000   \n",
       "max     2018.000000    365.000000    144.000000  4.982885e+02  14496.000000   \n",
       "\n",
       "             looped     neighbors        income  \n",
       "count  92588.000000  92588.000000  9.258800e+04  \n",
       "mean     207.648756      2.150376  3.653018e+09  \n",
       "std      896.710751     11.826918  1.616788e+11  \n",
       "min        0.000000      1.000000  3.000000e+07  \n",
       "25%        0.000000      1.000000  7.656892e+07  \n",
       "50%        0.000000      2.000000  1.805104e+08  \n",
       "75%        0.000000      2.000000  7.371084e+08  \n",
       "max    14496.000000   1593.000000  4.645481e+13  "
      ]
     },
     "execution_count": 8,
     "metadata": {},
     "output_type": "execute_result"
    }
   ],
   "source": [
    "# Generar estadisticas tipicas por columna (Inluye solo valores numericos)\n",
    "# Si quieres incluir los valores categoricos (strings) tienes que utilizar\n",
    "# include=\"all\" -> df_data.describe(include=\"all\")\n",
    "df_data.describe()"
   ]
  },
  {
   "cell_type": "code",
   "execution_count": 9,
   "metadata": {
    "colab": {
     "base_uri": "https://localhost:8080/"
    },
    "id": "GoDApBRQZ1kq",
    "outputId": "4939833b-1a16-40d9-b93b-399432b54d7e"
   },
   "outputs": [
    {
     "data": {
      "text/plain": [
       "address      0\n",
       "year         0\n",
       "day          0\n",
       "length       0\n",
       "weight       0\n",
       "count        0\n",
       "looped       0\n",
       "neighbors    0\n",
       "income       0\n",
       "label        0\n",
       "dtype: int64"
      ]
     },
     "execution_count": 9,
     "metadata": {},
     "output_type": "execute_result"
    }
   ],
   "source": [
    "# Contar la cantidad de null en las columnas (si hubieran muchos habria que buscar alguna forma de lidear con ello). \n",
    "df_data.isna().sum()"
   ]
  },
  {
   "cell_type": "code",
   "execution_count": 10,
   "metadata": {
    "colab": {
     "base_uri": "https://localhost:8080/"
    },
    "id": "HiqTEUUQgnLU",
    "outputId": "f66cb530-2dce-4de4-a613-255870a9ba88"
   },
   "outputs": [
    {
     "name": "stdout",
     "output_type": "stream",
     "text": [
      "Number of unique values: 82491\n"
     ]
    }
   ],
   "source": [
    "# Mostrar la cantidad de valores unicos para el feature address\n",
    "print(f\"Number of unique values: {len(np.unique(df_data['address']))}\")"
   ]
  },
  {
   "cell_type": "markdown",
   "metadata": {
    "id": "VF_Ytoj1kT5s"
   },
   "source": [
    "Como prácticamente todos los valores son distintos para la columna `address` y la variable tiene relación con un ID podemos descartar la columna. Si por algún motivo sabemos que las direcciones comparten cierto patrón sería bueno intentar aprovechar esa información, pero por temas de simplicidad solo la eliminaremos de la data"
   ]
  },
  {
   "cell_type": "code",
   "execution_count": 11,
   "metadata": {
    "id": "PptzEf5MhYF_"
   },
   "outputs": [],
   "source": [
    "# Drop address\n",
    "df_data.drop(columns=[\"address\"], inplace=True) "
   ]
  },
  {
   "cell_type": "markdown",
   "metadata": {
    "id": "aRF1ohQqdMf6"
   },
   "source": [
    "Ahora ya sabemos un poco más de la data:\n",
    "\n",
    "*   Dada la eliminación de address tenemos solo una variable categórica que es label.\n",
    "*   No existen columnas con una alta cantidad de nulls.\n",
    "\n"
   ]
  },
  {
   "cell_type": "markdown",
   "metadata": {
    "id": "zxJo_8-2iMfY"
   },
   "source": [
    "**Genere gráficos con su correspondiente título, leyenda, etc. utilizando seaborn, matplotlib o plotly para cada una de las siguientes columnas del dataframe: `length`, `weight`, `count`, `looped`, `neighbors`, `income`, `label`. Comente lo que observa de cada gráfico** [5 Pts] "
   ]
  },
  {
   "cell_type": "markdown",
   "metadata": {
    "id": "UrEBSDjPjVn9"
   },
   "source": [
    "Pueden utilizar gráficos repetidos, pero no pueden ser todos iguales. La idea de esta parte es utilizar gráficos que muestren información relevante de la data. Para ello puede utilizar un histograma, violinplot, boxplot, etc."
   ]
  },
  {
   "cell_type": "code",
   "execution_count": 12,
   "metadata": {
    "id": "tJ9rkxHynHrF"
   },
   "outputs": [
    {
     "data": {
      "text/plain": [
       "Text(0, 0.5, 'Ransomware')"
      ]
     },
     "execution_count": 12,
     "metadata": {},
     "output_type": "execute_result"
    },
    {
     "data": {
      "image/png": "[encoded data removed]",
      "text/plain": [
       "<Figure size 432x288 with 1 Axes>"
      ]
     },
     "metadata": {},
     "output_type": "display_data"
    }
   ],
   "source": [
    "# Grafico para la columna length\n",
    "fig, ax = plt.subplots()\n",
    "ax.set_title(\"Distancia transacción por Ransomware\")\n",
    "sns.violinplot(data=df_data, x=\"length\", y=\"label\")\n",
    "ax.set_xlabel(\"Distancia transacción (Length)\")\n",
    "ax.set_ylabel(\"Ransomware\")\n"
   ]
  },
  {
   "cell_type": "markdown",
   "metadata": {
    "id": "0BmRhobSnLq8"
   },
   "source": [
    "`Comentario`: Podemos notar que existe un comportamiento similar para los dos tipos de Ransomware. Ademas notamos que hay dos grupos de distancias frecuentes. El primer grupo con mayor frecuencia tiene distancias de transacción entre 0 y 25. El otro grupo con un poco menos de frecuencia se encuentra entre 125-150. "
   ]
  },
  {
   "cell_type": "code",
   "execution_count": 13,
   "metadata": {
    "id": "EBxYPmY7ncIt"
   },
   "outputs": [
    {
     "data": {
      "text/plain": [
       "<AxesSubplot:xlabel='weight', ylabel='label'>"
      ]
     },
     "execution_count": 13,
     "metadata": {},
     "output_type": "execute_result"
    },
    {
     "data": {
      "image/png": "[encoded data removed]",
      "text/plain": [
       "<Figure size 432x288 with 1 Axes>"
      ]
     },
     "metadata": {},
     "output_type": "display_data"
    }
   ],
   "source": [
    "# Grafico para la columna weight\n",
    "sns.boxplot(data=df_data[df_data.weight < 2.5], x=\"weight\", y=\"label\") # PROBAR HISTOGRAMA  o SACAR DATOS ATIPICOS"
   ]
  },
  {
   "cell_type": "code",
   "execution_count": 14,
   "metadata": {},
   "outputs": [
    {
     "data": {
      "text/html": [
       "<div>\n",
       "<style scoped>\n",
       "    .dataframe tbody tr th:only-of-type {\n",
       "        vertical-align: middle;\n",
       "    }\n",
       "\n",
       "    .dataframe tbody tr th {\n",
       "        vertical-align: top;\n",
       "    }\n",
       "\n",
       "    .dataframe thead th {\n",
       "        text-align: right;\n",
       "    }\n",
       "</style>\n",
       "<table border=\"1\" class=\"dataframe\">\n",
       "  <thead>\n",
       "    <tr style=\"text-align: right;\">\n",
       "      <th></th>\n",
       "      <th>weight</th>\n",
       "      <th>label</th>\n",
       "    </tr>\n",
       "  </thead>\n",
       "  <tbody>\n",
       "    <tr>\n",
       "      <th>16</th>\n",
       "      <td>3.500000</td>\n",
       "      <td>grouped_ransomware</td>\n",
       "    </tr>\n",
       "    <tr>\n",
       "      <th>67</th>\n",
       "      <td>4.306676</td>\n",
       "      <td>white</td>\n",
       "    </tr>\n",
       "    <tr>\n",
       "      <th>106</th>\n",
       "      <td>3.000000</td>\n",
       "      <td>white</td>\n",
       "    </tr>\n",
       "    <tr>\n",
       "      <th>140</th>\n",
       "      <td>2.597440</td>\n",
       "      <td>white</td>\n",
       "    </tr>\n",
       "    <tr>\n",
       "      <th>156</th>\n",
       "      <td>7.500467</td>\n",
       "      <td>grouped_ransomware</td>\n",
       "    </tr>\n",
       "    <tr>\n",
       "      <th>...</th>\n",
       "      <td>...</td>\n",
       "      <td>...</td>\n",
       "    </tr>\n",
       "    <tr>\n",
       "      <th>92288</th>\n",
       "      <td>5.109375</td>\n",
       "      <td>white</td>\n",
       "    </tr>\n",
       "    <tr>\n",
       "      <th>92350</th>\n",
       "      <td>4.812500</td>\n",
       "      <td>white</td>\n",
       "    </tr>\n",
       "    <tr>\n",
       "      <th>92369</th>\n",
       "      <td>2.987894</td>\n",
       "      <td>white</td>\n",
       "    </tr>\n",
       "    <tr>\n",
       "      <th>92376</th>\n",
       "      <td>5.320313</td>\n",
       "      <td>grouped_ransomware</td>\n",
       "    </tr>\n",
       "    <tr>\n",
       "      <th>92509</th>\n",
       "      <td>2.996151</td>\n",
       "      <td>white</td>\n",
       "    </tr>\n",
       "  </tbody>\n",
       "</table>\n",
       "<p>1787 rows × 2 columns</p>\n",
       "</div>"
      ],
      "text/plain": [
       "         weight               label\n",
       "16     3.500000  grouped_ransomware\n",
       "67     4.306676               white\n",
       "106    3.000000               white\n",
       "140    2.597440               white\n",
       "156    7.500467  grouped_ransomware\n",
       "...         ...                 ...\n",
       "92288  5.109375               white\n",
       "92350  4.812500               white\n",
       "92369  2.987894               white\n",
       "92376  5.320313  grouped_ransomware\n",
       "92509  2.996151               white\n",
       "\n",
       "[1787 rows x 2 columns]"
      ]
     },
     "execution_count": 14,
     "metadata": {},
     "output_type": "execute_result"
    }
   ],
   "source": [
    "df_data[[\"weight\",\"label\"]][df_data.weight > 2.5]"
   ]
  },
  {
   "cell_type": "markdown",
   "metadata": {
    "id": "anE3Z52YoeZy"
   },
   "source": [
    "`Comentario`: En general los valores de weight son menores a 1. Para la clase grouped ransomware tenemos un $Q_3$ = 1, mientras que para la clase white tenemos un $Q_3=xxxx$. Es decir, para ambas clases aproximadamente el 75% de los valores que toma weight son menores a 1."
   ]
  },
  {
   "cell_type": "code",
   "execution_count": 15,
   "metadata": {
    "id": "GqYqBVjApOw0"
   },
   "outputs": [
    {
     "data": {
      "text/plain": [
       "<AxesSubplot:xlabel='count', ylabel='Count'>"
      ]
     },
     "execution_count": 15,
     "metadata": {},
     "output_type": "execute_result"
    },
    {
     "data": {
      "image/png": "[encoded data removed]",
      "text/plain": [
       "<Figure size 432x288 with 1 Axes>"
      ]
     },
     "metadata": {},
     "output_type": "display_data"
    }
   ],
   "source": [
    "# Grafico para la columna count\n",
    "data=df_data.groupby([\"count\",\"label\"]).size().reset_index().rename(columns = {0:\"qty\"})\n",
    "sns.histplot(data = data, x = \"count\",hue='label')"
   ]
  },
  {
   "cell_type": "markdown",
   "metadata": {
    "id": "We7AlGl5pPBi"
   },
   "source": [
    "`Comentario`: "
   ]
  },
  {
   "cell_type": "code",
   "execution_count": 16,
   "metadata": {
    "id": "Sof4ND36pa4T"
   },
   "outputs": [
    {
     "data": {
      "text/plain": [
       "<AxesSubplot:xlabel='looped', ylabel='Count'>"
      ]
     },
     "execution_count": 16,
     "metadata": {},
     "output_type": "execute_result"
    },
    {
     "data": {
      "image/png": "[encoded data removed]",
      "text/plain": [
       "<Figure size 432x288 with 1 Axes>"
      ]
     },
     "metadata": {},
     "output_type": "display_data"
    }
   ],
   "source": [
    "# Grafico para la columna looped\n",
    "data=df_data.groupby([\"looped\",\"label\"]).size().reset_index().rename(columns = {0:\"qty\"})\n",
    "sns.histplot(data = data, x = \"looped\",hue='label')"
   ]
  },
  {
   "cell_type": "markdown",
   "metadata": {
    "id": "EQx6yq-MpfKB"
   },
   "source": [
    "`Comentario`: "
   ]
  },
  {
   "cell_type": "code",
   "execution_count": 17,
   "metadata": {
    "id": "UuDTk_uapfSt"
   },
   "outputs": [
    {
     "data": {
      "text/plain": [
       "<AxesSubplot:xlabel='neighbors', ylabel='Count'>"
      ]
     },
     "execution_count": 17,
     "metadata": {},
     "output_type": "execute_result"
    },
    {
     "data": {
      "image/png": "[encoded data removed]",
      "text/plain": [
       "<Figure size 432x288 with 1 Axes>"
      ]
     },
     "metadata": {},
     "output_type": "display_data"
    }
   ],
   "source": [
    "# Grafico para la columna neighbors\n",
    "### START CODE HERE ###\n",
    "data=df_data.groupby([\"neighbors\",\"label\"]).size().reset_index().rename(columns = {0:\"qty\"})\n",
    "sns.histplot(data = data, x = \"neighbors\",hue='label')"
   ]
  },
  {
   "cell_type": "markdown",
   "metadata": {
    "id": "st_AIJVPpups"
   },
   "source": [
    "`Comentario`: "
   ]
  },
  {
   "cell_type": "code",
   "execution_count": 18,
   "metadata": {
    "id": "13oNhA3Lptsz"
   },
   "outputs": [
    {
     "data": {
      "text/plain": [
       "<AxesSubplot:xlabel='income', ylabel='Count'>"
      ]
     },
     "execution_count": 18,
     "metadata": {},
     "output_type": "execute_result"
    },
    {
     "data": {
      "image/png": "[encoded data removed]",
      "text/plain": [
       "<Figure size 432x288 with 1 Axes>"
      ]
     },
     "metadata": {},
     "output_type": "display_data"
    }
   ],
   "source": [
    "# Grafico para la columna income\n",
    "data=df_data.groupby([\"income\",\"label\"]).size().reset_index().rename(columns = {0:\"qty\"})\n",
    "sns.histplot(data = data,log_scale=True, x = \"income\",hue='label')"
   ]
  },
  {
   "cell_type": "markdown",
   "metadata": {
    "id": "Lm4iNiPHpw9X"
   },
   "source": [
    "`Comentario`: "
   ]
  },
  {
   "cell_type": "code",
   "execution_count": 19,
   "metadata": {
    "id": "kyDTFHzbqDqe"
   },
   "outputs": [
    {
     "data": {
      "text/plain": [
       "<AxesSubplot:xlabel='label', ylabel='count'>"
      ]
     },
     "execution_count": 19,
     "metadata": {},
     "output_type": "execute_result"
    },
    {
     "data": {
      "image/png": "[encoded data removed]",
      "text/plain": [
       "<Figure size 432x288 with 1 Axes>"
      ]
     },
     "metadata": {},
     "output_type": "display_data"
    }
   ],
   "source": [
    "# Grafico para la columna label\n",
    "sns.countplot('label',data=df_data)"
   ]
  },
  {
   "cell_type": "markdown",
   "metadata": {
    "id": "01G52vmLqIAi"
   },
   "source": [
    "`Comentario`: "
   ]
  },
  {
   "cell_type": "markdown",
   "metadata": {
    "id": "2S2GVOaZqI7I"
   },
   "source": [
    "**Que nueva información le han aportado los gráficos respecto a la data y cuál es la utilidad de visualizar la data antes de entrenar un algoritmo de Machine Learning** [2 Pts] "
   ]
  },
  {
   "cell_type": "markdown",
   "metadata": {
    "id": "mhx3OhQHqTgm"
   },
   "source": [
    "`Respuesta`: "
   ]
  },
  {
   "cell_type": "code",
   "execution_count": null,
   "metadata": {
    "id": "jI7QbeB3pckq"
   },
   "outputs": [],
   "source": []
  },
  {
   "cell_type": "markdown",
   "metadata": {
    "id": "Xp6wgqeTUX_H"
   },
   "source": [
    "## Preprocesamiento"
   ]
  },
  {
   "cell_type": "markdown",
   "metadata": {
    "id": "U7Eal1P_zF4T"
   },
   "source": [
    "El proceso típico de entrenamiento de un modelo consta de dividir la data en 3 conjuntos, uno para entrenamiento, otro para validacion y otro para testing"
   ]
  },
  {
   "cell_type": "markdown",
   "metadata": {
    "id": "3Yb7zlepz0t_"
   },
   "source": [
    "**Defina cual es la utilidad de cada uno de estos conjuntos e implemente el código para separar la data considerando un split de 80/10/10 respectivamente** [3 Pts]\n",
    "\n",
    "*80% de la data para entrenamiento, 10% para validación y el 10% para testing*"
   ]
  },
  {
   "cell_type": "markdown",
   "metadata": {
    "id": "XIjeOPHl0O88"
   },
   "source": [
    "*Para ello se puede apoyar en la función [train_test_split](https://pandas.pydata.org/docs/reference/api/pandas.DataFrame.sample.html) de scikit-learn.*\n",
    "\n",
    "```\n",
    "X_train, X_test, y_train, y_test = train_test_split(X, y, test_size=\"size_for_test\", random_state=SEED)\n",
    "```\n",
    "```\n",
    "# Using a pandas dataframe\n",
    "df_train, df_test = train_test_split(df_data, test_size=\"size_for_test\", random_state=SEED)\n",
    "```"
   ]
  },
  {
   "cell_type": "code",
   "execution_count": 20,
   "metadata": {
    "id": "EiBICd7f1jYO"
   },
   "outputs": [],
   "source": [
    "# Dividir la data considerando el split indicado anteriormente\n",
    "df_train, df_test = train_test_split(df_data, test_size=0.2)\n",
    "\n",
    "df_val, df_test = train_test_split(df_test, test_size=0.5) "
   ]
  },
  {
   "cell_type": "markdown",
   "metadata": {
    "id": "6f7y_ltp2vO1"
   },
   "source": [
    "\n",
    "\n",
    "*   `Training`:\n",
    "*   `Validation`:\n",
    "*   `Testing`: \n",
    "\n"
   ]
  },
  {
   "cell_type": "markdown",
   "metadata": {
    "id": "bMc8HGALKE7f"
   },
   "source": [
    "## Feature Engineer \n",
    "\n",
    "Feature Engineer se considera un arte porque involucra mucho la creatividad con el conocimiento del dominio del problema. Consiste en el proceso de crear nuevas características o features a partir de otras existentes. En general la idea principal es la de utilizar el conocimiento del contexto del problema o bien del dominio de los datos para aprovechar esa información y crear features que puedan ayudar en el desempeño de un algoritmo, si bien existen técnicas más o menos estándar como lo puede ser normalizar o standarizar valores numéricos tambien existen otras transformaciones que no son tan simples y varían mucho dependiendo del problema. \n",
    "\n",
    "\n",
    "<img src=\"https://drive.google.com/uc?id=1Q9i-Jr2HHgMS5vg5lv-Q0ZhAxLuW47Xm\" width=\"70%\"/>\n",
    "\n",
    "\n",
    "[Referencia](https://elitedatascience.com/feature-engineering)"
   ]
  },
  {
   "cell_type": "markdown",
   "metadata": {
    "id": "hq3bGV8fL9Mw"
   },
   "source": [
    "### Standard techniques"
   ]
  },
  {
   "cell_type": "markdown",
   "metadata": {
    "id": "iHJprXFNZsvq"
   },
   "source": [
    "Como se ha mencionado anteriormente existen técnicas bastante conocidas en la actualidad para abordar el apartado de Feature Engineer donde la mayoria de estas se pueden dividir en dos grandes grupos dependiendo del tipo de datos tengamos:\n",
    "\n",
    "1.   Variables numéricas\n",
    "2.   Variables categóricas\n",
    "\n"
   ]
  },
  {
   "cell_type": "markdown",
   "metadata": {
    "id": "vitHm71cMDOR"
   },
   "source": [
    "#### Numerical values\n",
    "\n",
    "*   Normalizing: `MinMaxScaler `\n",
    "*   Standarizing: `StandardScaler`"
   ]
  },
  {
   "cell_type": "markdown",
   "metadata": {
    "id": "sJs665Vwagfh"
   },
   "source": [
    "**Muestre cual es la transformación que aplica MinMaxScaler y StandardScaler a una muestra x** [1 Pts]"
   ]
  },
  {
   "cell_type": "markdown",
   "metadata": {
    "id": "QpfUHVRJcmjA"
   },
   "source": [
    "\n",
    "*   `MinMaxScaler` : $x=\\frac{a}{b} \\hspace{1cm} x \\in  [a, b]$\n",
    "*   `StandardScaler` : $x=\\frac{a}{b} \\hspace{1cm} x \\in [a, b]$"
   ]
  },
  {
   "cell_type": "markdown",
   "metadata": {
    "id": "a7-xP_H-MLG4"
   },
   "source": [
    "#### Categorical values\n",
    "\n",
    "*   One-Hot Encoding.\n",
    "*   Ordinal Encoding.\n",
    "*   Label Encoding.\n",
    "\n"
   ]
  },
  {
   "cell_type": "markdown",
   "metadata": {
    "id": "TJGOfU7JeRjz"
   },
   "source": [
    "**Defina o explique la transformación que aplica cada uno de los siguientes encoding e indique la diferencia entre ellos considerando sklearn** [3 Pts]"
   ]
  },
  {
   "cell_type": "markdown",
   "metadata": {
    "id": "ZDCfwGixeaA-"
   },
   "source": [
    "\n",
    "\n",
    "*   `One-Hot Encoding`: Este metodo crea tanta variables (nuevas columnas) como caracteristicas tenga una columna y c/u de ellas sera binaria, es decir, se le asignara un  1 a la caracteristica al que correspondia el registro y un 0 a todas las demas.\n",
    "*   `Ordinal Encoding`: A una columna con n distintas clases se le asigna a c/u de ellas un valor entre 0  y n-1 pero donde si debe existir un orden entre las clases. por ejemplo supongamos que las clases para una supuesta columna $dificultad$ son $facil$, $medio$ y $dificil$ entonces se asignara un 0 a facil, un 1 a medio y un 2 a dificil. En donde claramente la dificultad tiene un orden de mas facil a mas dificil. \n",
    "*   `Label Encoding`: Para un Target (o atributo) que tenga n clases o caracteristicas (pueden ser categoricas o numericas) se le asigna a cada clase un valor entre 0 y n-1."
   ]
  },
  {
   "cell_type": "markdown",
   "metadata": {
    "id": "NKo6d7nXeGld"
   },
   "source": [
    "#### Otras/Especiales\n",
    "\n",
    "*   Bucketizing. \n",
    "*   Fechas.\n"
   ]
  },
  {
   "cell_type": "markdown",
   "metadata": {
    "id": "KYe2LhBdetZE"
   },
   "source": [
    "**Investigue y defina que es el Bucketing en Machine Learning** [2 Pts]"
   ]
  },
  {
   "cell_type": "markdown",
   "metadata": {
    "id": "mRgX4kmLfIQP"
   },
   "source": [
    "`Bucketing`: La idea es descomponer una columna que tiene muchos valores en sub grupos (llamados binning) y cuya cantidad debe ser predeterminada. Esta técnica puede ser utilizada  de distintas maneras: \n",
    "\n",
    "* sub grupos de igual frecuencia: cada sub grupo deberá de contener la misma cantidad de datos\n",
    "* sub grupos de igual rango: cada subgrupo contendra los datos que se encuentren en un determinado rango que será igual para cada uno. en este caso la cantidad de datos de cada subgrupo no sera el mismo. \n",
    "* otro criterio determinado."
   ]
  },
  {
   "cell_type": "markdown",
   "metadata": {
    "id": "n408-iVWfNFa"
   },
   "source": [
    "**Observe el siguiente código y comente cuál podría ser su utilidad para una variable relacionada con fechas, como lo puede ser un día** [2 Pts]"
   ]
  },
  {
   "cell_type": "markdown",
   "metadata": {
    "id": "XI0uWWOgoL6Z"
   },
   "source": [
    "\n",
    "*Hint 1: ¿Por qué no mejor utilizar One-Hot Encoding*\n",
    "\n",
    "*Hint 2: Mirar las ppt de la primera clase*\n"
   ]
  },
  {
   "cell_type": "code",
   "execution_count": 21,
   "metadata": {
    "id": "2lphFA7rlP8A"
   },
   "outputs": [],
   "source": [
    "def preprocess_day(df, column):\n",
    "  \"\"\"Funcion que toma la columna dia y crea dos features utilizando esa variable\"\"\"\n",
    "  DAYS_IN_YEAR = 365\n",
    "  df['sin_day'] = np.sin(2 * np.pi * df[column] / DAYS_IN_YEAR)\n",
    "  df['cos_day'] = np.cos(2 * np.pi * df[column] / DAYS_IN_YEAR)\n",
    "  df.drop(columns=[column], inplace=True)\n",
    "  return df"
   ]
  },
  {
   "cell_type": "code",
   "execution_count": 22,
   "metadata": {
    "colab": {
     "base_uri": "https://localhost:8080/",
     "height": 206
    },
    "id": "sLmQkg7NmIFs",
    "outputId": "83cefd67-8db4-46c6-d436-15b989d26aa7"
   },
   "outputs": [
    {
     "data": {
      "text/html": [
       "<div>\n",
       "<style scoped>\n",
       "    .dataframe tbody tr th:only-of-type {\n",
       "        vertical-align: middle;\n",
       "    }\n",
       "\n",
       "    .dataframe tbody tr th {\n",
       "        vertical-align: top;\n",
       "    }\n",
       "\n",
       "    .dataframe thead th {\n",
       "        text-align: right;\n",
       "    }\n",
       "</style>\n",
       "<table border=\"1\" class=\"dataframe\">\n",
       "  <thead>\n",
       "    <tr style=\"text-align: right;\">\n",
       "      <th></th>\n",
       "      <th>sin_day</th>\n",
       "      <th>cos_day</th>\n",
       "    </tr>\n",
       "  </thead>\n",
       "  <tbody>\n",
       "    <tr>\n",
       "      <th>0</th>\n",
       "      <td>0.017213</td>\n",
       "      <td>0.999852</td>\n",
       "    </tr>\n",
       "    <tr>\n",
       "      <th>1</th>\n",
       "      <td>0.034422</td>\n",
       "      <td>0.999407</td>\n",
       "    </tr>\n",
       "    <tr>\n",
       "      <th>2</th>\n",
       "      <td>0.051620</td>\n",
       "      <td>0.998667</td>\n",
       "    </tr>\n",
       "    <tr>\n",
       "      <th>3</th>\n",
       "      <td>0.068802</td>\n",
       "      <td>0.997630</td>\n",
       "    </tr>\n",
       "    <tr>\n",
       "      <th>4</th>\n",
       "      <td>0.085965</td>\n",
       "      <td>0.996298</td>\n",
       "    </tr>\n",
       "  </tbody>\n",
       "</table>\n",
       "</div>"
      ],
      "text/plain": [
       "    sin_day   cos_day\n",
       "0  0.017213  0.999852\n",
       "1  0.034422  0.999407\n",
       "2  0.051620  0.998667\n",
       "3  0.068802  0.997630\n",
       "4  0.085965  0.996298"
      ]
     },
     "execution_count": 22,
     "metadata": {},
     "output_type": "execute_result"
    }
   ],
   "source": [
    "# Crear un dataframe de muestra y aplicar la funcion\n",
    "df = pd.DataFrame(data=np.arange(1, 366), columns={\"day\"})\n",
    "df = preprocess_day(df, column=\"day\")\n",
    "df.head()"
   ]
  },
  {
   "cell_type": "code",
   "execution_count": 23,
   "metadata": {
    "colab": {
     "base_uri": "https://localhost:8080/",
     "height": 410
    },
    "id": "0JAMSniBo4ys",
    "outputId": "acb81665-8323-4af2-a446-7391fd57269b"
   },
   "outputs": [
    {
     "data": {
      "image/png": "[encoded data removed]",
      "text/plain": [
       "<Figure size 576x432 with 1 Axes>"
      ]
     },
     "metadata": {},
     "output_type": "display_data"
    }
   ],
   "source": [
    "# Mostrar la transformacion aplicada\n",
    "fig = plt.figure(figsize=(8, 6))\n",
    "\n",
    "sns.scatterplot(data=df, x=\"sin_day\", y=\"cos_day\").set_title(\"Encoding utilizado\")\n",
    "\n",
    "plt.show()"
   ]
  },
  {
   "cell_type": "markdown",
   "metadata": {
    "id": "uLgbzMIXfkL0"
   },
   "source": [
    "`Respuesta`: Al ser tanto $\\sin()$ y $\\cos()$ dos funciones ciclicas con periodo $2\\pi $ se satisfacera que el numero mas alto de un atributo estara muy cercano al mas pequeño. Esto es muy util en periodos ciclicos como lo son los dias de un año pues el dia 365 (31-12) es muy cercano al dia 1 (01-01). De forma simple se puede ver como si estuvieramos escribiendo todos los valores en un reloj  equitativamente (linealmente) y luego mapearlo al $[-1,1]$ usando el $\\sin()$ o $\\cos()$. \n",
    "\n",
    "El problema de one hot encoding en este caso es en primer lugar la gran cantidad de columnas que se deben de crear. En el ejemplo de dias de un año serian 365 nuevas columnas. Tambien tiene el problema de no dar ninguna relacion al hecho de que los dias son ciclicos. pues en este caso el 1 y 365 no reflejarian ninguna similitud."
   ]
  },
  {
   "cell_type": "markdown",
   "metadata": {
    "id": "cVCdApmHf6uO"
   },
   "source": [
    "**Crear una función que implemente las siguientes técnicas de preprocesamiento para cada feature especificado:** [3 Pts]\n",
    "\n",
    "*   `MinMaxScaler` con rango (-1, 1): `weight`, `looped`\n",
    "*   `StandardScaler`: `income`, `count`, `length`\n",
    "*   `Bucketizing`: `neighbors`\n",
    "    \n",
    "    Considerando lo siguiente:\n",
    "\n",
    "    1.   Valor menor o igual a 10 asignar: `\"bajo\"`\n",
    "    2.   Valor mayor a 10 y menor o igual a 500 asignar: `\"medio\"`\n",
    "    3.   Valor mayor a 500 asignar: `\"alto\"`\n",
    "\n",
    "*   `Ordinal Encoding`: `year`\n",
    "*   `Label Encoding`: `label`\n",
    "*   `Fecha`: `day`\n",
    "\n",
    "\n",
    "\n"
   ]
  },
  {
   "cell_type": "code",
   "execution_count": 24,
   "metadata": {
    "id": "K5h_nqzEfOdR"
   },
   "outputs": [],
   "source": [
    "# Funcion que aplica el preprocesamiendo indicado\n",
    "def bucket(valor):\n",
    "    if(valor <= 10):\n",
    "        return 'bajo'\n",
    "    elif(valor > 10 & valor <= 500):\n",
    "        return 'medio'\n",
    "    else:\n",
    "        return 'alto'\n",
    "    \n",
    "def preprocesamiento(minmax,standard,bucketizing,ordinal_encoding,label_encoding,fecha,data_train,data_test,data_val):\n",
    "    minmaxscaler = MinMaxScaler(feature_range=(-1,1))\n",
    "    \n",
    "    data_train[minmax] =   minmaxscaler.fit_transform(data_train[minmax])\n",
    "    data_test[minmax] =   minmaxscaler.transform(data_test[minmax])\n",
    "    if data_val is not None:\n",
    "        data_val[minmax] =   minmaxscaler.transform(data_val[minmax])\n",
    "    \n",
    "    standarscaler = StandardScaler()\n",
    "    data_train[standard] = standarscaler.fit_transform(data_train[standard])\n",
    "    data_test[standard] = standarscaler.fit_transform(data_test[standard])\n",
    "    if data_val is not None:\n",
    "        data_val[standard] = standarscaler.fit_transform(data_val[standard])\n",
    "    \n",
    "    for y in bucketizing:\n",
    "        data_train[y] = data_train[y].apply(lambda x: bucket(x))\n",
    "        data_test[y] = data_test[y].apply(lambda x: bucket(x))\n",
    "        if data_val is not None:\n",
    "            data_val[y] = data_val[y].apply(lambda x: bucket(x))\n",
    "\n",
    "    ordinalencoder = OrdinalEncoder()\n",
    "    data_train[ordinal_encoding] = ordinalencoder.fit_transform(data_train[ordinal_encoding])\n",
    "    data_test[ordinal_encoding] = ordinalencoder.transform(data_test[ordinal_encoding])\n",
    "    if data_val is not None:\n",
    "        data_val[ordinal_encoding] = ordinalencoder.transform(data_val[ordinal_encoding])\n",
    "\n",
    "    \n",
    "    for x in label_encoding:\n",
    "        labelencoder = LabelEncoder()\n",
    "        data_train[x] = labelencoder.fit_transform(data_train[x])\n",
    "        data_test[x] = labelencoder.transform(data_test[x])\n",
    "        if data_val is not None:\n",
    "            data_val[x] = labelencoder.transform(data_val[x])\n",
    "        \n",
    "    for x in fecha:\n",
    "        preprocess_day(data_train,x)\n",
    "        preprocess_day(data_test,x)\n",
    "        if data_val is not None:\n",
    "            preprocess_day(data_val,x)\n",
    "    if data_val is not None:\n",
    "        return data_train,data_test,data_val\n",
    "    else:\n",
    "        return data_train,data_test"
   ]
  },
  {
   "cell_type": "code",
   "execution_count": 25,
   "metadata": {
    "id": "0iEgCXdp9bGA"
   },
   "outputs": [],
   "source": [
    "# Utilizar la funcion\n",
    "df_train, df_test, df_val =preprocesamiento([\"weight\", \"looped\"],[\"income\", \"count\", \"length\"],[\"neighbors\"],['year'],['label'],['day'],df_train,df_test,df_val)\n"
   ]
  },
  {
   "cell_type": "code",
   "execution_count": 26,
   "metadata": {
    "id": "0Dk6IUyzKXqm"
   },
   "outputs": [
    {
     "data": {
      "text/html": [
       "<div>\n",
       "<style scoped>\n",
       "    .dataframe tbody tr th:only-of-type {\n",
       "        vertical-align: middle;\n",
       "    }\n",
       "\n",
       "    .dataframe tbody tr th {\n",
       "        vertical-align: top;\n",
       "    }\n",
       "\n",
       "    .dataframe thead th {\n",
       "        text-align: right;\n",
       "    }\n",
       "</style>\n",
       "<table border=\"1\" class=\"dataframe\">\n",
       "  <thead>\n",
       "    <tr style=\"text-align: right;\">\n",
       "      <th></th>\n",
       "      <th>year</th>\n",
       "      <th>length</th>\n",
       "      <th>weight</th>\n",
       "      <th>count</th>\n",
       "      <th>looped</th>\n",
       "      <th>neighbors</th>\n",
       "      <th>income</th>\n",
       "      <th>label</th>\n",
       "      <th>sin_day</th>\n",
       "      <th>cos_day</th>\n",
       "    </tr>\n",
       "  </thead>\n",
       "  <tbody>\n",
       "    <tr>\n",
       "      <th>84194</th>\n",
       "      <td>2.0</td>\n",
       "      <td>-0.613830</td>\n",
       "      <td>-0.997893</td>\n",
       "      <td>-0.423437</td>\n",
       "      <td>-1.0</td>\n",
       "      <td>bajo</td>\n",
       "      <td>-0.019233</td>\n",
       "      <td>1</td>\n",
       "      <td>-0.999769</td>\n",
       "      <td>0.021516</td>\n",
       "    </tr>\n",
       "    <tr>\n",
       "      <th>52618</th>\n",
       "      <td>1.0</td>\n",
       "      <td>-0.647836</td>\n",
       "      <td>-0.995986</td>\n",
       "      <td>-0.422831</td>\n",
       "      <td>-1.0</td>\n",
       "      <td>bajo</td>\n",
       "      <td>-0.021251</td>\n",
       "      <td>1</td>\n",
       "      <td>0.835925</td>\n",
       "      <td>-0.548843</td>\n",
       "    </tr>\n",
       "    <tr>\n",
       "      <th>37916</th>\n",
       "      <td>4.0</td>\n",
       "      <td>1.698568</td>\n",
       "      <td>-0.997288</td>\n",
       "      <td>1.271519</td>\n",
       "      <td>-1.0</td>\n",
       "      <td>bajo</td>\n",
       "      <td>-0.021073</td>\n",
       "      <td>1</td>\n",
       "      <td>0.635432</td>\n",
       "      <td>0.772157</td>\n",
       "    </tr>\n",
       "    <tr>\n",
       "      <th>17726</th>\n",
       "      <td>1.0</td>\n",
       "      <td>-0.715848</td>\n",
       "      <td>-0.998997</td>\n",
       "      <td>-0.424043</td>\n",
       "      <td>-1.0</td>\n",
       "      <td>bajo</td>\n",
       "      <td>0.115987</td>\n",
       "      <td>1</td>\n",
       "      <td>-0.280231</td>\n",
       "      <td>-0.959933</td>\n",
       "    </tr>\n",
       "    <tr>\n",
       "      <th>55343</th>\n",
       "      <td>6.0</td>\n",
       "      <td>-0.749854</td>\n",
       "      <td>-0.995986</td>\n",
       "      <td>-0.424043</td>\n",
       "      <td>-1.0</td>\n",
       "      <td>bajo</td>\n",
       "      <td>-0.009768</td>\n",
       "      <td>1</td>\n",
       "      <td>0.321270</td>\n",
       "      <td>0.946988</td>\n",
       "    </tr>\n",
       "    <tr>\n",
       "      <th>...</th>\n",
       "      <td>...</td>\n",
       "      <td>...</td>\n",
       "      <td>...</td>\n",
       "      <td>...</td>\n",
       "      <td>...</td>\n",
       "      <td>...</td>\n",
       "      <td>...</td>\n",
       "      <td>...</td>\n",
       "      <td>...</td>\n",
       "      <td>...</td>\n",
       "    </tr>\n",
       "    <tr>\n",
       "      <th>71920</th>\n",
       "      <td>0.0</td>\n",
       "      <td>0.780410</td>\n",
       "      <td>-1.000000</td>\n",
       "      <td>-0.399206</td>\n",
       "      <td>-1.0</td>\n",
       "      <td>bajo</td>\n",
       "      <td>-0.021020</td>\n",
       "      <td>1</td>\n",
       "      <td>-0.985948</td>\n",
       "      <td>-0.167052</td>\n",
       "    </tr>\n",
       "    <tr>\n",
       "      <th>46769</th>\n",
       "      <td>6.0</td>\n",
       "      <td>1.698568</td>\n",
       "      <td>-0.999990</td>\n",
       "      <td>2.125055</td>\n",
       "      <td>-1.0</td>\n",
       "      <td>bajo</td>\n",
       "      <td>-0.021014</td>\n",
       "      <td>0</td>\n",
       "      <td>0.566702</td>\n",
       "      <td>0.823923</td>\n",
       "    </tr>\n",
       "    <tr>\n",
       "      <th>16557</th>\n",
       "      <td>4.0</td>\n",
       "      <td>-0.749854</td>\n",
       "      <td>-0.997993</td>\n",
       "      <td>-0.424043</td>\n",
       "      <td>-1.0</td>\n",
       "      <td>bajo</td>\n",
       "      <td>-0.020290</td>\n",
       "      <td>1</td>\n",
       "      <td>0.068802</td>\n",
       "      <td>0.997630</td>\n",
       "    </tr>\n",
       "    <tr>\n",
       "      <th>1244</th>\n",
       "      <td>0.0</td>\n",
       "      <td>-0.001725</td>\n",
       "      <td>-1.000000</td>\n",
       "      <td>-0.424043</td>\n",
       "      <td>-1.0</td>\n",
       "      <td>bajo</td>\n",
       "      <td>-0.018659</td>\n",
       "      <td>1</td>\n",
       "      <td>0.668064</td>\n",
       "      <td>-0.744104</td>\n",
       "    </tr>\n",
       "    <tr>\n",
       "      <th>86909</th>\n",
       "      <td>0.0</td>\n",
       "      <td>-0.239766</td>\n",
       "      <td>-0.999937</td>\n",
       "      <td>-0.424043</td>\n",
       "      <td>-1.0</td>\n",
       "      <td>bajo</td>\n",
       "      <td>0.002524</td>\n",
       "      <td>1</td>\n",
       "      <td>0.440519</td>\n",
       "      <td>-0.897743</td>\n",
       "    </tr>\n",
       "  </tbody>\n",
       "</table>\n",
       "<p>74070 rows × 10 columns</p>\n",
       "</div>"
      ],
      "text/plain": [
       "       year    length    weight     count  looped neighbors    income  label  \\\n",
       "84194   2.0 -0.613830 -0.997893 -0.423437    -1.0      bajo -0.019233      1   \n",
       "52618   1.0 -0.647836 -0.995986 -0.422831    -1.0      bajo -0.021251      1   \n",
       "37916   4.0  1.698568 -0.997288  1.271519    -1.0      bajo -0.021073      1   \n",
       "17726   1.0 -0.715848 -0.998997 -0.424043    -1.0      bajo  0.115987      1   \n",
       "55343   6.0 -0.749854 -0.995986 -0.424043    -1.0      bajo -0.009768      1   \n",
       "...     ...       ...       ...       ...     ...       ...       ...    ...   \n",
       "71920   0.0  0.780410 -1.000000 -0.399206    -1.0      bajo -0.021020      1   \n",
       "46769   6.0  1.698568 -0.999990  2.125055    -1.0      bajo -0.021014      0   \n",
       "16557   4.0 -0.749854 -0.997993 -0.424043    -1.0      bajo -0.020290      1   \n",
       "1244    0.0 -0.001725 -1.000000 -0.424043    -1.0      bajo -0.018659      1   \n",
       "86909   0.0 -0.239766 -0.999937 -0.424043    -1.0      bajo  0.002524      1   \n",
       "\n",
       "        sin_day   cos_day  \n",
       "84194 -0.999769  0.021516  \n",
       "52618  0.835925 -0.548843  \n",
       "37916  0.635432  0.772157  \n",
       "17726 -0.280231 -0.959933  \n",
       "55343  0.321270  0.946988  \n",
       "...         ...       ...  \n",
       "71920 -0.985948 -0.167052  \n",
       "46769  0.566702  0.823923  \n",
       "16557  0.068802  0.997630  \n",
       "1244   0.668064 -0.744104  \n",
       "86909  0.440519 -0.897743  \n",
       "\n",
       "[74070 rows x 10 columns]"
      ]
     },
     "execution_count": 26,
     "metadata": {},
     "output_type": "execute_result"
    }
   ],
   "source": [
    "# Mostrar la data despues del preprocesamiento (Training)\n",
    "df_train"
   ]
  },
  {
   "cell_type": "code",
   "execution_count": 27,
   "metadata": {
    "id": "d9mKjJrlMoB2"
   },
   "outputs": [
    {
     "data": {
      "text/html": [
       "<div>\n",
       "<style scoped>\n",
       "    .dataframe tbody tr th:only-of-type {\n",
       "        vertical-align: middle;\n",
       "    }\n",
       "\n",
       "    .dataframe tbody tr th {\n",
       "        vertical-align: top;\n",
       "    }\n",
       "\n",
       "    .dataframe thead th {\n",
       "        text-align: right;\n",
       "    }\n",
       "</style>\n",
       "<table border=\"1\" class=\"dataframe\">\n",
       "  <thead>\n",
       "    <tr style=\"text-align: right;\">\n",
       "      <th></th>\n",
       "      <th>year</th>\n",
       "      <th>length</th>\n",
       "      <th>weight</th>\n",
       "      <th>count</th>\n",
       "      <th>looped</th>\n",
       "      <th>neighbors</th>\n",
       "      <th>income</th>\n",
       "      <th>label</th>\n",
       "      <th>sin_day</th>\n",
       "      <th>cos_day</th>\n",
       "    </tr>\n",
       "  </thead>\n",
       "  <tbody>\n",
       "    <tr>\n",
       "      <th>4633</th>\n",
       "      <td>4.0</td>\n",
       "      <td>0.228006</td>\n",
       "      <td>-1.000000</td>\n",
       "      <td>-0.414074</td>\n",
       "      <td>-1.000000</td>\n",
       "      <td>bajo</td>\n",
       "      <td>-0.035769</td>\n",
       "      <td>1</td>\n",
       "      <td>-0.674444</td>\n",
       "      <td>0.738326</td>\n",
       "    </tr>\n",
       "    <tr>\n",
       "      <th>40470</th>\n",
       "      <td>5.0</td>\n",
       "      <td>1.689353</td>\n",
       "      <td>-0.999903</td>\n",
       "      <td>2.804126</td>\n",
       "      <td>-0.682075</td>\n",
       "      <td>bajo</td>\n",
       "      <td>-0.060700</td>\n",
       "      <td>0</td>\n",
       "      <td>0.516062</td>\n",
       "      <td>-0.856551</td>\n",
       "    </tr>\n",
       "    <tr>\n",
       "      <th>37129</th>\n",
       "      <td>2.0</td>\n",
       "      <td>-0.723569</td>\n",
       "      <td>-0.995986</td>\n",
       "      <td>-0.414074</td>\n",
       "      <td>-1.000000</td>\n",
       "      <td>bajo</td>\n",
       "      <td>-0.031858</td>\n",
       "      <td>1</td>\n",
       "      <td>0.085965</td>\n",
       "      <td>0.996298</td>\n",
       "    </tr>\n",
       "    <tr>\n",
       "      <th>57866</th>\n",
       "      <td>0.0</td>\n",
       "      <td>0.194021</td>\n",
       "      <td>-1.000000</td>\n",
       "      <td>-0.384416</td>\n",
       "      <td>-1.000000</td>\n",
       "      <td>bajo</td>\n",
       "      <td>-0.053416</td>\n",
       "      <td>1</td>\n",
       "      <td>-0.863142</td>\n",
       "      <td>-0.504961</td>\n",
       "    </tr>\n",
       "    <tr>\n",
       "      <th>497</th>\n",
       "      <td>7.0</td>\n",
       "      <td>-0.757554</td>\n",
       "      <td>-0.993979</td>\n",
       "      <td>-0.413468</td>\n",
       "      <td>-1.000000</td>\n",
       "      <td>bajo</td>\n",
       "      <td>0.129356</td>\n",
       "      <td>1</td>\n",
       "      <td>0.432776</td>\n",
       "      <td>0.901502</td>\n",
       "    </tr>\n",
       "    <tr>\n",
       "      <th>...</th>\n",
       "      <td>...</td>\n",
       "      <td>...</td>\n",
       "      <td>...</td>\n",
       "      <td>...</td>\n",
       "      <td>...</td>\n",
       "      <td>...</td>\n",
       "      <td>...</td>\n",
       "      <td>...</td>\n",
       "      <td>...</td>\n",
       "      <td>...</td>\n",
       "    </tr>\n",
       "    <tr>\n",
       "      <th>43826</th>\n",
       "      <td>5.0</td>\n",
       "      <td>-0.655600</td>\n",
       "      <td>-0.995986</td>\n",
       "      <td>-0.414074</td>\n",
       "      <td>-1.000000</td>\n",
       "      <td>bajo</td>\n",
       "      <td>-0.060648</td>\n",
       "      <td>1</td>\n",
       "      <td>-0.321270</td>\n",
       "      <td>0.946988</td>\n",
       "    </tr>\n",
       "    <tr>\n",
       "      <th>63130</th>\n",
       "      <td>2.0</td>\n",
       "      <td>0.397930</td>\n",
       "      <td>-0.995945</td>\n",
       "      <td>-0.401968</td>\n",
       "      <td>-1.000000</td>\n",
       "      <td>bajo</td>\n",
       "      <td>0.022207</td>\n",
       "      <td>1</td>\n",
       "      <td>0.471160</td>\n",
       "      <td>-0.882048</td>\n",
       "    </tr>\n",
       "    <tr>\n",
       "      <th>45003</th>\n",
       "      <td>5.0</td>\n",
       "      <td>-0.757554</td>\n",
       "      <td>-0.995986</td>\n",
       "      <td>-0.414074</td>\n",
       "      <td>-1.000000</td>\n",
       "      <td>bajo</td>\n",
       "      <td>-0.062252</td>\n",
       "      <td>1</td>\n",
       "      <td>-0.970064</td>\n",
       "      <td>0.242850</td>\n",
       "    </tr>\n",
       "    <tr>\n",
       "      <th>56902</th>\n",
       "      <td>5.0</td>\n",
       "      <td>-0.723569</td>\n",
       "      <td>-0.997993</td>\n",
       "      <td>-0.414074</td>\n",
       "      <td>-1.000000</td>\n",
       "      <td>bajo</td>\n",
       "      <td>-0.061696</td>\n",
       "      <td>0</td>\n",
       "      <td>-0.017213</td>\n",
       "      <td>0.999852</td>\n",
       "    </tr>\n",
       "    <tr>\n",
       "      <th>43784</th>\n",
       "      <td>7.0</td>\n",
       "      <td>1.689353</td>\n",
       "      <td>-0.996914</td>\n",
       "      <td>4.630819</td>\n",
       "      <td>0.150269</td>\n",
       "      <td>bajo</td>\n",
       "      <td>-0.057104</td>\n",
       "      <td>1</td>\n",
       "      <td>0.924291</td>\n",
       "      <td>-0.381689</td>\n",
       "    </tr>\n",
       "  </tbody>\n",
       "</table>\n",
       "<p>9259 rows × 10 columns</p>\n",
       "</div>"
      ],
      "text/plain": [
       "       year    length    weight     count    looped neighbors    income  \\\n",
       "4633    4.0  0.228006 -1.000000 -0.414074 -1.000000      bajo -0.035769   \n",
       "40470   5.0  1.689353 -0.999903  2.804126 -0.682075      bajo -0.060700   \n",
       "37129   2.0 -0.723569 -0.995986 -0.414074 -1.000000      bajo -0.031858   \n",
       "57866   0.0  0.194021 -1.000000 -0.384416 -1.000000      bajo -0.053416   \n",
       "497     7.0 -0.757554 -0.993979 -0.413468 -1.000000      bajo  0.129356   \n",
       "...     ...       ...       ...       ...       ...       ...       ...   \n",
       "43826   5.0 -0.655600 -0.995986 -0.414074 -1.000000      bajo -0.060648   \n",
       "63130   2.0  0.397930 -0.995945 -0.401968 -1.000000      bajo  0.022207   \n",
       "45003   5.0 -0.757554 -0.995986 -0.414074 -1.000000      bajo -0.062252   \n",
       "56902   5.0 -0.723569 -0.997993 -0.414074 -1.000000      bajo -0.061696   \n",
       "43784   7.0  1.689353 -0.996914  4.630819  0.150269      bajo -0.057104   \n",
       "\n",
       "       label   sin_day   cos_day  \n",
       "4633       1 -0.674444  0.738326  \n",
       "40470      0  0.516062 -0.856551  \n",
       "37129      1  0.085965  0.996298  \n",
       "57866      1 -0.863142 -0.504961  \n",
       "497        1  0.432776  0.901502  \n",
       "...      ...       ...       ...  \n",
       "43826      1 -0.321270  0.946988  \n",
       "63130      1  0.471160 -0.882048  \n",
       "45003      1 -0.970064  0.242850  \n",
       "56902      0 -0.017213  0.999852  \n",
       "43784      1  0.924291 -0.381689  \n",
       "\n",
       "[9259 rows x 10 columns]"
      ]
     },
     "execution_count": 27,
     "metadata": {},
     "output_type": "execute_result"
    }
   ],
   "source": [
    "# Mostrar la data despues del prorcesamiento (Validation)\n",
    "df_val"
   ]
  },
  {
   "cell_type": "code",
   "execution_count": 28,
   "metadata": {
    "id": "RmnDC26EMu1o"
   },
   "outputs": [
    {
     "data": {
      "text/html": [
       "<div>\n",
       "<style scoped>\n",
       "    .dataframe tbody tr th:only-of-type {\n",
       "        vertical-align: middle;\n",
       "    }\n",
       "\n",
       "    .dataframe tbody tr th {\n",
       "        vertical-align: top;\n",
       "    }\n",
       "\n",
       "    .dataframe thead th {\n",
       "        text-align: right;\n",
       "    }\n",
       "</style>\n",
       "<table border=\"1\" class=\"dataframe\">\n",
       "  <thead>\n",
       "    <tr style=\"text-align: right;\">\n",
       "      <th></th>\n",
       "      <th>year</th>\n",
       "      <th>length</th>\n",
       "      <th>weight</th>\n",
       "      <th>count</th>\n",
       "      <th>looped</th>\n",
       "      <th>neighbors</th>\n",
       "      <th>income</th>\n",
       "      <th>label</th>\n",
       "      <th>sin_day</th>\n",
       "      <th>cos_day</th>\n",
       "    </tr>\n",
       "  </thead>\n",
       "  <tbody>\n",
       "    <tr>\n",
       "      <th>30729</th>\n",
       "      <td>5.0</td>\n",
       "      <td>-0.611951</td>\n",
       "      <td>-0.998495</td>\n",
       "      <td>-0.419310</td>\n",
       "      <td>-1.0</td>\n",
       "      <td>bajo</td>\n",
       "      <td>-0.130044</td>\n",
       "      <td>0</td>\n",
       "      <td>-0.094537</td>\n",
       "      <td>-0.995521</td>\n",
       "    </tr>\n",
       "    <tr>\n",
       "      <th>76136</th>\n",
       "      <td>5.0</td>\n",
       "      <td>1.701557</td>\n",
       "      <td>-0.999648</td>\n",
       "      <td>2.280556</td>\n",
       "      <td>-1.0</td>\n",
       "      <td>bajo</td>\n",
       "      <td>-0.136497</td>\n",
       "      <td>0</td>\n",
       "      <td>-0.936881</td>\n",
       "      <td>-0.349647</td>\n",
       "    </tr>\n",
       "    <tr>\n",
       "      <th>81410</th>\n",
       "      <td>4.0</td>\n",
       "      <td>-0.748039</td>\n",
       "      <td>-0.997993</td>\n",
       "      <td>-0.419927</td>\n",
       "      <td>-1.0</td>\n",
       "      <td>bajo</td>\n",
       "      <td>-0.131735</td>\n",
       "      <td>1</td>\n",
       "      <td>-0.111659</td>\n",
       "      <td>-0.993747</td>\n",
       "    </tr>\n",
       "    <tr>\n",
       "      <th>86344</th>\n",
       "      <td>3.0</td>\n",
       "      <td>-0.611951</td>\n",
       "      <td>-0.999331</td>\n",
       "      <td>-0.419927</td>\n",
       "      <td>-1.0</td>\n",
       "      <td>bajo</td>\n",
       "      <td>-0.055274</td>\n",
       "      <td>1</td>\n",
       "      <td>-0.545240</td>\n",
       "      <td>-0.838280</td>\n",
       "    </tr>\n",
       "    <tr>\n",
       "      <th>12300</th>\n",
       "      <td>5.0</td>\n",
       "      <td>1.701557</td>\n",
       "      <td>-0.999665</td>\n",
       "      <td>1.015437</td>\n",
       "      <td>-1.0</td>\n",
       "      <td>bajo</td>\n",
       "      <td>-0.136767</td>\n",
       "      <td>1</td>\n",
       "      <td>-0.858764</td>\n",
       "      <td>0.512371</td>\n",
       "    </tr>\n",
       "    <tr>\n",
       "      <th>...</th>\n",
       "      <td>...</td>\n",
       "      <td>...</td>\n",
       "      <td>...</td>\n",
       "      <td>...</td>\n",
       "      <td>...</td>\n",
       "      <td>...</td>\n",
       "      <td>...</td>\n",
       "      <td>...</td>\n",
       "      <td>...</td>\n",
       "      <td>...</td>\n",
       "    </tr>\n",
       "    <tr>\n",
       "      <th>44426</th>\n",
       "      <td>5.0</td>\n",
       "      <td>-0.305751</td>\n",
       "      <td>-0.999774</td>\n",
       "      <td>-0.418693</td>\n",
       "      <td>-1.0</td>\n",
       "      <td>bajo</td>\n",
       "      <td>-0.127462</td>\n",
       "      <td>0</td>\n",
       "      <td>0.455907</td>\n",
       "      <td>-0.890028</td>\n",
       "    </tr>\n",
       "    <tr>\n",
       "      <th>32072</th>\n",
       "      <td>7.0</td>\n",
       "      <td>-0.679995</td>\n",
       "      <td>-0.997993</td>\n",
       "      <td>-0.419927</td>\n",
       "      <td>-1.0</td>\n",
       "      <td>bajo</td>\n",
       "      <td>-0.133447</td>\n",
       "      <td>1</td>\n",
       "      <td>0.993257</td>\n",
       "      <td>-0.115935</td>\n",
       "    </tr>\n",
       "    <tr>\n",
       "      <th>5187</th>\n",
       "      <td>7.0</td>\n",
       "      <td>1.701557</td>\n",
       "      <td>-0.998059</td>\n",
       "      <td>3.071949</td>\n",
       "      <td>-1.0</td>\n",
       "      <td>bajo</td>\n",
       "      <td>-0.140018</td>\n",
       "      <td>1</td>\n",
       "      <td>0.995919</td>\n",
       "      <td>0.090252</td>\n",
       "    </tr>\n",
       "    <tr>\n",
       "      <th>81411</th>\n",
       "      <td>3.0</td>\n",
       "      <td>-0.714017</td>\n",
       "      <td>-0.997993</td>\n",
       "      <td>-0.419310</td>\n",
       "      <td>-1.0</td>\n",
       "      <td>bajo</td>\n",
       "      <td>-0.098165</td>\n",
       "      <td>0</td>\n",
       "      <td>0.992222</td>\n",
       "      <td>0.124479</td>\n",
       "    </tr>\n",
       "    <tr>\n",
       "      <th>86782</th>\n",
       "      <td>3.0</td>\n",
       "      <td>1.701557</td>\n",
       "      <td>-0.999999</td>\n",
       "      <td>1.840756</td>\n",
       "      <td>-1.0</td>\n",
       "      <td>bajo</td>\n",
       "      <td>-0.045474</td>\n",
       "      <td>1</td>\n",
       "      <td>0.821477</td>\n",
       "      <td>0.570242</td>\n",
       "    </tr>\n",
       "  </tbody>\n",
       "</table>\n",
       "<p>9259 rows × 10 columns</p>\n",
       "</div>"
      ],
      "text/plain": [
       "       year    length    weight     count  looped neighbors    income  label  \\\n",
       "30729   5.0 -0.611951 -0.998495 -0.419310    -1.0      bajo -0.130044      0   \n",
       "76136   5.0  1.701557 -0.999648  2.280556    -1.0      bajo -0.136497      0   \n",
       "81410   4.0 -0.748039 -0.997993 -0.419927    -1.0      bajo -0.131735      1   \n",
       "86344   3.0 -0.611951 -0.999331 -0.419927    -1.0      bajo -0.055274      1   \n",
       "12300   5.0  1.701557 -0.999665  1.015437    -1.0      bajo -0.136767      1   \n",
       "...     ...       ...       ...       ...     ...       ...       ...    ...   \n",
       "44426   5.0 -0.305751 -0.999774 -0.418693    -1.0      bajo -0.127462      0   \n",
       "32072   7.0 -0.679995 -0.997993 -0.419927    -1.0      bajo -0.133447      1   \n",
       "5187    7.0  1.701557 -0.998059  3.071949    -1.0      bajo -0.140018      1   \n",
       "81411   3.0 -0.714017 -0.997993 -0.419310    -1.0      bajo -0.098165      0   \n",
       "86782   3.0  1.701557 -0.999999  1.840756    -1.0      bajo -0.045474      1   \n",
       "\n",
       "        sin_day   cos_day  \n",
       "30729 -0.094537 -0.995521  \n",
       "76136 -0.936881 -0.349647  \n",
       "81410 -0.111659 -0.993747  \n",
       "86344 -0.545240 -0.838280  \n",
       "12300 -0.858764  0.512371  \n",
       "...         ...       ...  \n",
       "44426  0.455907 -0.890028  \n",
       "32072  0.993257 -0.115935  \n",
       "5187   0.995919  0.090252  \n",
       "81411  0.992222  0.124479  \n",
       "86782  0.821477  0.570242  \n",
       "\n",
       "[9259 rows x 10 columns]"
      ]
     },
     "execution_count": 28,
     "metadata": {},
     "output_type": "execute_result"
    }
   ],
   "source": [
    "# Mostrar la data despues del procesamiento (Testing)\n",
    "df_test"
   ]
  },
  {
   "cell_type": "markdown",
   "metadata": {
    "id": "uKVf2-7cZHkg"
   },
   "source": [
    "## Entrenamiento"
   ]
  },
  {
   "cell_type": "markdown",
   "metadata": {
    "id": "t4KiXDJ6Ti_k"
   },
   "source": [
    "Para la parte de entrenamiento vamos a utilizar tres modelos:\n",
    "\n",
    "*   SVM\n",
    "*   Naive Bayes\n",
    "*   Logistic Regression\n",
    "\n",
    "Para la elección del mejor modelo se considerará la evaluación de 4 métricas distintas para clasificación (acc, prec, rec y f1) y se utilizará `K-Fold Cross Validation`\n"
   ]
  },
  {
   "cell_type": "markdown",
   "metadata": {
    "id": "u-9HDSNj444G"
   },
   "source": [
    "**Implemente las siguientes funciones y entrene cada modelo utilizando K-Fold cross validation con K=10 y genere un gráfico de tipo boxplot con los resultados obtenidos por modelo. Finalmente comente cual es el mejor modelo en base a tiempo de entrenamiento y score obtenido** [5 Pts]"
   ]
  },
  {
   "cell_type": "code",
   "execution_count": 38,
   "metadata": {},
   "outputs": [
    {
     "data": {
      "text/plain": [
       "0.7734096554703531"
      ]
     },
     "execution_count": 38,
     "metadata": {},
     "output_type": "execute_result"
    }
   ],
   "source": [
    "#df_train, df_test = preprocesamiento([\"weight\", \"looped\"],[\"income\", \"count\", \"length\"],[\"neighbors\"],['year'],['label',\"neighbors\"],['day'],df_train,df_test,None)\n",
    "accuracy_score(df_test['label'], LogisticRegression(random_state=0).fit(df_train.loc[:, df_train.columns != 'label'], df_train[\"label\"]).predict(df_test.loc[:, df_train.columns != 'label']))"
   ]
  },
  {
   "cell_type": "code",
   "execution_count": 29,
   "metadata": {
    "id": "ZYn1wX3ShN3H"
   },
   "outputs": [],
   "source": [
    "# Funcion que divide la data en X_train, y_train, ... X_test, y_test \n",
    "### START CODE HERE ###"
   ]
  },
  {
   "cell_type": "code",
   "execution_count": null,
   "metadata": {
    "id": "AdB6g4nDk3_R"
   },
   "outputs": [],
   "source": [
    "# Utilizar la funcion\n",
    "### START CODE HERE ###"
   ]
  },
  {
   "cell_type": "code",
   "execution_count": null,
   "metadata": {
    "id": "-9QQF6zTf6G0"
   },
   "outputs": [],
   "source": [
    "# Funcion que computa las metrics acc, macro_prec, macro_rec y macro_f1\n",
    "# dado un modelo y el conjunto de testing\n",
    "### START CODE HERE ###"
   ]
  },
  {
   "cell_type": "markdown",
   "metadata": {
    "id": "qv2e7N2AqWM2"
   },
   "source": [
    "**Defina como se calcula cada una de las métricas. ¿Para el dataset que tenemos sería bueno utilizar accuracy como métrica? ¿Cuál recomendarías utilizar?** [2 Pts] "
   ]
  },
  {
   "cell_type": "markdown",
   "metadata": {
    "id": "x6O631m_qTBP"
   },
   "source": [
    "\n",
    "\n",
    "*   `Accuracy`: Esta métrica mide el ratio de casos que el modelo ha acertado $$accuracy = \\frac{1}{n}\\sum_{i=0}^{n-1}\\mathbb{1}(\\hat{y}_i = y_i)$$ donde $\\mathbb{1}(\\hat{y}_i = y_i)$ toma el valor 1 si $\\hat{y}_i = y_i$ y 0 en caso contrario\n",
    "*   `Macro Precision`: Se interpreta como la capacidad del clasificador de no etiquetar como positiva una muestra que es negativa $$precision = \\frac{TP}{TP+FP}$$\n",
    "*   `Macro Recall`: Se interpreta como: De toda la muestra positiva, cuantos podemos etiquetar como positivos\n",
    "*   `Macro F1-Score`:\n",
    "\n"
   ]
  },
  {
   "cell_type": "markdown",
   "metadata": {},
   "source": [
    "Para el dataset utilizado no nos conviene utilizar accuracy como métrica, pues el dataset no está balanceado, lo que puede llevar a malas interpretaciones del accuracy (un mal ajuste puede tener accuracy alto si la data está desbalanceada). Debido a que nos interesa clasificar una transacción como ransomware, es recomendable utilizar la Macro Recall, es decir, ¿De todas las transacciones que son ransomware, que porcentaje podemos etiquetar como ramsomware?"
   ]
  },
  {
   "cell_type": "code",
   "execution_count": 30,
   "metadata": {
    "id": "ojvDt8M87kI6"
   },
   "outputs": [],
   "source": [
    "# Funcion que entrena los modelos utilizando K-Fold\n",
    "def entrenamiento(scores, df_data, algoritmo,K):\n",
    "    lista_acc = []\n",
    "    lista_prec = []\n",
    "    lista_recall = []\n",
    "    lista_f1 = []\n",
    "    \n",
    "    kf = KFold(n_splits=K)\n",
    "    KFold(n_splits=K, random_state=SEED, shuffle=True)\n",
    "\n",
    "    for train_index, test_index in kf.split(df_data):\n",
    "        data_train, data_test = df_data.loc[train_index], df_data.loc[test_index]\n",
    "        data_train, data_test = preprocesamiento([\"weight\", \"looped\"],[\"income\", \"count\", \"length\"],[\"neighbors\"],['year'],['label',\"neighbors\"],['day'],data_train,data_test,None) \n",
    "        \n",
    "        if(algoritmo == 'LogisticRegression'):\n",
    "            modelo = LogisticRegression(random_state=SEED)\n",
    "        elif(algoritmo == 'BernoulliNB'):\n",
    "            modelo = BernoulliNB()\n",
    "        elif(algoritmo == 'LinearSVC'):\n",
    "            modelo = LinearSVC(random_state=SEED)\n",
    "        else:\n",
    "            return 0\n",
    "        modelo = modelo.fit(data_train.loc[:, data_train.columns != 'label'], data_train[\"label\"])\n",
    "        y_pred = modelo.predict(data_test.loc[:, data_train.columns != 'label'])\n",
    "        lista_acc.append(accuracy_score(data_test[\"label\"],y_pred))\n",
    "        lista_prec.append(precision_score(data_test[\"label\"],y_pred,average='macro'))\n",
    "        lista_recall.append(recall_score(data_test[\"label\"],y_pred, average='macro'))\n",
    "        lista_f1.append(f1_score(data_test[\"label\"],y_pred, average='macro'))                  \n",
    "    scores[algoritmo+\" accuracy\"]=lista_acc\n",
    "    scores[algoritmo+\" precision\"]=lista_prec\n",
    "    scores[algoritmo+\" recall\"]=lista_recall\n",
    "    scores[algoritmo+\" f1\"]=lista_f1\n",
    "    return scores"
   ]
  },
  {
   "cell_type": "code",
   "execution_count": 31,
   "metadata": {},
   "outputs": [
    {
     "data": {
      "text/html": [
       "<div>\n",
       "<style scoped>\n",
       "    .dataframe tbody tr th:only-of-type {\n",
       "        vertical-align: middle;\n",
       "    }\n",
       "\n",
       "    .dataframe tbody tr th {\n",
       "        vertical-align: top;\n",
       "    }\n",
       "\n",
       "    .dataframe thead th {\n",
       "        text-align: right;\n",
       "    }\n",
       "</style>\n",
       "<table border=\"1\" class=\"dataframe\">\n",
       "  <thead>\n",
       "    <tr style=\"text-align: right;\">\n",
       "      <th></th>\n",
       "      <th>BernoulliNB accuracy</th>\n",
       "      <th>BernoulliNB precision</th>\n",
       "      <th>BernoulliNB recall</th>\n",
       "      <th>BernoulliNB f1</th>\n",
       "      <th>LogisticRegression accuracy</th>\n",
       "      <th>LogisticRegression precision</th>\n",
       "      <th>LogisticRegression recall</th>\n",
       "      <th>LogisticRegression f1</th>\n",
       "      <th>LinearSVC accuracy</th>\n",
       "      <th>LinearSVC precision</th>\n",
       "      <th>LinearSVC recall</th>\n",
       "      <th>LinearSVC f1</th>\n",
       "    </tr>\n",
       "  </thead>\n",
       "  <tbody>\n",
       "    <tr>\n",
       "      <th>0</th>\n",
       "      <td>0.778162</td>\n",
       "      <td>0.389081</td>\n",
       "      <td>0.5</td>\n",
       "      <td>0.437621</td>\n",
       "      <td>0.777406</td>\n",
       "      <td>0.563151</td>\n",
       "      <td>0.500906</td>\n",
       "      <td>0.441173</td>\n",
       "      <td>0.777622</td>\n",
       "      <td>0.500192</td>\n",
       "      <td>0.500001</td>\n",
       "      <td>0.438405</td>\n",
       "    </tr>\n",
       "    <tr>\n",
       "      <th>1</th>\n",
       "      <td>0.780646</td>\n",
       "      <td>0.390323</td>\n",
       "      <td>0.5</td>\n",
       "      <td>0.438406</td>\n",
       "      <td>0.778594</td>\n",
       "      <td>0.487054</td>\n",
       "      <td>0.499748</td>\n",
       "      <td>0.440622</td>\n",
       "      <td>0.780106</td>\n",
       "      <td>0.461723</td>\n",
       "      <td>0.499831</td>\n",
       "      <td>0.438719</td>\n",
       "    </tr>\n",
       "    <tr>\n",
       "      <th>2</th>\n",
       "      <td>0.778054</td>\n",
       "      <td>0.389027</td>\n",
       "      <td>0.5</td>\n",
       "      <td>0.437587</td>\n",
       "      <td>0.778594</td>\n",
       "      <td>0.699002</td>\n",
       "      <td>0.502608</td>\n",
       "      <td>0.443922</td>\n",
       "      <td>0.777730</td>\n",
       "      <td>0.531908</td>\n",
       "      <td>0.500140</td>\n",
       "      <td>0.438440</td>\n",
       "    </tr>\n",
       "    <tr>\n",
       "      <th>3</th>\n",
       "      <td>0.764553</td>\n",
       "      <td>0.382277</td>\n",
       "      <td>0.5</td>\n",
       "      <td>0.433284</td>\n",
       "      <td>0.764337</td>\n",
       "      <td>0.611733</td>\n",
       "      <td>0.501605</td>\n",
       "      <td>0.438116</td>\n",
       "      <td>0.764553</td>\n",
       "      <td>0.632362</td>\n",
       "      <td>0.500476</td>\n",
       "      <td>0.434632</td>\n",
       "    </tr>\n",
       "    <tr>\n",
       "      <th>4</th>\n",
       "      <td>0.777190</td>\n",
       "      <td>0.388595</td>\n",
       "      <td>0.5</td>\n",
       "      <td>0.437314</td>\n",
       "      <td>0.777406</td>\n",
       "      <td>0.666697</td>\n",
       "      <td>0.501868</td>\n",
       "      <td>0.442111</td>\n",
       "      <td>0.776866</td>\n",
       "      <td>0.531476</td>\n",
       "      <td>0.500137</td>\n",
       "      <td>0.438162</td>\n",
       "    </tr>\n",
       "    <tr>\n",
       "      <th>5</th>\n",
       "      <td>0.773518</td>\n",
       "      <td>0.386759</td>\n",
       "      <td>0.5</td>\n",
       "      <td>0.436149</td>\n",
       "      <td>0.736797</td>\n",
       "      <td>0.519919</td>\n",
       "      <td>0.508133</td>\n",
       "      <td>0.489544</td>\n",
       "      <td>0.773086</td>\n",
       "      <td>0.511769</td>\n",
       "      <td>0.500058</td>\n",
       "      <td>0.436946</td>\n",
       "    </tr>\n",
       "    <tr>\n",
       "      <th>6</th>\n",
       "      <td>0.782914</td>\n",
       "      <td>0.391457</td>\n",
       "      <td>0.5</td>\n",
       "      <td>0.439120</td>\n",
       "      <td>0.781942</td>\n",
       "      <td>0.569108</td>\n",
       "      <td>0.501357</td>\n",
       "      <td>0.444122</td>\n",
       "      <td>0.782158</td>\n",
       "      <td>0.506851</td>\n",
       "      <td>0.500057</td>\n",
       "      <td>0.440343</td>\n",
       "    </tr>\n",
       "    <tr>\n",
       "      <th>7</th>\n",
       "      <td>0.774598</td>\n",
       "      <td>0.387299</td>\n",
       "      <td>0.5</td>\n",
       "      <td>0.436492</td>\n",
       "      <td>0.774382</td>\n",
       "      <td>0.612542</td>\n",
       "      <td>0.501389</td>\n",
       "      <td>0.440625</td>\n",
       "      <td>0.774058</td>\n",
       "      <td>0.458696</td>\n",
       "      <td>0.499821</td>\n",
       "      <td>0.436790</td>\n",
       "    </tr>\n",
       "    <tr>\n",
       "      <th>8</th>\n",
       "      <td>0.773277</td>\n",
       "      <td>0.386639</td>\n",
       "      <td>0.5</td>\n",
       "      <td>0.436072</td>\n",
       "      <td>0.772413</td>\n",
       "      <td>0.545838</td>\n",
       "      <td>0.500620</td>\n",
       "      <td>0.439043</td>\n",
       "      <td>0.772629</td>\n",
       "      <td>0.511654</td>\n",
       "      <td>0.500086</td>\n",
       "      <td>0.437264</td>\n",
       "    </tr>\n",
       "    <tr>\n",
       "      <th>9</th>\n",
       "      <td>0.779218</td>\n",
       "      <td>0.389609</td>\n",
       "      <td>0.5</td>\n",
       "      <td>0.437955</td>\n",
       "      <td>0.778246</td>\n",
       "      <td>0.556440</td>\n",
       "      <td>0.500954</td>\n",
       "      <td>0.441926</td>\n",
       "      <td>0.779002</td>\n",
       "      <td>0.514615</td>\n",
       "      <td>0.500037</td>\n",
       "      <td>0.438368</td>\n",
       "    </tr>\n",
       "  </tbody>\n",
       "</table>\n",
       "</div>"
      ],
      "text/plain": [
       "   BernoulliNB accuracy  BernoulliNB precision  BernoulliNB recall  \\\n",
       "0              0.778162               0.389081                 0.5   \n",
       "1              0.780646               0.390323                 0.5   \n",
       "2              0.778054               0.389027                 0.5   \n",
       "3              0.764553               0.382277                 0.5   \n",
       "4              0.777190               0.388595                 0.5   \n",
       "5              0.773518               0.386759                 0.5   \n",
       "6              0.782914               0.391457                 0.5   \n",
       "7              0.774598               0.387299                 0.5   \n",
       "8              0.773277               0.386639                 0.5   \n",
       "9              0.779218               0.389609                 0.5   \n",
       "\n",
       "   BernoulliNB f1  LogisticRegression accuracy  LogisticRegression precision  \\\n",
       "0        0.437621                     0.777406                      0.563151   \n",
       "1        0.438406                     0.778594                      0.487054   \n",
       "2        0.437587                     0.778594                      0.699002   \n",
       "3        0.433284                     0.764337                      0.611733   \n",
       "4        0.437314                     0.777406                      0.666697   \n",
       "5        0.436149                     0.736797                      0.519919   \n",
       "6        0.439120                     0.781942                      0.569108   \n",
       "7        0.436492                     0.774382                      0.612542   \n",
       "8        0.436072                     0.772413                      0.545838   \n",
       "9        0.437955                     0.778246                      0.556440   \n",
       "\n",
       "   LogisticRegression recall  LogisticRegression f1  LinearSVC accuracy  \\\n",
       "0                   0.500906               0.441173            0.777622   \n",
       "1                   0.499748               0.440622            0.780106   \n",
       "2                   0.502608               0.443922            0.777730   \n",
       "3                   0.501605               0.438116            0.764553   \n",
       "4                   0.501868               0.442111            0.776866   \n",
       "5                   0.508133               0.489544            0.773086   \n",
       "6                   0.501357               0.444122            0.782158   \n",
       "7                   0.501389               0.440625            0.774058   \n",
       "8                   0.500620               0.439043            0.772629   \n",
       "9                   0.500954               0.441926            0.779002   \n",
       "\n",
       "   LinearSVC precision  LinearSVC recall  LinearSVC f1  \n",
       "0             0.500192          0.500001      0.438405  \n",
       "1             0.461723          0.499831      0.438719  \n",
       "2             0.531908          0.500140      0.438440  \n",
       "3             0.632362          0.500476      0.434632  \n",
       "4             0.531476          0.500137      0.438162  \n",
       "5             0.511769          0.500058      0.436946  \n",
       "6             0.506851          0.500057      0.440343  \n",
       "7             0.458696          0.499821      0.436790  \n",
       "8             0.511654          0.500086      0.437264  \n",
       "9             0.514615          0.500037      0.438368  "
      ]
     },
     "execution_count": 31,
     "metadata": {},
     "output_type": "execute_result"
    }
   ],
   "source": [
    "# Llamar a la funcion\n",
    "scores = pd.DataFrame(index=np.arange(10))\n",
    "\n",
    "scores = entrenamiento(scores, df_data, 'BernoulliNB',10)\n",
    "scores = entrenamiento(scores, df_data, 'LogisticRegression',10)\n",
    "scores = entrenamiento(scores, df_data, 'LinearSVC',10)\n",
    "scores"
   ]
  },
  {
   "cell_type": "code",
   "execution_count": 32,
   "metadata": {
    "id": "tGbDCbg4ERc5"
   },
   "outputs": [
    {
     "data": {
      "text/plain": [
       "<AxesSubplot:>"
      ]
     },
     "execution_count": 32,
     "metadata": {},
     "output_type": "execute_result"
    },
    {
     "data": {
      "image/png": "[encoded data removed]",
      "text/plain": [
       "<Figure size 1080x1080 with 4 Axes>"
      ]
     },
     "metadata": {},
     "output_type": "display_data"
    }
   ],
   "source": [
    "# Mostrar el boxplot con los resultados por modelo\n",
    "fig, axs = plt.subplots(2,2,figsize=(15, 15))\n",
    "sns.boxplot(ax=axs[0,0],data=scores[[\"BernoulliNB accuracy\",\"LogisticRegression accuracy\",\"LinearSVC accuracy\"]])\n",
    "sns.boxplot(ax=axs[0,1],data=scores[[\"BernoulliNB precision\",\"LogisticRegression precision\",\"LinearSVC precision\"]])\n",
    "sns.boxplot(ax=axs[1,0],data=scores[[\"BernoulliNB recall\",\"LogisticRegression recall\",\"LinearSVC recall\"]])\n",
    "sns.boxplot(ax=axs[1,1],data=scores[[\"BernoulliNB f1\",\"LogisticRegression f1\",\"LinearSVC f1\"]])"
   ]
  },
  {
   "cell_type": "markdown",
   "metadata": {
    "id": "Tcz_YEjz-ekD"
   },
   "source": [
    "`Respuesta`: En general el modelo con mejores Score es el de regresión logistica"
   ]
  },
  {
   "cell_type": "markdown",
   "metadata": {
    "id": "A-IUu7wK5LXU"
   },
   "source": [
    "Como bien sabemos cada modelo tiene sus respectivos hiperparametros los cuales influyen en el resultado, es por ello por lo que también es importante optimizarlos, para ello se hará uso de una grilla de tipo random utilizando el conjunto de validacion"
   ]
  },
  {
   "cell_type": "markdown",
   "metadata": {
    "id": "p-Vg7TenAYu5"
   },
   "source": [
    "*Para ello se puede apoyar en la función [RandomizedSearchCV](https://scikit-learn.org/stable/modules/generated/sklearn.model_selection.RandomizedSearchCV.html) de scikit-learn.*\n",
    "\n",
    "```\n",
    "# specify parameters and distributions to sample from\n",
    "# depend of the model \n",
    "param_dist = {\n",
    "    \"average\": [True, False],\n",
    "    \"l1_ratio\": stats.uniform(0, 1),\n",
    "    \"alpha\": loguniform(1e-2, 1e0),\n",
    "}\n",
    "# run randomized search\n",
    "n_iter_search = 15\n",
    "random_search = RandomizedSearchCV(\n",
    "    model, param_distributions=param_dist, n_iter=n_iter_search\n",
    ")\n",
    "```\n",
    "Para la variable `param_dist` lea la documentación del modelo que selecciono y cree una grilla a su gusto considerando los hiperparametros que le parecen más importantes\n"
   ]
  },
  {
   "cell_type": "markdown",
   "metadata": {
    "id": "bayfoPan6Sjr"
   },
   "source": [
    "**Optimice los hiperparámetros para el mejor modelo utilizando el conjunto de validación** [3 Pts]"
   ]
  },
  {
   "cell_type": "code",
   "execution_count": 58,
   "metadata": {
    "id": "JVUj6WwB8H6T"
   },
   "outputs": [],
   "source": [
    "# Funcion que obtiene los mejores hiperparametros para el mejor modelo\n",
    "# seleccionado en la parte de K-Fold\n",
    "def logreg_hyperparam(data):\n",
    "    modelo = LogisticRegression(random_state=SEED)\n",
    "    modelo = modelo.fit(data.loc[:, data.columns != 'label'], data[\"label\"])\n",
    "    grid = dict(C=[100, 10, 1.0, 0.1, 0.01],penalty=['l2', 'l1'])\n",
    "    grid_search = RandomizedSearchCV(modelo,grid, cv=10, scoring='recall',error_score=0)\n",
    "    grid_result = grid_search.fit(data.loc[:, data.columns != 'label'], data[\"label\"])\n",
    "   \n",
    "    return grid_result.best_params_"
   ]
  },
  {
   "cell_type": "code",
   "execution_count": 59,
   "metadata": {
    "id": "kq6-Ok-ZB8vm"
   },
   "outputs": [],
   "source": [
    "# Llamar a la funcion\n",
    "df_train, df_test = train_test_split(df_data, test_size=0.2)\n",
    "df_val, df_test = train_test_split(df_test, test_size=0.5) \n",
    "df_train, df_test, df_val = preprocesamiento([\"weight\", \"looped\"],[\"income\", \"count\", \"length\"],[\"neighbors\"],['year'],['label',\"neighbors\"],['day'],df_train,df_test,df_val) \n",
    "       \n",
    "logreg_hiper = logreg_hyperparam(df_val)"
   ]
  },
  {
   "cell_type": "code",
   "execution_count": 60,
   "metadata": {
    "id": "_hncpzuF8zQF"
   },
   "outputs": [
    {
     "data": {
      "text/plain": [
       "{'penalty': 'l2', 'C': 0.1}"
      ]
     },
     "execution_count": 60,
     "metadata": {},
     "output_type": "execute_result"
    }
   ],
   "source": [
    "# Mostrar los hiperparametros\n",
    "logreg_hiper"
   ]
  },
  {
   "cell_type": "markdown",
   "metadata": {
    "id": "quX8KUQf6cWX"
   },
   "source": [
    "**¿Cuál es el riesgo de setear los hiperparámetros utilizando el conjunto de testing?** [2 Pts]"
   ]
  },
  {
   "cell_type": "markdown",
   "metadata": {
    "id": "4HRUBMvC6hjE"
   },
   "source": [
    "`Respuesta`: "
   ]
  },
  {
   "cell_type": "markdown",
   "metadata": {
    "id": "0ci7osyLERoI"
   },
   "source": [
    "## Predicción"
   ]
  },
  {
   "cell_type": "markdown",
   "metadata": {
    "id": "K6ZQB6-XETp3"
   },
   "source": [
    "**Implemente una función que evalúe su mejor modelo utilizando el conjunto de testing. Haga uso de los mejores hiperparametros y la función que calcula las 4 métricas** [2 Pts]"
   ]
  },
  {
   "cell_type": "code",
   "execution_count": 68,
   "metadata": {
    "id": "dT7RyUEuL8zv"
   },
   "outputs": [],
   "source": [
    "# Funcion que evalua el mejor modelo con los hiperparametros encontrados anteriormente\n",
    "def logreg(data_train,data_test,hyperparam):\n",
    "    modelo = LogisticRegression(random_state=SEED,penalty=hyperparam[\"penalty\"],C=hyperparam[\"C\"])\n",
    "\n",
    "    modelo = modelo.fit(data_train.loc[:, data_train.columns != 'label'], data_train[\"label\"])\n",
    "    y_pred = modelo.predict(data_test.loc[:, data_train.columns != 'label'])\n",
    "    \n",
    "    acc=accuracy_score(data_test[\"label\"],y_pred)\n",
    "    macro_pre=precision_score(data_test[\"label\"],y_pred,average='macro')\n",
    "    macro_rec=recall_score(data_test[\"label\"],y_pred, average='macro')\n",
    "    f1=f1_score(data_test[\"label\"],y_pred, average='macro')    \n",
    "    \n",
    "    return y_pred,modelo, acc,macro_pre,macro_rec,f1\n",
    "   "
   ]
  },
  {
   "cell_type": "code",
   "execution_count": 69,
   "metadata": {
    "id": "TRkM0ZSyMK07"
   },
   "outputs": [],
   "source": [
    "# Llamar a la funcion\n",
    "y_pred, modelo, acc,macro_pre,macro_rec,f1=logreg(df_train,df_test,logreg_hiper)"
   ]
  },
  {
   "cell_type": "code",
   "execution_count": 63,
   "metadata": {
    "id": "psaPFWvf_6Vm"
   },
   "outputs": [
    {
     "name": "stdout",
     "output_type": "stream",
     "text": [
      "0.7736256615185225\n",
      "0.45871899868654875\n",
      "0.4996429162892326\n",
      "0.4371200018562669\n"
     ]
    }
   ],
   "source": [
    "# Mostrar los resultados obtenidos en terminos de acc, macro_pre, macro_rec y macro_f1\n",
    "print(acc)\n",
    "print(macro_pre)\n",
    "print(macro_rec)\n",
    "print(f1)"
   ]
  },
  {
   "cell_type": "markdown",
   "metadata": {
    "id": "z6_e9d4uCaAi"
   },
   "source": [
    "**Muestre la matriz de confusión para el conjunto de testing. ¿Como se calcula y cuál es su utilidad?** [2 Pts]"
   ]
  },
  {
   "cell_type": "markdown",
   "metadata": {
    "id": "QynmSddgDYNw"
   },
   "source": [
    "*Para ello se puede apoyar en la función [ConfusionMatrixDisplay\n",
    "](https://scikit-learn.org/stable/modules/generated/sklearn.metrics.ConfusionMatrixDisplay.html) de scikit-learn.*\n",
    "\n",
    "```\n",
    "cm = confusion_matrix(y_test, predictions, labels=model.classes_)\n",
    "disp = ConfusionMatrixDisplay(confusion_matrix=cm,\n",
    "                              display_labels=model.classes_)\n",
    "disp.plot()\n",
    "...\n",
    "plt.show()\n",
    "```"
   ]
  },
  {
   "cell_type": "code",
   "execution_count": 70,
   "metadata": {
    "id": "op-Zi1FDCYJ4"
   },
   "outputs": [],
   "source": [
    "# Funcion que muestra la matriz de confusion para el conjunto de testing\n",
    "def conf_matrix(y_test,predictions,model):\n",
    "    cm = confusion_matrix(y_test, predictions, labels=model.classes_)\n",
    "    disp = ConfusionMatrixDisplay(confusion_matrix=cm,display_labels=model.classes_)\n",
    "    disp.plot()\n",
    "    plt.show()\n",
    "    return 0"
   ]
  },
  {
   "cell_type": "code",
   "execution_count": 71,
   "metadata": {
    "id": "CZnZ4BBxAfAH"
   },
   "outputs": [
    {
     "data": {
      "image/png": "[encoded data removed]",
      "text/plain": [
       "<Figure size 432x288 with 2 Axes>"
      ]
     },
     "metadata": {},
     "output_type": "display_data"
    },
    {
     "data": {
      "text/plain": [
       "0"
      ]
     },
     "execution_count": 71,
     "metadata": {},
     "output_type": "execute_result"
    }
   ],
   "source": [
    "conf_matrix(df_test[\"label\"],y_pred,modelo)"
   ]
  },
  {
   "cell_type": "markdown",
   "metadata": {
    "id": "4d50-Cv_Ddg-"
   },
   "source": [
    "`Respuesta`: "
   ]
  },
  {
   "cell_type": "markdown",
   "metadata": {
    "id": "S5aFC__LKE7j"
   },
   "source": [
    "# 1.2) Feature Selection 📊\n",
    "\n",
    "\n",
    "El tiempo de entrenamiento y el rendimiento de un algoritmo de aprendizaje automático dependen en gran medida de la calidad y cantidad de features que se tengan. Lo ideal al entrenar un algoritmo es conservar en el conjunto de datos solo las features que potencian a nuestro modelo dado que las características innecesarias y redundantes no sólo vuelven más lento el proceso de entrenamiento, sino que también afectan al rendimiento de este porque como bien sabemos tener demasiadas características podría invocar un problema bastante conocido: `The curse of dimensionality`\n",
    "\n",
    "`Feature Selection` como su nombre lo indica tiene relacion con el proceso de seleccionar solo un subconjunto de features para entrenar un modelo. Algunas de las ventajas de utilizar esta selección son:\n",
    "\n",
    "*   Disminuye el tiempo de entrenamiento de un modelo\n",
    "*   Los modelos con menos features tienen mayor `explainability`, lo cual es un tema muy importante en la actualidad\n",
    "*   Contar con menos features conduce a una mayor generalización lo que puede que reduzca el riesgo al sobreajuste\n",
    "\n",
    "\n",
    "\n",
    "<img src=\"https://drive.google.com/uc?id=1IISn7jVFHNrN5nTBMg9alD8WX2tXLOYn\" width=\"60%\"/>\n",
    "\n",
    "[Referencia](https://towardsdatascience.com/ensemble-feature-selection-in-machine-learning-by-optimalflow-49f6ee0d52eb)"
   ]
  },
  {
   "cell_type": "markdown",
   "metadata": {
    "id": "HtO95f5GKE7j"
   },
   "source": [
    "## Filter Methods\n",
    "\n",
    "Este tipo de selección de features utiliza métodos estadísticos para hacer un ranking en base al score obtenido y así eliminar las características que sean menor o mayor a un cierto treshold. Este método no suele ser muy preciso, pero es rápido de ejecutar dado que no requiere de entrenar un modelo para la selección de features."
   ]
  },
  {
   "cell_type": "markdown",
   "metadata": {
    "id": "c_4IPHl35XbO"
   },
   "source": [
    "**Implemente la selección de features utilizando Mutual Information y ANOVA f-test, ademas muestre (puede ser un print) que features selecciono cada método. Finalmente entrene nuevamente el algoritmo seleccionado con los mejores hiperparametros y grafique los resultados obtenidos para cada método** [2 Pts]"
   ]
  },
  {
   "cell_type": "markdown",
   "metadata": {
    "id": "Wf4iGFVHB1LI"
   },
   "source": [
    "*Para ello se puede apoyar en la función [SelectKBest\n",
    "](https://scikit-learn.org/stable/modules/generated/sklearn.feature_selection.SelectKBest.html) de scikit-learn.*\n",
    "\n",
    "```\n",
    "from sklearn.datasets import load_digits\n",
    "from sklearn.feature_selection import SelectKBest, chi2\n",
    "X, y = load_digits(return_X_y=True)\n",
    "X.shape -> (1797, 64)\n",
    "X_new = SelectKBest(chi2, k=20).fit_transform(X, y)\n",
    "X_new.shape -> (1797, 20)\n",
    "```"
   ]
  },
  {
   "cell_type": "code",
   "execution_count": 128,
   "metadata": {
    "id": "hCCEoslMV2Nd"
   },
   "outputs": [],
   "source": [
    "# Funcion que selecciona features basandose en MI y ANOVA f-test \n",
    "def feature_select(X,y,type_select,K):\n",
    "    if(type_select == 'mutual info'):\n",
    "        selector = SelectKBest(mutual_info_classif, k=K)\n",
    "    elif(type_select == 'f-test'):\n",
    "        selector = SelectKBest(f_classif, k=K)\n",
    "    else:\n",
    "        return 0\n",
    "    kbest = selector.fit(X,y)\n",
    "    cols = kbest.get_feature_names_out(X.columns)\n",
    "    print(\"Feature's seleccionadas: \")\n",
    "    print(cols)\n",
    "    data = X[cols]  \n",
    "    data[\"label\"] = y\n",
    "    return data, np.append(cols,\"label\")"
   ]
  },
  {
   "cell_type": "code",
   "execution_count": 136,
   "metadata": {
    "id": "jZK7YiEMbUYn"
   },
   "outputs": [
    {
     "name": "stdout",
     "output_type": "stream",
     "text": [
      "Feature's seleccionadas: \n",
      "['year' 'weight' 'looped' 'income' 'sin_day' 'cos_day']\n",
      "Feature's seleccionadas: \n",
      "['year' 'count' 'looped' 'neighbors' 'sin_day' 'cos_day']\n"
     ]
    }
   ],
   "source": [
    "# Llamar a la funcion\n",
    "df_train, df_test = train_test_split(df_data, test_size=0.2)\n",
    "df_val, df_test = train_test_split(df_test, test_size=0.5)\n",
    "df_train, df_test, df_val = preprocesamiento([\"weight\", \"looped\"],[\"income\", \"count\", \"length\"],[\"neighbors\"],['year'],['label',\"neighbors\"],['day'],df_train,df_test,df_val) \n",
    "\n",
    "data_MI,cols_MI=feature_select(df_train.loc[:,df_train.columns != 'label'],df_train[\"label\"],'mutual info',6)\n",
    "data_F,cols_F =feature_select(df_train.loc[:,df_train.columns != 'label'],df_train[\"label\"],'f-test',6)"
   ]
  },
  {
   "cell_type": "code",
   "execution_count": 137,
   "metadata": {
    "id": "0hnuLmRQnjlW"
   },
   "outputs": [
    {
     "data": {
      "image/png": "[encoded data removed]",
      "text/plain": [
       "<Figure size 432x288 with 2 Axes>"
      ]
     },
     "metadata": {},
     "output_type": "display_data"
    },
    {
     "data": {
      "text/plain": [
       "0"
      ]
     },
     "execution_count": 137,
     "metadata": {},
     "output_type": "execute_result"
    }
   ],
   "source": [
    "# Mostrar un grafico de los resultados al aplicar estos metodos para el conjunto de testing\n",
    "logreg_hiper = logreg_hyperparam(df_val[cols_MI])          \n",
    " \n",
    "y_pred, modelo, acc,macro_pre,macro_rec,f1=logreg(df_train[cols_MI],df_test[cols_MI],logreg_hiper)\n",
    "\n",
    "conf_matrix(df_test[\"label\"],y_pred,modelo)"
   ]
  },
  {
   "cell_type": "code",
   "execution_count": 138,
   "metadata": {},
   "outputs": [
    {
     "data": {
      "image/png": "[encoded data removed]",
      "text/plain": [
       "<Figure size 432x288 with 2 Axes>"
      ]
     },
     "metadata": {},
     "output_type": "display_data"
    },
    {
     "data": {
      "text/plain": [
       "0"
      ]
     },
     "execution_count": 138,
     "metadata": {},
     "output_type": "execute_result"
    }
   ],
   "source": [
    "logreg_hiper = logreg_hyperparam(df_val[cols_F])          \n",
    " \n",
    "y_pred, modelo, acc,macro_pre,macro_rec,f1=logreg(df_train[cols_F],df_test[cols_F],logreg_hiper)\n",
    "\n",
    "conf_matrix(df_test[\"label\"],y_pred,modelo)"
   ]
  },
  {
   "cell_type": "markdown",
   "metadata": {
    "id": "hHn3CmEEKE7k"
   },
   "source": [
    "## Wrapper Methods\n",
    "\n",
    "Los métodos de tipo Wrapper utilizan un modelo para medir la eficacia de un subconjunto particular de features. Están basados en una búsqueda de tipo greedy ya que evalúan todas las combinaciones posibles de las características y seleccionan la combinación que produce el mejor resultado para cierto algoritmo."
   ]
  },
  {
   "cell_type": "markdown",
   "metadata": {
    "id": "MT73Cnd6eu-D"
   },
   "source": [
    "**Haga lo mismo que en el apartado de Filter Methods pero ahora implemente la selección de features utilizando ambas técnicas recursive feature selection y sequential feature selection** [2 Pts]"
   ]
  },
  {
   "cell_type": "markdown",
   "metadata": {
    "id": "VlRWIJTfCOkp"
   },
   "source": [
    "*Para ello se puede apoyar en la función [RFE](https://scikit-learn.org/stable/modules/generated/sklearn.feature_selection.RFE.html) de scikit-learn.*\n",
    "\n",
    "```\n",
    "from sklearn.datasets import make_friedman1\n",
    "from sklearn.feature_selection import RFE\n",
    "from sklearn.svm import SVR\n",
    "X, y = make_friedman1(n_samples=50, n_features=10, random_state=0)\n",
    "estimator = SVR(kernel=\"linear\")\n",
    "selector = RFE(estimator, n_features_to_select=5, step=1)\n",
    "selector = selector.fit(X, y)\n",
    "selector.ranking_ -> array([1, 1, 1, 1, 1, 6, 4, 3, 2, 5])\n",
    "```\n",
    "*y en la función [SequentialFeatureSelector](https://scikit-learn.org/stable/modules/generated/sklearn.feature_selection.SequentialFeatureSelector.html) de scikit-learn.*\n",
    "\n",
    "```\n",
    "from sklearn.feature_selection import SequentialFeatureSelector\n",
    "from sklearn.neighbors import KNeighborsClassifier\n",
    "from sklearn.datasets import load_iris\n",
    "X, y = load_iris(return_X_y=True)\n",
    "knn = KNeighborsClassifier(n_neighbors=3)\n",
    "sfs = SequentialFeatureSelector(knn, n_features_to_select=3)\n",
    "sfs.fit(X, y)\n",
    "sfs.get_support() -> array([ True, False,  True,  True])\n",
    "```"
   ]
  },
  {
   "cell_type": "code",
   "execution_count": null,
   "metadata": {
    "id": "bFdU93BEeyxj"
   },
   "outputs": [],
   "source": [
    "# Funcion que selecciona features basandose en RFE y SequentialFeatureSelector\n",
    "from sklearn.feature_selection import RFE\n",
    "df_train, df_test = train_test_split(df_data, test_size=0.2)\n",
    "df_val, df_test = train_test_split(df_test, test_size=0.5)\n",
    "df_train, df_test, df_val = preprocesamiento([\"weight\", \"looped\"],[\"income\", \"count\", \"length\"],[\"neighbors\"],['year'],['label',\"neighbors\"],['day'],df_train,df_test,df_val) \n",
    "\n",
    "estimator = LogisticRegression(random_state=SEED)\n",
    "selector = RFE(estimator, n_features_to_select=5, step=1)\n",
    "selector = selector.fit(df_train.loc[:,df_train.columns != 'label'],df_train[\"label\"])"
   ]
  },
  {
   "cell_type": "code",
   "execution_count": null,
   "metadata": {
    "id": "fmj39e1Uk_G0"
   },
   "outputs": [],
   "source": [
    "# Llamar a la funcion\n",
    "### START CODE HERE ###"
   ]
  },
  {
   "cell_type": "code",
   "execution_count": null,
   "metadata": {
    "id": "B4kKUbPEnDG-"
   },
   "outputs": [],
   "source": [
    "# Mostrar el grafico\n",
    "### START CODE HERE ###"
   ]
  },
  {
   "cell_type": "markdown",
   "metadata": {
    "id": "HnwFmfJHKE7k"
   },
   "source": [
    "## Embedded Methods\n",
    "\n",
    "Estos métodos aprovechan las propiedades intrínsecas que tienen algunos modelos ya que algunos algoritmos poseen la capacidad de seleccionan los mejores features cuando se entrenan. Con ello bastaría con solo acceder a estas propiedades para obtener un ranking para cada feature."
   ]
  },
  {
   "cell_type": "markdown",
   "metadata": {
    "id": "K72VHx0Cggpy"
   },
   "source": [
    "**Haga lo mismo que en el apartado de Filter Methods pero ahora implemente la selección de features utilizando Lasso y Ridge** [2 Pts]"
   ]
  },
  {
   "cell_type": "markdown",
   "metadata": {
    "id": "wZoD_aryBbxb"
   },
   "source": [
    "Se recomienda utilizar `LinearSVC` con `penalty='l1'` para la parte de Lasso y con `penalty='2'` para la parte de Ridge"
   ]
  },
  {
   "cell_type": "markdown",
   "metadata": {
    "id": "UBAkyYlTBs-n"
   },
   "source": [
    "*Para ello se puede apoyar en la función [SelectFromModel\n",
    "](https://scikit-learn.org/stable/modules/generated/sklearn.feature_selection.SelectFromModel.html) de scikit-learn.*\n",
    "\n",
    "```\n",
    "from sklearn.feature_selection import SelectFromModel\n",
    "from sklearn.linear_model import LogisticRegression\n",
    "X = [[ 0.87, -1.34,  0.31 ],\n",
    "...      [-2.79, -0.02, -0.85 ],\n",
    "...      [-1.34, -0.48, -2.55 ],\n",
    "...      [ 1.92,  1.48,  0.65 ]]\n",
    "y = [0, 1, 0, 1]\n",
    "selector = SelectFromModel(estimator=LogisticRegression()).fit(X, y)\n",
    "selector.estimator_.coef_\n",
    "array([[-0.3252302 ,  0.83462377,  0.49750423]])\n",
    "selector.threshold_ -> 0.55245...\n",
    "selector.get_support() -> array([False,  True, False])\n",
    "```"
   ]
  },
  {
   "cell_type": "code",
   "execution_count": null,
   "metadata": {
    "id": "l3v9YuAigsCi"
   },
   "outputs": [],
   "source": [
    "# Funcion que selecciona features basandose en Lasso y Ridge\n",
    "### START CODE HERE ###"
   ]
  },
  {
   "cell_type": "code",
   "execution_count": null,
   "metadata": {
    "id": "xkYABvX-o_Ak"
   },
   "outputs": [],
   "source": [
    "# Llamar a la funcion\n",
    "### START CODE HERE ###"
   ]
  },
  {
   "cell_type": "code",
   "execution_count": null,
   "metadata": {
    "id": "7q7lQtswqYul"
   },
   "outputs": [],
   "source": [
    "# Mostrar el grafico\n",
    "### START CODE HERE ###"
   ]
  },
  {
   "cell_type": "markdown",
   "metadata": {
    "id": "ZidMU3atNy8E"
   },
   "source": [
    "## Dimensionality reduction"
   ]
  },
  {
   "cell_type": "markdown",
   "metadata": {
    "id": "-ipkasvjtOF6"
   },
   "source": [
    "En general `Feature Selection` y `Dimensionality Reduction` se posicionan al mismo nivel porque ambos métodos se utilizan para reducir el número de features, pero existe una diferencia importante. `Feature Selection` consiste en simplemente seleccionar un subconjunto de features sin modificarlas, mientras que `Dimensionality Reduction` consiste en transformar los features a una dimensionalidad menor\n",
    "\n",
    "<img src=\"https://drive.google.com/uc?id=123LTzclTBTNSZgHfaMBswL7tkS3l8L7X\" width=\"60%\"/>\n",
    "\n",
    "[Referencia](https://towardsdatascience.com/dimensionality-reduction-cheatsheet-15060fee3aa)"
   ]
  },
  {
   "cell_type": "markdown",
   "metadata": {
    "id": "MYBgR3wEN2G-"
   },
   "source": [
    "### PCA"
   ]
  },
  {
   "cell_type": "markdown",
   "metadata": {
    "id": "aXK-9xGCwdEk"
   },
   "source": [
    "**Utilizando el mejor modelo genere un gráfico con la varianza acumulada vs la cantidad de componentes para PCA considerando como máximo `n_components=num_features`, ademas entrene el mejor modelo con los mejores hiperparametros y genere un gráfico de score vs número de componentes** [2 Pts]"
   ]
  },
  {
   "cell_type": "code",
   "execution_count": null,
   "metadata": {
    "id": "PXkVujBwtH1Z"
   },
   "outputs": [],
   "source": [
    "# Funcion que realiza un plot de la varianza acumulada vs numero de componentes para PCA\n",
    "### START CODE HERE ###"
   ]
  },
  {
   "cell_type": "code",
   "execution_count": null,
   "metadata": {
    "id": "1mDh3ASMw8GX"
   },
   "outputs": [],
   "source": [
    "# Llamar a la funcion\n",
    "### START CODE HERE ###"
   ]
  },
  {
   "cell_type": "code",
   "execution_count": null,
   "metadata": {
    "id": "t6qA8wvD0jik"
   },
   "outputs": [],
   "source": [
    "# Funcion que evalua el modelo en base al numero de componentes para PCA\n",
    "### START CODE HERE ###"
   ]
  },
  {
   "cell_type": "code",
   "execution_count": null,
   "metadata": {
    "id": "t466VU_u21FD"
   },
   "outputs": [],
   "source": [
    "# LLamar a la funcion\n",
    "### START CODE HERE ###"
   ]
  },
  {
   "cell_type": "code",
   "execution_count": null,
   "metadata": {
    "id": "CZZ90i6y5Wuv"
   },
   "outputs": [],
   "source": [
    "# Mostrar el grafico\n",
    "### START CODE HERE ###"
   ]
  },
  {
   "cell_type": "markdown",
   "metadata": {
    "id": "yRo1FIgfUrH0"
   },
   "source": [
    "### LDA\n"
   ]
  },
  {
   "cell_type": "markdown",
   "metadata": {
    "id": "4v60tnddySd5"
   },
   "source": [
    "**Haga el mismo procedimiento realizado en la parte de entrenamiento con PCA pero ahora con LDA** [2 Pts]"
   ]
  },
  {
   "cell_type": "markdown",
   "metadata": {
    "id": "Fz81sP02EUOU"
   },
   "source": [
    "Recuerde que `n_components cannot be larger than min(n_features, n_classes - 1)`"
   ]
  },
  {
   "cell_type": "code",
   "execution_count": null,
   "metadata": {
    "id": "ub-sVMPdnn7I"
   },
   "outputs": [],
   "source": [
    "# Funcion que evalua el modelo luego de pasar por LDA\n",
    "### START CODE HERE ###"
   ]
  },
  {
   "cell_type": "code",
   "execution_count": null,
   "metadata": {
    "id": "K3YT0sNTBFpe"
   },
   "outputs": [],
   "source": [
    "# LLamar a la funcion\n",
    "### START CODE HERE ###"
   ]
  },
  {
   "cell_type": "code",
   "execution_count": null,
   "metadata": {
    "id": "Gt4pjUOoAFrS"
   },
   "outputs": [],
   "source": [
    "# Mostrar el grafico\n",
    "### START CODE HERE ###"
   ]
  },
  {
   "cell_type": "markdown",
   "metadata": {
    "id": "XenJgy3-jPLk"
   },
   "source": [
    "# 1.3) Regression 📈 "
   ]
  },
  {
   "cell_type": "markdown",
   "metadata": {
    "id": "RFiCbH8ZjWLf"
   },
   "source": [
    "El dataset anterior era de clasificación, así que ahora intentaremos usar algunas técnicas de lo aprendido en la parte 1.1 y 1.2 pero para un problema de regresión. Para ello utilizaremos el clásico dataset diamonds que consiste en predecir el precio de un diamante en base a ciertas características"
   ]
  },
  {
   "cell_type": "markdown",
   "metadata": {
    "id": "5_St9Ip8u2Z8"
   },
   "source": [
    "<img src=\"https://drive.google.com/uc?id=19JxMzb0ccbzBD94XcQ7wpKnEWV62sEcs\" width=\"50%\"/>\n",
    "\n",
    "[Referencia](https://clickmica.fundaciondescubre.es/conoce/100-preguntas-100-respuestas/diamante-para-siempre/)"
   ]
  },
  {
   "cell_type": "markdown",
   "metadata": {
    "id": "XtAZQFNPngkv"
   },
   "source": [
    "La data corresponde a 53.940 instancias las cuales tienen relación con el precio de un diamante.\n",
    "\n",
    "Para el dataset se tienen nueve características (features) las cuales están diseñadas para identificar ciertos patrones dentro del grafo de transacciones:\n",
    "\n",
    "* `carat`: Peso del diamante\n",
    "* `cut`: Calidad del corte (Fair, Good, Very Good, Premium, Ideal)\n",
    "* `color`: Color del diamante J (worst) to D (best)\n",
    "* `clarity`: Claridad del diamante (I1 (worst), SI2, SI1, VS2, VS1, VVS2, VVS1, IF (best))\n",
    "* `depth`: Porcentaje de profundidad = z / mean(x, y) = 2 * z / (x + y) \n",
    "* `table`: Ancho de la parte superior del diamante\n",
    "* `x`: Largo\n",
    "* `y`: Ancho\n",
    "* `z`: Profundidad\n",
    "\n",
    "y un target (lo que queremos predecir):\n",
    "\n",
    "* `price`: Precio del diamante"
   ]
  },
  {
   "cell_type": "markdown",
   "metadata": {
    "id": "sRTTD-4HZRjA"
   },
   "source": [
    "## Carga de datos"
   ]
  },
  {
   "cell_type": "code",
   "execution_count": 95,
   "metadata": {
    "id": "-Yydb-YajgLY"
   },
   "outputs": [
    {
     "data": {
      "text/plain": [
       "array(['E', 'I', 'J', 'H', 'F', 'G', 'D'], dtype=object)"
      ]
     },
     "execution_count": 95,
     "metadata": {},
     "output_type": "execute_result"
    }
   ],
   "source": [
    "# Cargar la data que corresponde a un csv\n",
    "PATH_TO_CSV = os.path.join(\"Data\", \"tarea_1_diamonds.csv\")\n",
    "df_data = pd.read_csv(PATH_TO_CSV, index_col=0)\n",
    "df_data[\"color\"].unique()"
   ]
  },
  {
   "cell_type": "markdown",
   "metadata": {
    "id": "8RUeFtriZUdA"
   },
   "source": [
    "## Exploración y preprocesamiento"
   ]
  },
  {
   "cell_type": "markdown",
   "metadata": {
    "id": "WhuZHvcPCzhO"
   },
   "source": [
    "**Implemente el código para separar la data considerando un split de 80/10/10 respectivamente, ademas genere gráficos individuales para todas las columnas y genere gráficos de a pares como por ejemplo carat vs price. Comente los gráficos** [3 Pts]"
   ]
  },
  {
   "cell_type": "code",
   "execution_count": 89,
   "metadata": {
    "id": "XCAaCf0FDKET"
   },
   "outputs": [],
   "source": [
    "# Hacer el split de la data\n",
    "df_train, df_test = train_test_split(df_data, test_size=0.2)\n",
    "df_val, df_test = train_test_split(df_test, test_size=0.5)"
   ]
  },
  {
   "cell_type": "code",
   "execution_count": 72,
   "metadata": {
    "id": "FaXUQnHCDfFp"
   },
   "outputs": [
    {
     "data": {
      "text/plain": [
       "<AxesSubplot:xlabel='carat'>"
      ]
     },
     "execution_count": 72,
     "metadata": {},
     "output_type": "execute_result"
    },
    {
     "data": {
      "image/png": "[encoded data removed]",
      "text/plain": [
       "<Figure size 432x288 with 1 Axes>"
      ]
     },
     "metadata": {},
     "output_type": "display_data"
    }
   ],
   "source": [
    "# Generar graficos (agregue la cantidad de celdas que requiera)\n",
    "#data=df_data.groupby([\"count\"]).size().reset_index().rename(columns = {0:\"qty\"})\n",
    "sns.boxplot(data = df_data, x = \"carat\")"
   ]
  },
  {
   "cell_type": "code",
   "execution_count": null,
   "metadata": {},
   "outputs": [],
   "source": []
  },
  {
   "cell_type": "markdown",
   "metadata": {
    "id": "lsClglOwWh5R"
   },
   "source": [
    "**Crear una función que implemente las siguientes técnicas de preprocesamiento para cada feature especificado:** [3 Pts]\n",
    "\n",
    "*   `MinMaxScaler` con rango (-1, 1): `depth`, `table`\n",
    "*   `StandardScaler`: `x`, `y`, `z`\n",
    "*   `Bucketizing`: `carat`\n",
    "    \n",
    "    Considerando lo siguiente:\n",
    "\n",
    "    1.   Valor menor o igual a 1 asignar: `\"bajo\"`\n",
    "    2.   Valor mayor a 1 y menor o igual a 2 asignar: `\"medio\"`\n",
    "    3.   Valor mayor a 2 asignar: `\"alto\"`\n",
    "\n",
    "*   `Ordinal Encoding` (recordar mantener el orden): `cut`, `color`, `clarity`"
   ]
  },
  {
   "cell_type": "code",
   "execution_count": 92,
   "metadata": {
    "id": "27BhsSqyZpC4"
   },
   "outputs": [],
   "source": [
    "# Fucnion que implementa las tecnicas de preprocesamiento indicadas\n",
    "def bucket(valor):\n",
    "    if(valor <= 1):\n",
    "        return 'bajo'\n",
    "    elif(valor > 1 and valor <= 2):\n",
    "        return 'medio'\n",
    "    else:\n",
    "        return 'alto'\n",
    "    \n",
    "def preprocesamiento(minmax,standard,bucketizing,ordinal_encoding, orden_ordinal, label_encoding,fecha,data_train,data_test,data_val):\n",
    "    minmaxscaler = MinMaxScaler(feature_range=(-1,1))\n",
    "    \n",
    "    data_train[minmax] =   minmaxscaler.fit_transform(data_train[minmax])\n",
    "    data_test[minmax] =   minmaxscaler.transform(data_test[minmax])\n",
    "    if data_val is not None:\n",
    "        data_val[minmax] =   minmaxscaler.transform(data_val[minmax])\n",
    "    \n",
    "    standarscaler = StandardScaler()\n",
    "    data_train[standard] = standarscaler.fit_transform(data_train[standard])\n",
    "    data_test[standard] = standarscaler.fit_transform(data_test[standard])\n",
    "    if data_val is not None:\n",
    "        data_val[standard] = standarscaler.fit_transform(data_val[standard])\n",
    "    \n",
    "    for y in bucketizing:\n",
    "        data_train[y] = data_train[y].apply(lambda x: bucket(x))\n",
    "        data_test[y] = data_test[y].apply(lambda x: bucket(x))\n",
    "        if data_val is not None:\n",
    "            data_val[y] = data_val[y].apply(lambda x: bucket(x))\n",
    "    \n",
    "    for x in ordinal_encoding:\n",
    "        ordinalencoder = OrdinalEncoder(categories=[orden_ordinal[x]])\n",
    "        data_train[[x]] = ordinalencoder.fit_transform(data_train[[x]])\n",
    "        data_test[[x]] = ordinalencoder.transform(data_test[[x]])\n",
    "        if data_val is not None:\n",
    "            data_val[[x]] = ordinalencoder.transform(data_val[[x]])\n",
    "\n",
    "    \n",
    "    for x in label_encoding:\n",
    "        labelencoder = LabelEncoder()\n",
    "        data_train[x] = labelencoder.fit_transform(data_train[x].reshape(-1, 1))\n",
    "        data_test[x] = labelencoder.transform(data_test[x].reshape(-1, 1))\n",
    "        if data_val is not None:\n",
    "            data_val[x] = labelencoder.transform(data_val[x])\n",
    "        \n",
    "    for x in fecha:\n",
    "        preprocess_day(data_train,x)\n",
    "        preprocess_day(data_test,x)\n",
    "        if data_val is not None:\n",
    "            preprocess_day(data_val,x)\n",
    "    if data_val is not None:\n",
    "        return data_train,data_test,data_val\n",
    "    else:\n",
    "        return data_train,data_test"
   ]
  },
  {
   "cell_type": "code",
   "execution_count": 93,
   "metadata": {
    "id": "S9KTGYcOZ0-G"
   },
   "outputs": [
    {
     "ename": "ValueError",
     "evalue": "Found unknown categories ['I', 'H', 'F', 'G', 'E'] in column 0 during fit",
     "output_type": "error",
     "traceback": [
      "\u001b[1;31m---------------------------------------------------------------------------\u001b[0m",
      "\u001b[1;31mValueError\u001b[0m                                Traceback (most recent call last)",
      "Input \u001b[1;32mIn [93]\u001b[0m, in \u001b[0;36m<module>\u001b[1;34m\u001b[0m\n\u001b[0;32m      1\u001b[0m \u001b[38;5;66;03m# Llamar a la funcion\u001b[39;00m\n\u001b[0;32m      2\u001b[0m orden \u001b[38;5;241m=\u001b[39m {\u001b[38;5;124m\"\u001b[39m\u001b[38;5;124mcut\u001b[39m\u001b[38;5;124m\"\u001b[39m:[\u001b[38;5;124m\"\u001b[39m\u001b[38;5;124mFair\u001b[39m\u001b[38;5;124m\"\u001b[39m, \u001b[38;5;124m\"\u001b[39m\u001b[38;5;124mGood\u001b[39m\u001b[38;5;124m\"\u001b[39m, \u001b[38;5;124m\"\u001b[39m\u001b[38;5;124mVery Good\u001b[39m\u001b[38;5;124m\"\u001b[39m, \u001b[38;5;124m\"\u001b[39m\u001b[38;5;124mPremium\u001b[39m\u001b[38;5;124m\"\u001b[39m, \u001b[38;5;124m\"\u001b[39m\u001b[38;5;124mIdeal\u001b[39m\u001b[38;5;124m\"\u001b[39m],\u001b[38;5;124m\"\u001b[39m\u001b[38;5;124mcolor\u001b[39m\u001b[38;5;124m\"\u001b[39m:[\u001b[38;5;124m\"\u001b[39m\u001b[38;5;124mJ\u001b[39m\u001b[38;5;124m\"\u001b[39m,\u001b[38;5;124m\"\u001b[39m\u001b[38;5;124mD\u001b[39m\u001b[38;5;124m\"\u001b[39m],\u001b[38;5;124m\"\u001b[39m\u001b[38;5;124mclarity\u001b[39m\u001b[38;5;124m\"\u001b[39m:[\u001b[38;5;124m\"\u001b[39m\u001b[38;5;124mI1\u001b[39m\u001b[38;5;124m\"\u001b[39m,\u001b[38;5;124m\"\u001b[39m\u001b[38;5;124mSI2\u001b[39m\u001b[38;5;124m\"\u001b[39m,\u001b[38;5;124m\"\u001b[39m\u001b[38;5;124mSI1\u001b[39m\u001b[38;5;124m\"\u001b[39m,\u001b[38;5;124m\"\u001b[39m\u001b[38;5;124mVS2\u001b[39m\u001b[38;5;124m\"\u001b[39m,\u001b[38;5;124m\"\u001b[39m\u001b[38;5;124mVS1\u001b[39m\u001b[38;5;124m\"\u001b[39m,\u001b[38;5;124m\"\u001b[39m\u001b[38;5;124mVVS2\u001b[39m\u001b[38;5;124m\"\u001b[39m,\u001b[38;5;124m\"\u001b[39m\u001b[38;5;124mVVS1\u001b[39m\u001b[38;5;124m\"\u001b[39m,\u001b[38;5;124m\"\u001b[39m\u001b[38;5;124mIF\u001b[39m\u001b[38;5;124m\"\u001b[39m]}\n\u001b[1;32m----> 4\u001b[0m \u001b[43mpreprocesamiento\u001b[49m\u001b[43m(\u001b[49m\u001b[43m[\u001b[49m\u001b[38;5;124;43m\"\u001b[39;49m\u001b[38;5;124;43mdepth\u001b[39;49m\u001b[38;5;124;43m\"\u001b[39;49m\u001b[43m,\u001b[49m\u001b[38;5;124;43m\"\u001b[39;49m\u001b[38;5;124;43mtable\u001b[39;49m\u001b[38;5;124;43m\"\u001b[39;49m\u001b[43m]\u001b[49m\u001b[43m,\u001b[49m\u001b[43m[\u001b[49m\u001b[38;5;124;43m\"\u001b[39;49m\u001b[38;5;124;43mx\u001b[39;49m\u001b[38;5;124;43m\"\u001b[39;49m\u001b[43m,\u001b[49m\u001b[38;5;124;43m\"\u001b[39;49m\u001b[38;5;124;43my\u001b[39;49m\u001b[38;5;124;43m\"\u001b[39;49m\u001b[43m,\u001b[49m\u001b[38;5;124;43m\"\u001b[39;49m\u001b[38;5;124;43mz\u001b[39;49m\u001b[38;5;124;43m\"\u001b[39;49m\u001b[43m]\u001b[49m\u001b[43m,\u001b[49m\u001b[43m[\u001b[49m\u001b[38;5;124;43m\"\u001b[39;49m\u001b[38;5;124;43mcarat\u001b[39;49m\u001b[38;5;124;43m\"\u001b[39;49m\u001b[43m]\u001b[49m\u001b[43m,\u001b[49m\u001b[43m[\u001b[49m\u001b[38;5;124;43m\"\u001b[39;49m\u001b[38;5;124;43mcut\u001b[39;49m\u001b[38;5;124;43m\"\u001b[39;49m\u001b[43m,\u001b[49m\u001b[38;5;124;43m\"\u001b[39;49m\u001b[38;5;124;43mcolor\u001b[39;49m\u001b[38;5;124;43m\"\u001b[39;49m\u001b[43m,\u001b[49m\u001b[38;5;124;43m\"\u001b[39;49m\u001b[38;5;124;43mclarity\u001b[39;49m\u001b[38;5;124;43m\"\u001b[39;49m\u001b[43m]\u001b[49m\u001b[43m,\u001b[49m\u001b[43m \u001b[49m\u001b[43morden\u001b[49m\u001b[43m,\u001b[49m\u001b[43m[\u001b[49m\u001b[43m]\u001b[49m\u001b[43m,\u001b[49m\u001b[43m[\u001b[49m\u001b[43m]\u001b[49m\u001b[43m,\u001b[49m\u001b[43mdf_train\u001b[49m\u001b[43m,\u001b[49m\u001b[43mdf_test\u001b[49m\u001b[43m,\u001b[49m\u001b[43mdf_val\u001b[49m\u001b[43m)\u001b[49m\n",
      "Input \u001b[1;32mIn [92]\u001b[0m, in \u001b[0;36mpreprocesamiento\u001b[1;34m(minmax, standard, bucketizing, ordinal_encoding, orden_ordinal, label_encoding, fecha, data_train, data_test, data_val)\u001b[0m\n\u001b[0;32m     30\u001b[0m \u001b[38;5;28;01mfor\u001b[39;00m x \u001b[38;5;129;01min\u001b[39;00m ordinal_encoding:\n\u001b[0;32m     31\u001b[0m     ordinalencoder \u001b[38;5;241m=\u001b[39m OrdinalEncoder(categories\u001b[38;5;241m=\u001b[39m[orden_ordinal[x]])\n\u001b[1;32m---> 32\u001b[0m     data_train[[x]] \u001b[38;5;241m=\u001b[39m \u001b[43mordinalencoder\u001b[49m\u001b[38;5;241;43m.\u001b[39;49m\u001b[43mfit_transform\u001b[49m\u001b[43m(\u001b[49m\u001b[43mdata_train\u001b[49m\u001b[43m[\u001b[49m\u001b[43m[\u001b[49m\u001b[43mx\u001b[49m\u001b[43m]\u001b[49m\u001b[43m]\u001b[49m\u001b[43m)\u001b[49m\n\u001b[0;32m     33\u001b[0m     data_test[[x]] \u001b[38;5;241m=\u001b[39m ordinalencoder\u001b[38;5;241m.\u001b[39mtransform(data_test[[x]])\n\u001b[0;32m     34\u001b[0m     \u001b[38;5;28;01mif\u001b[39;00m data_val \u001b[38;5;129;01mis\u001b[39;00m \u001b[38;5;129;01mnot\u001b[39;00m \u001b[38;5;28;01mNone\u001b[39;00m:\n",
      "File \u001b[1;32mN:\\programas\\Python\\Python310\\lib\\site-packages\\sklearn\\base.py:852\u001b[0m, in \u001b[0;36mTransformerMixin.fit_transform\u001b[1;34m(self, X, y, **fit_params)\u001b[0m\n\u001b[0;32m    848\u001b[0m \u001b[38;5;66;03m# non-optimized default implementation; override when a better\u001b[39;00m\n\u001b[0;32m    849\u001b[0m \u001b[38;5;66;03m# method is possible for a given clustering algorithm\u001b[39;00m\n\u001b[0;32m    850\u001b[0m \u001b[38;5;28;01mif\u001b[39;00m y \u001b[38;5;129;01mis\u001b[39;00m \u001b[38;5;28;01mNone\u001b[39;00m:\n\u001b[0;32m    851\u001b[0m     \u001b[38;5;66;03m# fit method of arity 1 (unsupervised transformation)\u001b[39;00m\n\u001b[1;32m--> 852\u001b[0m     \u001b[38;5;28;01mreturn\u001b[39;00m \u001b[38;5;28mself\u001b[39m\u001b[38;5;241m.\u001b[39mfit(X, \u001b[38;5;241m*\u001b[39m\u001b[38;5;241m*\u001b[39mfit_params)\u001b[38;5;241m.\u001b[39mtransform(X)\n\u001b[0;32m    853\u001b[0m \u001b[38;5;28;01melse\u001b[39;00m:\n\u001b[0;32m    854\u001b[0m     \u001b[38;5;66;03m# fit method of arity 2 (supervised transformation)\u001b[39;00m\n\u001b[0;32m    855\u001b[0m     \u001b[38;5;28;01mreturn\u001b[39;00m \u001b[38;5;28mself\u001b[39m\u001b[38;5;241m.\u001b[39mfit(X, y, \u001b[38;5;241m*\u001b[39m\u001b[38;5;241m*\u001b[39mfit_params)\u001b[38;5;241m.\u001b[39mtransform(X)\n",
      "File \u001b[1;32mN:\\programas\\Python\\Python310\\lib\\site-packages\\sklearn\\preprocessing\\_encoders.py:886\u001b[0m, in \u001b[0;36mOrdinalEncoder.fit\u001b[1;34m(self, X, y)\u001b[0m\n\u001b[0;32m    879\u001b[0m     \u001b[38;5;28;01mraise\u001b[39;00m \u001b[38;5;167;01mTypeError\u001b[39;00m(\n\u001b[0;32m    880\u001b[0m         \u001b[38;5;124m\"\u001b[39m\u001b[38;5;124munknown_value should only be set when \u001b[39m\u001b[38;5;124m\"\u001b[39m\n\u001b[0;32m    881\u001b[0m         \u001b[38;5;124m\"\u001b[39m\u001b[38;5;124mhandle_unknown is \u001b[39m\u001b[38;5;124m'\u001b[39m\u001b[38;5;124muse_encoded_value\u001b[39m\u001b[38;5;124m'\u001b[39m\u001b[38;5;124m, \u001b[39m\u001b[38;5;124m\"\u001b[39m\n\u001b[0;32m    882\u001b[0m         \u001b[38;5;124mf\u001b[39m\u001b[38;5;124m\"\u001b[39m\u001b[38;5;124mgot \u001b[39m\u001b[38;5;132;01m{\u001b[39;00m\u001b[38;5;28mself\u001b[39m\u001b[38;5;241m.\u001b[39munknown_value\u001b[38;5;132;01m}\u001b[39;00m\u001b[38;5;124m.\u001b[39m\u001b[38;5;124m\"\u001b[39m\n\u001b[0;32m    883\u001b[0m     )\n\u001b[0;32m    885\u001b[0m \u001b[38;5;66;03m# `_fit` will only raise an error when `self.handle_unknown=\"error\"`\u001b[39;00m\n\u001b[1;32m--> 886\u001b[0m \u001b[38;5;28;43mself\u001b[39;49m\u001b[38;5;241;43m.\u001b[39;49m\u001b[43m_fit\u001b[49m\u001b[43m(\u001b[49m\u001b[43mX\u001b[49m\u001b[43m,\u001b[49m\u001b[43m \u001b[49m\u001b[43mhandle_unknown\u001b[49m\u001b[38;5;241;43m=\u001b[39;49m\u001b[38;5;28;43mself\u001b[39;49m\u001b[38;5;241;43m.\u001b[39;49m\u001b[43mhandle_unknown\u001b[49m\u001b[43m,\u001b[49m\u001b[43m \u001b[49m\u001b[43mforce_all_finite\u001b[49m\u001b[38;5;241;43m=\u001b[39;49m\u001b[38;5;124;43m\"\u001b[39;49m\u001b[38;5;124;43mallow-nan\u001b[39;49m\u001b[38;5;124;43m\"\u001b[39;49m\u001b[43m)\u001b[49m\n\u001b[0;32m    888\u001b[0m \u001b[38;5;28;01mif\u001b[39;00m \u001b[38;5;28mself\u001b[39m\u001b[38;5;241m.\u001b[39mhandle_unknown \u001b[38;5;241m==\u001b[39m \u001b[38;5;124m\"\u001b[39m\u001b[38;5;124muse_encoded_value\u001b[39m\u001b[38;5;124m\"\u001b[39m:\n\u001b[0;32m    889\u001b[0m     \u001b[38;5;28;01mfor\u001b[39;00m feature_cats \u001b[38;5;129;01min\u001b[39;00m \u001b[38;5;28mself\u001b[39m\u001b[38;5;241m.\u001b[39mcategories_:\n",
      "File \u001b[1;32mN:\\programas\\Python\\Python310\\lib\\site-packages\\sklearn\\preprocessing\\_encoders.py:116\u001b[0m, in \u001b[0;36m_BaseEncoder._fit\u001b[1;34m(self, X, handle_unknown, force_all_finite)\u001b[0m\n\u001b[0;32m    111\u001b[0m         \u001b[38;5;28;01mif\u001b[39;00m diff:\n\u001b[0;32m    112\u001b[0m             msg \u001b[38;5;241m=\u001b[39m (\n\u001b[0;32m    113\u001b[0m                 \u001b[38;5;124m\"\u001b[39m\u001b[38;5;124mFound unknown categories \u001b[39m\u001b[38;5;132;01m{0}\u001b[39;00m\u001b[38;5;124m in column \u001b[39m\u001b[38;5;132;01m{1}\u001b[39;00m\u001b[38;5;124m\"\u001b[39m\n\u001b[0;32m    114\u001b[0m                 \u001b[38;5;124m\"\u001b[39m\u001b[38;5;124m during fit\u001b[39m\u001b[38;5;124m\"\u001b[39m\u001b[38;5;241m.\u001b[39mformat(diff, i)\n\u001b[0;32m    115\u001b[0m             )\n\u001b[1;32m--> 116\u001b[0m             \u001b[38;5;28;01mraise\u001b[39;00m \u001b[38;5;167;01mValueError\u001b[39;00m(msg)\n\u001b[0;32m    117\u001b[0m \u001b[38;5;28mself\u001b[39m\u001b[38;5;241m.\u001b[39mcategories_\u001b[38;5;241m.\u001b[39mappend(cats)\n",
      "\u001b[1;31mValueError\u001b[0m: Found unknown categories ['I', 'H', 'F', 'G', 'E'] in column 0 during fit"
     ]
    }
   ],
   "source": [
    "# Llamar a la funcion\n",
    "orden = {\"cut\":[\"Fair\", \"Good\", \"Very Good\", \"Premium\", \"Ideal\"],\"color\":[\"J\",\"D\"],\"clarity\":[\"I1\",\"SI2\",\"SI1\",\"VS2\",\"VS1\",\"VVS2\",\"VVS1\",\"IF\"]}\n",
    "\n",
    "preprocesamiento([\"depth\",\"table\"],[\"x\",\"y\",\"z\"],[\"carat\"],[\"cut\",\"color\",\"clarity\"], orden,[],[],df_train,df_test,df_val)"
   ]
  },
  {
   "cell_type": "markdown",
   "metadata": {
    "id": "Wmm0DHsRZhOt"
   },
   "source": [
    "## Entrenamiento"
   ]
  },
  {
   "cell_type": "markdown",
   "metadata": {
    "id": "ycjehddFfApb"
   },
   "source": [
    "Para la parte de entrenamiento vamos a utilizar tres modelos:\n",
    "\n",
    "*   Lasso\n",
    "*   Ridge\n",
    "*   Linear Regression\n",
    "\n",
    "Para la elección del mejor modelo se considerará la evaluación de 2 métricas distintas para regresión (MSE y MAE) y se utilizara `K-Fold Cross Validation\n"
   ]
  },
  {
   "cell_type": "markdown",
   "metadata": {
    "id": "Gfs-YVn4fCti"
   },
   "source": [
    "**Implemente las siguientes funciones y entrene cada modelo utilizando K-Fold cross validation con K=10 y genere un gráfico de tipo boxplot con los resultados obtenidos por modelo. Finalmente comente cual es el mejor modelo en base a tiempo de entrenamiento y score obtenido** [3 Pts]"
   ]
  },
  {
   "cell_type": "code",
   "execution_count": null,
   "metadata": {
    "id": "f2UlWi8Vezl-"
   },
   "outputs": [],
   "source": [
    "# Divida la data en X_train, y_train, ... X_test, y_test\n",
    "### START CODE HERE ###"
   ]
  },
  {
   "cell_type": "code",
   "execution_count": null,
   "metadata": {
    "id": "WZMb8PzxfnRD"
   },
   "outputs": [],
   "source": [
    "# Funcion que computa las metricas mse y mae dado el modelo y el conjunto de testing\n",
    "### START CODE HERE ###"
   ]
  },
  {
   "cell_type": "markdown",
   "metadata": {
    "id": "549cZ2VAhHLt"
   },
   "source": [
    "**Defina como se calcula cada una de las siguientes métricas** [1 Pts]\n"
   ]
  },
  {
   "cell_type": "markdown",
   "metadata": {
    "id": "jDZOHizuhMEI"
   },
   "source": [
    "\n",
    "*   `MSE`: \n",
    "*   `MAE`: "
   ]
  },
  {
   "cell_type": "code",
   "execution_count": null,
   "metadata": {
    "id": "VF8UnEDZhTJg"
   },
   "outputs": [],
   "source": [
    "# Funcion que entrena los modelos utilizando K-Fold\n",
    "### START CODE HERE ###"
   ]
  },
  {
   "cell_type": "code",
   "execution_count": null,
   "metadata": {
    "id": "Sz1ZUqcMiFhl"
   },
   "outputs": [],
   "source": [
    "# Boxplot con los resultados de K-Fold para cada modelo\n",
    "### START CODE HERE ###"
   ]
  },
  {
   "cell_type": "markdown",
   "metadata": {
    "id": "-nIeB-5wi_jA"
   },
   "source": [
    "**Optimice los hiperparámetros para el mejor modelo utilizando el conjunto de validación** [2 Pts]"
   ]
  },
  {
   "cell_type": "code",
   "execution_count": null,
   "metadata": {
    "id": "eksSJIk8jFk2"
   },
   "outputs": [],
   "source": [
    "# Funcion que obtiene los mejores hiperparametros para el mejor modelo\n",
    "# seleccionado en la parte de K-Fold\n",
    "### START CODE HERE ###"
   ]
  },
  {
   "cell_type": "code",
   "execution_count": null,
   "metadata": {
    "id": "U_kJ2948jw4p"
   },
   "outputs": [],
   "source": [
    "# Llamar a la funcion\n",
    "### START CODE HERE ###"
   ]
  },
  {
   "cell_type": "code",
   "execution_count": null,
   "metadata": {
    "id": "_bWmiw8dkVWc"
   },
   "outputs": [],
   "source": [
    "# Mostrar los mejores hiperparametros\n",
    "### START CODE HERE ###"
   ]
  },
  {
   "cell_type": "markdown",
   "metadata": {
    "id": "JwqQVj3_jGTp"
   },
   "source": [
    "## Predicción"
   ]
  },
  {
   "cell_type": "markdown",
   "metadata": {
    "id": "WiRQgxZkkaXL"
   },
   "source": [
    "**Implemente una función que evalúe su mejor modelo utilizando el conjunto de testing haciendo uso de los mejores hiperparámetros, evalúe utilizando la función que calcula las 2 métricas** [2 Pts]"
   ]
  },
  {
   "cell_type": "code",
   "execution_count": null,
   "metadata": {
    "id": "BcPUV5gsjIWM"
   },
   "outputs": [],
   "source": [
    "# Funcion que evalua el mejor modelo con los hiperparametros encontrados anteriormente\n",
    "### START CODE HERE ###"
   ]
  },
  {
   "cell_type": "code",
   "execution_count": null,
   "metadata": {
    "id": "9erXy5vlk3nD"
   },
   "outputs": [],
   "source": [
    "# LLamar a la funcion\n",
    "### START CODE HERE ###"
   ]
  },
  {
   "cell_type": "code",
   "execution_count": null,
   "metadata": {
    "id": "H7tsAM_6k35z"
   },
   "outputs": [],
   "source": [
    "# Mostrar los resultados obtenidos en terminos de mse y mae\n",
    "### START CODE HERE ###"
   ]
  },
  {
   "cell_type": "markdown",
   "metadata": {
    "id": "bvqZDgAPlzFo"
   },
   "source": [
    "## Feature Selection"
   ]
  },
  {
   "cell_type": "markdown",
   "metadata": {
    "id": "oNSyYwEvmIQH"
   },
   "source": [
    "\n",
    "**Implemente la selección de features utilizando Mutual Information, RFE, Ridge/Lasso y PCA. Finalmente entrene nuevamente el algoritmo seleccionado para cada caso con sus respectivos hiperparametros y grafique los resultados obtenidos para cada método** [4 Pts]\n"
   ]
  },
  {
   "cell_type": "markdown",
   "metadata": {
    "id": "xoa9cXt5m386"
   },
   "source": [
    "\n",
    "*   `Mutual Information`: Seleccionar features considerando solo el percentil 50 \n",
    "*   `RFE`: Seleccionar como máximo 5 features\n",
    "\n",
    "*   `Ridge/Lasso`: Si selecciono como modelo base Ridge usar Lasso para feature selection y viceversa, si selecciono Linear Regression puede implementar libremente cualquiera de las dos\n",
    "\n",
    "*   `PCA`: Utilizar 5 componentes\n",
    "\n",
    "\n",
    "\n"
   ]
  },
  {
   "cell_type": "code",
   "execution_count": null,
   "metadata": {
    "id": "Z1Q7nRwul1l1"
   },
   "outputs": [],
   "source": [
    "# Funcion que aplica las tecnicas de preprocesamiento indicadas\n",
    "### START CODE HERE ###"
   ]
  },
  {
   "cell_type": "code",
   "execution_count": null,
   "metadata": {
    "id": "sLS7ABTJspH2"
   },
   "outputs": [],
   "source": [
    "# Llamar a la funcion\n",
    "### START CODE HERE ###"
   ]
  },
  {
   "cell_type": "code",
   "execution_count": null,
   "metadata": {
    "id": "bBqFZegps6CC"
   },
   "outputs": [],
   "source": [
    "# Graficar los resultados obtenidos\n",
    "### START CODE HERE ###"
   ]
  },
  {
   "cell_type": "markdown",
   "metadata": {
    "id": "9cNgGcMct_f0"
   },
   "source": [
    "**Comente sobre los resultados obtenidos y respecto su opinión respecto al uso de Feature Selection?** [2 Pts]"
   ]
  },
  {
   "cell_type": "markdown",
   "metadata": {
    "id": "hsXc1miltbSC"
   },
   "source": [
    "`Comentario`: "
   ]
  },
  {
   "cell_type": "markdown",
   "metadata": {
    "id": "PRfCrP9BU424"
   },
   "source": [
    "# 2) Warm up para las próximas tareas 🏆\n",
    "\n"
   ]
  },
  {
   "cell_type": "markdown",
   "metadata": {
    "id": "oolbCtaH9NUc"
   },
   "source": [
    "Para la última parte intentaremos prepararlos para las próximas tareas en la cuales se les presentara un dataset y tendrán que competir para obtener el mejor score en el conjunto de testing, así que se recomienda jugar harto con el dataset y recuerden que entrenar un modelo es un proceso iterativo"
   ]
  },
  {
   "cell_type": "markdown",
   "metadata": {
    "id": "sUa2OW6BBrpN"
   },
   "source": [
    "<img src=\"https://drive.google.com/uc?id=1KlleL_2AfK87Llz1CvGIXSBszprRgCoY\" width=\"60%\"/>\n",
    "\n",
    "\n",
    "[Referencia](https://www.elagoradiario.com/desarrollo-sostenible/cambio-climatico/el-viento-aumentado-7-ultima-decada/)"
   ]
  },
  {
   "cell_type": "markdown",
   "metadata": {
    "id": "h2qlyvntFqni"
   },
   "source": [
    "El dataset con el cual van a trabajar consta de predecir una variable binaria relacionada con predecir si un molino de viento va a tener una falla o no utilizando 170 features los cuales por temas de privacidad se encuentran anonimizados.\n",
    "\n",
    "Features:\n",
    "\n",
    "* `aa_000-eg_000`: Variables de origen desconocido\n",
    "\n",
    "Target:\n",
    "\n",
    "* `class`: Predicción de la falla\n",
    "\n",
    "\n",
    "Se les proporcionará el conjunto de testing para que todos evalúen en el mismo conjunto y se les pedirá que ademas antes de subir su tarea rellenen en un formulario cual es el score que obtuvieron en esta última parte para el conjunto de testing considerando como métrica `Cost` la que se define más abajo"
   ]
  },
  {
   "cell_type": "code",
   "execution_count": null,
   "metadata": {
    "id": "jeDihlApFBld"
   },
   "outputs": [],
   "source": [
    "PATH_TO_TRAIN_CSV = os.path.join(path, \"tarea_1_train.csv\")\n",
    "PATH_TO_TEST_CSV = os.path.join(path, \"tarea_1_test.csv\")\n",
    "df_train = pd.read_csv(PATH_TO_TRAIN_CSV)\n",
    "df_test = pd.read_csv(PATH_TO_TEST_CSV)"
   ]
  },
  {
   "cell_type": "code",
   "execution_count": null,
   "metadata": {
    "colab": {
     "base_uri": "https://localhost:8080/",
     "height": 253
    },
    "id": "mcjj2_Ikakv2",
    "outputId": "33c2b0b8-887c-4e8c-d6ba-2e90b227cf55"
   },
   "outputs": [
    {
     "name": "stdout",
     "output_type": "stream",
     "text": [
      "Number of examples for training: 60000\n"
     ]
    },
    {
     "data": {
      "text/html": [
       "\n",
       "  <div id=\"df-38b0cff5-4e4a-46d7-b938-12ff8b69b818\">\n",
       "    <div class=\"colab-df-container\">\n",
       "      <div>\n",
       "<style scoped>\n",
       "    .dataframe tbody tr th:only-of-type {\n",
       "        vertical-align: middle;\n",
       "    }\n",
       "\n",
       "    .dataframe tbody tr th {\n",
       "        vertical-align: top;\n",
       "    }\n",
       "\n",
       "    .dataframe thead th {\n",
       "        text-align: right;\n",
       "    }\n",
       "</style>\n",
       "<table border=\"1\" class=\"dataframe\">\n",
       "  <thead>\n",
       "    <tr style=\"text-align: right;\">\n",
       "      <th></th>\n",
       "      <th>class</th>\n",
       "      <th>aa_000</th>\n",
       "      <th>ab_000</th>\n",
       "      <th>ac_000</th>\n",
       "      <th>ad_000</th>\n",
       "      <th>ae_000</th>\n",
       "      <th>af_000</th>\n",
       "      <th>ag_000</th>\n",
       "      <th>ag_001</th>\n",
       "      <th>ag_002</th>\n",
       "      <th>...</th>\n",
       "      <th>ee_002</th>\n",
       "      <th>ee_003</th>\n",
       "      <th>ee_004</th>\n",
       "      <th>ee_005</th>\n",
       "      <th>ee_006</th>\n",
       "      <th>ee_007</th>\n",
       "      <th>ee_008</th>\n",
       "      <th>ee_009</th>\n",
       "      <th>ef_000</th>\n",
       "      <th>eg_000</th>\n",
       "    </tr>\n",
       "  </thead>\n",
       "  <tbody>\n",
       "    <tr>\n",
       "      <th>0</th>\n",
       "      <td>neg</td>\n",
       "      <td>76698</td>\n",
       "      <td>na</td>\n",
       "      <td>2130706438</td>\n",
       "      <td>280</td>\n",
       "      <td>0</td>\n",
       "      <td>0</td>\n",
       "      <td>0</td>\n",
       "      <td>0</td>\n",
       "      <td>0</td>\n",
       "      <td>...</td>\n",
       "      <td>1240520</td>\n",
       "      <td>493384</td>\n",
       "      <td>721044</td>\n",
       "      <td>469792</td>\n",
       "      <td>339156</td>\n",
       "      <td>157956</td>\n",
       "      <td>73224</td>\n",
       "      <td>0</td>\n",
       "      <td>0</td>\n",
       "      <td>0</td>\n",
       "    </tr>\n",
       "    <tr>\n",
       "      <th>1</th>\n",
       "      <td>neg</td>\n",
       "      <td>33058</td>\n",
       "      <td>na</td>\n",
       "      <td>0</td>\n",
       "      <td>na</td>\n",
       "      <td>0</td>\n",
       "      <td>0</td>\n",
       "      <td>0</td>\n",
       "      <td>0</td>\n",
       "      <td>0</td>\n",
       "      <td>...</td>\n",
       "      <td>421400</td>\n",
       "      <td>178064</td>\n",
       "      <td>293306</td>\n",
       "      <td>245416</td>\n",
       "      <td>133654</td>\n",
       "      <td>81140</td>\n",
       "      <td>97576</td>\n",
       "      <td>1500</td>\n",
       "      <td>0</td>\n",
       "      <td>0</td>\n",
       "    </tr>\n",
       "    <tr>\n",
       "      <th>2</th>\n",
       "      <td>neg</td>\n",
       "      <td>41040</td>\n",
       "      <td>na</td>\n",
       "      <td>228</td>\n",
       "      <td>100</td>\n",
       "      <td>0</td>\n",
       "      <td>0</td>\n",
       "      <td>0</td>\n",
       "      <td>0</td>\n",
       "      <td>0</td>\n",
       "      <td>...</td>\n",
       "      <td>277378</td>\n",
       "      <td>159812</td>\n",
       "      <td>423992</td>\n",
       "      <td>409564</td>\n",
       "      <td>320746</td>\n",
       "      <td>158022</td>\n",
       "      <td>95128</td>\n",
       "      <td>514</td>\n",
       "      <td>0</td>\n",
       "      <td>0</td>\n",
       "    </tr>\n",
       "    <tr>\n",
       "      <th>3</th>\n",
       "      <td>neg</td>\n",
       "      <td>12</td>\n",
       "      <td>0</td>\n",
       "      <td>70</td>\n",
       "      <td>66</td>\n",
       "      <td>0</td>\n",
       "      <td>10</td>\n",
       "      <td>0</td>\n",
       "      <td>0</td>\n",
       "      <td>0</td>\n",
       "      <td>...</td>\n",
       "      <td>240</td>\n",
       "      <td>46</td>\n",
       "      <td>58</td>\n",
       "      <td>44</td>\n",
       "      <td>10</td>\n",
       "      <td>0</td>\n",
       "      <td>0</td>\n",
       "      <td>0</td>\n",
       "      <td>4</td>\n",
       "      <td>32</td>\n",
       "    </tr>\n",
       "    <tr>\n",
       "      <th>4</th>\n",
       "      <td>neg</td>\n",
       "      <td>60874</td>\n",
       "      <td>na</td>\n",
       "      <td>1368</td>\n",
       "      <td>458</td>\n",
       "      <td>0</td>\n",
       "      <td>0</td>\n",
       "      <td>0</td>\n",
       "      <td>0</td>\n",
       "      <td>0</td>\n",
       "      <td>...</td>\n",
       "      <td>622012</td>\n",
       "      <td>229790</td>\n",
       "      <td>405298</td>\n",
       "      <td>347188</td>\n",
       "      <td>286954</td>\n",
       "      <td>311560</td>\n",
       "      <td>433954</td>\n",
       "      <td>1218</td>\n",
       "      <td>0</td>\n",
       "      <td>0</td>\n",
       "    </tr>\n",
       "  </tbody>\n",
       "</table>\n",
       "<p>5 rows × 171 columns</p>\n",
       "</div>\n",
       "      <button class=\"colab-df-convert\" onclick=\"convertToInteractive('df-38b0cff5-4e4a-46d7-b938-12ff8b69b818')\"\n",
       "              title=\"Convert this dataframe to an interactive table.\"\n",
       "              style=\"display:none;\">\n",
       "        \n",
       "  <svg xmlns=\"http://www.w3.org/2000/svg\" height=\"24px\"viewBox=\"0 0 24 24\"\n",
       "       width=\"24px\">\n",
       "    <path d=\"M0 0h24v24H0V0z\" fill=\"none\"/>\n",
       "    <path d=\"M18.56 5.44l.94 2.06.94-2.06 2.06-.94-2.06-.94-.94-2.06-.94 2.06-2.06.94zm-11 1L8.5 8.5l.94-2.06 2.06-.94-2.06-.94L8.5 2.5l-.94 2.06-2.06.94zm10 10l.94 2.06.94-2.06 2.06-.94-2.06-.94-.94-2.06-.94 2.06-2.06.94z\"/><path d=\"M17.41 7.96l-1.37-1.37c-.4-.4-.92-.59-1.43-.59-.52 0-1.04.2-1.43.59L10.3 9.45l-7.72 7.72c-.78.78-.78 2.05 0 2.83L4 21.41c.39.39.9.59 1.41.59.51 0 1.02-.2 1.41-.59l7.78-7.78 2.81-2.81c.8-.78.8-2.07 0-2.86zM5.41 20L4 18.59l7.72-7.72 1.47 1.35L5.41 20z\"/>\n",
       "  </svg>\n",
       "      </button>\n",
       "      \n",
       "  <style>\n",
       "    .colab-df-container {\n",
       "      display:flex;\n",
       "      flex-wrap:wrap;\n",
       "      gap: 12px;\n",
       "    }\n",
       "\n",
       "    .colab-df-convert {\n",
       "      background-color: #E8F0FE;\n",
       "      border: none;\n",
       "      border-radius: 50%;\n",
       "      cursor: pointer;\n",
       "      display: none;\n",
       "      fill: #1967D2;\n",
       "      height: 32px;\n",
       "      padding: 0 0 0 0;\n",
       "      width: 32px;\n",
       "    }\n",
       "\n",
       "    .colab-df-convert:hover {\n",
       "      background-color: #E2EBFA;\n",
       "      box-shadow: 0px 1px 2px rgba(60, 64, 67, 0.3), 0px 1px 3px 1px rgba(60, 64, 67, 0.15);\n",
       "      fill: #174EA6;\n",
       "    }\n",
       "\n",
       "    [theme=dark] .colab-df-convert {\n",
       "      background-color: #3B4455;\n",
       "      fill: #D2E3FC;\n",
       "    }\n",
       "\n",
       "    [theme=dark] .colab-df-convert:hover {\n",
       "      background-color: #434B5C;\n",
       "      box-shadow: 0px 1px 3px 1px rgba(0, 0, 0, 0.15);\n",
       "      filter: drop-shadow(0px 1px 2px rgba(0, 0, 0, 0.3));\n",
       "      fill: #FFFFFF;\n",
       "    }\n",
       "  </style>\n",
       "\n",
       "      <script>\n",
       "        const buttonEl =\n",
       "          document.querySelector('#df-38b0cff5-4e4a-46d7-b938-12ff8b69b818 button.colab-df-convert');\n",
       "        buttonEl.style.display =\n",
       "          google.colab.kernel.accessAllowed ? 'block' : 'none';\n",
       "\n",
       "        async function convertToInteractive(key) {\n",
       "          const element = document.querySelector('#df-38b0cff5-4e4a-46d7-b938-12ff8b69b818');\n",
       "          const dataTable =\n",
       "            await google.colab.kernel.invokeFunction('convertToInteractive',\n",
       "                                                     [key], {});\n",
       "          if (!dataTable) return;\n",
       "\n",
       "          const docLinkHtml = 'Like what you see? Visit the ' +\n",
       "            '<a target=\"_blank\" href=https://colab.research.google.com/notebooks/data_table.ipynb>data table notebook</a>'\n",
       "            + ' to learn more about interactive tables.';\n",
       "          element.innerHTML = '';\n",
       "          dataTable['output_type'] = 'display_data';\n",
       "          await google.colab.output.renderOutput(dataTable, element);\n",
       "          const docLink = document.createElement('div');\n",
       "          docLink.innerHTML = docLinkHtml;\n",
       "          element.appendChild(docLink);\n",
       "        }\n",
       "      </script>\n",
       "    </div>\n",
       "  </div>\n",
       "  "
      ],
      "text/plain": [
       "  class  aa_000 ab_000      ac_000 ad_000 ae_000 af_000 ag_000 ag_001 ag_002  \\\n",
       "0   neg   76698     na  2130706438    280      0      0      0      0      0   \n",
       "1   neg   33058     na           0     na      0      0      0      0      0   \n",
       "2   neg   41040     na         228    100      0      0      0      0      0   \n",
       "3   neg      12      0          70     66      0     10      0      0      0   \n",
       "4   neg   60874     na        1368    458      0      0      0      0      0   \n",
       "\n",
       "   ...   ee_002  ee_003  ee_004  ee_005  ee_006  ee_007  ee_008 ee_009 ef_000  \\\n",
       "0  ...  1240520  493384  721044  469792  339156  157956   73224      0      0   \n",
       "1  ...   421400  178064  293306  245416  133654   81140   97576   1500      0   \n",
       "2  ...   277378  159812  423992  409564  320746  158022   95128    514      0   \n",
       "3  ...      240      46      58      44      10       0       0      0      4   \n",
       "4  ...   622012  229790  405298  347188  286954  311560  433954   1218      0   \n",
       "\n",
       "  eg_000  \n",
       "0      0  \n",
       "1      0  \n",
       "2      0  \n",
       "3     32  \n",
       "4      0  \n",
       "\n",
       "[5 rows x 171 columns]"
      ]
     },
     "execution_count": 288,
     "metadata": {},
     "output_type": "execute_result"
    }
   ],
   "source": [
    "print(f\"Number of examples for training: {len(df_train)}\")\n",
    "df_train.head()"
   ]
  },
  {
   "cell_type": "code",
   "execution_count": null,
   "metadata": {
    "colab": {
     "base_uri": "https://localhost:8080/",
     "height": 253
    },
    "id": "XmLgGdeFami0",
    "outputId": "a9c88141-5e05-4bfc-b6ca-af619e66a4ca"
   },
   "outputs": [
    {
     "name": "stdout",
     "output_type": "stream",
     "text": [
      "Number of examples for testing: 16000\n"
     ]
    },
    {
     "data": {
      "text/html": [
       "\n",
       "  <div id=\"df-e69ad8f4-179b-4c77-8b75-7504106069eb\">\n",
       "    <div class=\"colab-df-container\">\n",
       "      <div>\n",
       "<style scoped>\n",
       "    .dataframe tbody tr th:only-of-type {\n",
       "        vertical-align: middle;\n",
       "    }\n",
       "\n",
       "    .dataframe tbody tr th {\n",
       "        vertical-align: top;\n",
       "    }\n",
       "\n",
       "    .dataframe thead th {\n",
       "        text-align: right;\n",
       "    }\n",
       "</style>\n",
       "<table border=\"1\" class=\"dataframe\">\n",
       "  <thead>\n",
       "    <tr style=\"text-align: right;\">\n",
       "      <th></th>\n",
       "      <th>class</th>\n",
       "      <th>aa_000</th>\n",
       "      <th>ab_000</th>\n",
       "      <th>ac_000</th>\n",
       "      <th>ad_000</th>\n",
       "      <th>ae_000</th>\n",
       "      <th>af_000</th>\n",
       "      <th>ag_000</th>\n",
       "      <th>ag_001</th>\n",
       "      <th>ag_002</th>\n",
       "      <th>...</th>\n",
       "      <th>ee_002</th>\n",
       "      <th>ee_003</th>\n",
       "      <th>ee_004</th>\n",
       "      <th>ee_005</th>\n",
       "      <th>ee_006</th>\n",
       "      <th>ee_007</th>\n",
       "      <th>ee_008</th>\n",
       "      <th>ee_009</th>\n",
       "      <th>ef_000</th>\n",
       "      <th>eg_000</th>\n",
       "    </tr>\n",
       "  </thead>\n",
       "  <tbody>\n",
       "    <tr>\n",
       "      <th>0</th>\n",
       "      <td>neg</td>\n",
       "      <td>60</td>\n",
       "      <td>0</td>\n",
       "      <td>20</td>\n",
       "      <td>12</td>\n",
       "      <td>0</td>\n",
       "      <td>0</td>\n",
       "      <td>0</td>\n",
       "      <td>0</td>\n",
       "      <td>0</td>\n",
       "      <td>...</td>\n",
       "      <td>1098</td>\n",
       "      <td>138</td>\n",
       "      <td>412</td>\n",
       "      <td>654</td>\n",
       "      <td>78</td>\n",
       "      <td>88</td>\n",
       "      <td>0</td>\n",
       "      <td>0</td>\n",
       "      <td>0</td>\n",
       "      <td>0</td>\n",
       "    </tr>\n",
       "    <tr>\n",
       "      <th>1</th>\n",
       "      <td>neg</td>\n",
       "      <td>82</td>\n",
       "      <td>0</td>\n",
       "      <td>68</td>\n",
       "      <td>40</td>\n",
       "      <td>0</td>\n",
       "      <td>0</td>\n",
       "      <td>0</td>\n",
       "      <td>0</td>\n",
       "      <td>0</td>\n",
       "      <td>...</td>\n",
       "      <td>1068</td>\n",
       "      <td>276</td>\n",
       "      <td>1620</td>\n",
       "      <td>116</td>\n",
       "      <td>86</td>\n",
       "      <td>462</td>\n",
       "      <td>0</td>\n",
       "      <td>0</td>\n",
       "      <td>0</td>\n",
       "      <td>0</td>\n",
       "    </tr>\n",
       "    <tr>\n",
       "      <th>2</th>\n",
       "      <td>neg</td>\n",
       "      <td>66002</td>\n",
       "      <td>2</td>\n",
       "      <td>212</td>\n",
       "      <td>112</td>\n",
       "      <td>0</td>\n",
       "      <td>0</td>\n",
       "      <td>0</td>\n",
       "      <td>0</td>\n",
       "      <td>0</td>\n",
       "      <td>...</td>\n",
       "      <td>495076</td>\n",
       "      <td>380368</td>\n",
       "      <td>440134</td>\n",
       "      <td>269556</td>\n",
       "      <td>1315022</td>\n",
       "      <td>153680</td>\n",
       "      <td>516</td>\n",
       "      <td>0</td>\n",
       "      <td>0</td>\n",
       "      <td>0</td>\n",
       "    </tr>\n",
       "    <tr>\n",
       "      <th>3</th>\n",
       "      <td>neg</td>\n",
       "      <td>59816</td>\n",
       "      <td>na</td>\n",
       "      <td>1010</td>\n",
       "      <td>936</td>\n",
       "      <td>0</td>\n",
       "      <td>0</td>\n",
       "      <td>0</td>\n",
       "      <td>0</td>\n",
       "      <td>0</td>\n",
       "      <td>...</td>\n",
       "      <td>540820</td>\n",
       "      <td>243270</td>\n",
       "      <td>483302</td>\n",
       "      <td>485332</td>\n",
       "      <td>431376</td>\n",
       "      <td>210074</td>\n",
       "      <td>281662</td>\n",
       "      <td>3232</td>\n",
       "      <td>0</td>\n",
       "      <td>0</td>\n",
       "    </tr>\n",
       "    <tr>\n",
       "      <th>4</th>\n",
       "      <td>neg</td>\n",
       "      <td>1814</td>\n",
       "      <td>na</td>\n",
       "      <td>156</td>\n",
       "      <td>140</td>\n",
       "      <td>0</td>\n",
       "      <td>0</td>\n",
       "      <td>0</td>\n",
       "      <td>0</td>\n",
       "      <td>0</td>\n",
       "      <td>...</td>\n",
       "      <td>7646</td>\n",
       "      <td>4144</td>\n",
       "      <td>18466</td>\n",
       "      <td>49782</td>\n",
       "      <td>3176</td>\n",
       "      <td>482</td>\n",
       "      <td>76</td>\n",
       "      <td>0</td>\n",
       "      <td>0</td>\n",
       "      <td>0</td>\n",
       "    </tr>\n",
       "  </tbody>\n",
       "</table>\n",
       "<p>5 rows × 171 columns</p>\n",
       "</div>\n",
       "      <button class=\"colab-df-convert\" onclick=\"convertToInteractive('df-e69ad8f4-179b-4c77-8b75-7504106069eb')\"\n",
       "              title=\"Convert this dataframe to an interactive table.\"\n",
       "              style=\"display:none;\">\n",
       "        \n",
       "  <svg xmlns=\"http://www.w3.org/2000/svg\" height=\"24px\"viewBox=\"0 0 24 24\"\n",
       "       width=\"24px\">\n",
       "    <path d=\"M0 0h24v24H0V0z\" fill=\"none\"/>\n",
       "    <path d=\"M18.56 5.44l.94 2.06.94-2.06 2.06-.94-2.06-.94-.94-2.06-.94 2.06-2.06.94zm-11 1L8.5 8.5l.94-2.06 2.06-.94-2.06-.94L8.5 2.5l-.94 2.06-2.06.94zm10 10l.94 2.06.94-2.06 2.06-.94-2.06-.94-.94-2.06-.94 2.06-2.06.94z\"/><path d=\"M17.41 7.96l-1.37-1.37c-.4-.4-.92-.59-1.43-.59-.52 0-1.04.2-1.43.59L10.3 9.45l-7.72 7.72c-.78.78-.78 2.05 0 2.83L4 21.41c.39.39.9.59 1.41.59.51 0 1.02-.2 1.41-.59l7.78-7.78 2.81-2.81c.8-.78.8-2.07 0-2.86zM5.41 20L4 18.59l7.72-7.72 1.47 1.35L5.41 20z\"/>\n",
       "  </svg>\n",
       "      </button>\n",
       "      \n",
       "  <style>\n",
       "    .colab-df-container {\n",
       "      display:flex;\n",
       "      flex-wrap:wrap;\n",
       "      gap: 12px;\n",
       "    }\n",
       "\n",
       "    .colab-df-convert {\n",
       "      background-color: #E8F0FE;\n",
       "      border: none;\n",
       "      border-radius: 50%;\n",
       "      cursor: pointer;\n",
       "      display: none;\n",
       "      fill: #1967D2;\n",
       "      height: 32px;\n",
       "      padding: 0 0 0 0;\n",
       "      width: 32px;\n",
       "    }\n",
       "\n",
       "    .colab-df-convert:hover {\n",
       "      background-color: #E2EBFA;\n",
       "      box-shadow: 0px 1px 2px rgba(60, 64, 67, 0.3), 0px 1px 3px 1px rgba(60, 64, 67, 0.15);\n",
       "      fill: #174EA6;\n",
       "    }\n",
       "\n",
       "    [theme=dark] .colab-df-convert {\n",
       "      background-color: #3B4455;\n",
       "      fill: #D2E3FC;\n",
       "    }\n",
       "\n",
       "    [theme=dark] .colab-df-convert:hover {\n",
       "      background-color: #434B5C;\n",
       "      box-shadow: 0px 1px 3px 1px rgba(0, 0, 0, 0.15);\n",
       "      filter: drop-shadow(0px 1px 2px rgba(0, 0, 0, 0.3));\n",
       "      fill: #FFFFFF;\n",
       "    }\n",
       "  </style>\n",
       "\n",
       "      <script>\n",
       "        const buttonEl =\n",
       "          document.querySelector('#df-e69ad8f4-179b-4c77-8b75-7504106069eb button.colab-df-convert');\n",
       "        buttonEl.style.display =\n",
       "          google.colab.kernel.accessAllowed ? 'block' : 'none';\n",
       "\n",
       "        async function convertToInteractive(key) {\n",
       "          const element = document.querySelector('#df-e69ad8f4-179b-4c77-8b75-7504106069eb');\n",
       "          const dataTable =\n",
       "            await google.colab.kernel.invokeFunction('convertToInteractive',\n",
       "                                                     [key], {});\n",
       "          if (!dataTable) return;\n",
       "\n",
       "          const docLinkHtml = 'Like what you see? Visit the ' +\n",
       "            '<a target=\"_blank\" href=https://colab.research.google.com/notebooks/data_table.ipynb>data table notebook</a>'\n",
       "            + ' to learn more about interactive tables.';\n",
       "          element.innerHTML = '';\n",
       "          dataTable['output_type'] = 'display_data';\n",
       "          await google.colab.output.renderOutput(dataTable, element);\n",
       "          const docLink = document.createElement('div');\n",
       "          docLink.innerHTML = docLinkHtml;\n",
       "          element.appendChild(docLink);\n",
       "        }\n",
       "      </script>\n",
       "    </div>\n",
       "  </div>\n",
       "  "
      ],
      "text/plain": [
       "  class  aa_000 ab_000 ac_000 ad_000 ae_000 af_000 ag_000 ag_001 ag_002  ...  \\\n",
       "0   neg      60      0     20     12      0      0      0      0      0  ...   \n",
       "1   neg      82      0     68     40      0      0      0      0      0  ...   \n",
       "2   neg   66002      2    212    112      0      0      0      0      0  ...   \n",
       "3   neg   59816     na   1010    936      0      0      0      0      0  ...   \n",
       "4   neg    1814     na    156    140      0      0      0      0      0  ...   \n",
       "\n",
       "   ee_002  ee_003  ee_004  ee_005   ee_006  ee_007  ee_008 ee_009 ef_000  \\\n",
       "0    1098     138     412     654       78      88       0      0      0   \n",
       "1    1068     276    1620     116       86     462       0      0      0   \n",
       "2  495076  380368  440134  269556  1315022  153680     516      0      0   \n",
       "3  540820  243270  483302  485332   431376  210074  281662   3232      0   \n",
       "4    7646    4144   18466   49782     3176     482      76      0      0   \n",
       "\n",
       "  eg_000  \n",
       "0      0  \n",
       "1      0  \n",
       "2      0  \n",
       "3      0  \n",
       "4      0  \n",
       "\n",
       "[5 rows x 171 columns]"
      ]
     },
     "execution_count": 289,
     "metadata": {},
     "output_type": "execute_result"
    }
   ],
   "source": [
    "print(f\"Number of examples for testing: {len(df_test)}\")\n",
    "df_test.head()"
   ]
  },
  {
   "cell_type": "markdown",
   "metadata": {
    "id": "-YqbPqz09O-W"
   },
   "source": [
    "**Entrene uno o si puede los 3 modelos revisados en la parte 1) y aplique lo aprendido en esta tarea para intentar obtener el mejor score en el conjunto de testing considerando una métrica especial que se define de la siguiente manera `Cost = 10*FP + 500*FN`** [30 Pts]"
   ]
  },
  {
   "cell_type": "markdown",
   "metadata": {
    "id": "2vFpJ86V5WJJ"
   },
   "source": [
    "Donde:\n",
    "*   `FP`: Número de falsos positivos\n",
    "*   `FN`: Número de falsos negativos\n",
    "\n",
    "\n",
    "\n"
   ]
  },
  {
   "cell_type": "markdown",
   "metadata": {
    "id": "Upv4yiqC8dvX"
   },
   "source": [
    "\n",
    "Se usa esa metrica en específico porque al predecir una falla el costo de un falso negativo es mucho mayor que la de un falso positivo, un FP seria mandar a una persona a que revise y haga un mantenimiento al molino mientras que un FN seria no hacer nada y esperar que falle, lo cual es mucho más costoso para una empresa. Se recomienda buscar información sobre el tema de desbalance de clases, data imputation y asymmetric cost function\n"
   ]
  },
  {
   "cell_type": "markdown",
   "metadata": {
    "id": "qm0_oixC-IOm"
   },
   "source": [
    "**BONUS del 10%** de la nota para los 5 equipos que obtengan el mejor score en el conjunto de testing. Esta permitido agregar la cantidad de celdas que requieran y también son libres de utilizar otras técnicas de feature engineer, feature selection o dimensionality reduction"
   ]
  },
  {
   "cell_type": "markdown",
   "metadata": {
    "id": "55-2xSsfnT0J"
   },
   "source": [
    "Baseline: `Cost` = 78.820\n",
    "- Código:\n",
    "```\n",
    "# Function to compute the score\n",
    "def cost(y_true, y_pred):\n",
    "  tn, fp, fn, tp = confusion_matrix(y_true, y_pred).ravel()\n",
    "  cost = 10*fp + 500*fn\n",
    "  return cost\n",
    "# Clean na values\n",
    "df_train = df_train.replace('na', np.NaN)\n",
    "df_train.fillna(0, inplace=True)\n",
    "df_test = df_test.replace('na', np.NaN)\n",
    "df_test.fillna(0, inplace=True)\n",
    "# Transform target\n",
    "encoder = LabelEncoder()\n",
    "df_train[\"class\"] = encoder.fit_transform(df_train[\"class\"])\n",
    "df_test[\"class\"] = encoder.transform(df_test[\"class\"])\n",
    "# Split data\n",
    "y_train = df_train.pop(\"class\")\n",
    "X_train = df_train\n",
    "y_test = df_test.pop(\"class\")\n",
    "X_test = df_test\n",
    "# Train a model\n",
    "model = LogisticRegression(C=25, random_state=SEED)\n",
    "model.fit(X_train, y_train)\n",
    "# Prediction\n",
    "y_pred = model.predict(X_test)\n",
    "# Compute score\n",
    "costo = cost(y_test, y_pred)\n",
    "print(f\"Costo Total: {costo}\")\n",
    "```"
   ]
  },
  {
   "cell_type": "code",
   "execution_count": null,
   "metadata": {
    "id": "6ZFGb71-U4ff"
   },
   "outputs": [],
   "source": [
    "### START CODE HERE ###\n"
   ]
  }
 ],
 "metadata": {
  "colab": {
   "collapsed_sections": [],
   "name": "Tarea1_ML_2022-1_no_code.ipynb",
   "provenance": [],
   "toc_visible": true
  },
  "kernelspec": {
   "display_name": "Python 3 (ipykernel)",
   "language": "python",
   "name": "python3"
  },
  "language_info": {
   "codemirror_mode": {
    "name": "ipython",
    "version": 3
   },
   "file_extension": ".py",
   "mimetype": "text/x-python",
   "name": "python",
   "nbconvert_exporter": "python",
   "pygments_lexer": "ipython3",
   "version": "3.10.2"
  }
 },
 "nbformat": 4,
 "nbformat_minor": 4
}
